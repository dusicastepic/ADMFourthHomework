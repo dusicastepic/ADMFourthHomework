{
 "cells": [
  {
   "cell_type": "markdown",
   "metadata": {},
   "source": [
    "# Hashing"
   ]
  },
  {
   "cell_type": "markdown",
   "metadata": {},
   "source": [
    "### Loading passwords file"
   ]
  },
  {
   "cell_type": "code",
   "execution_count": 1,
   "metadata": {},
   "outputs": [],
   "source": [
    "fname = \"C:/Users/sanch/Downloads/passwords2.txt\"\n",
    "with open(fname) as f:\n",
    "    content = f.read().splitlines() "
   ]
  },
  {
   "cell_type": "code",
   "execution_count": 82,
   "metadata": {},
   "outputs": [
    {
     "data": {
      "text/plain": [
       "['OHcv-/U3QI$rdqYTef\"D',\n",
       " 'QtA*.xM$e(+\"aO36r&Uo',\n",
       " \"T;rqw/ou'HN-Pklj6hM*\",\n",
       " 'b%xJ79\"A*C5@ehMfS3lu',\n",
       " 'buI=;LpjBiCm\"JS5\\'#xy']"
      ]
     },
     "execution_count": 82,
     "metadata": {},
     "output_type": "execute_result"
    }
   ],
   "source": [
    "content[:5]"
   ]
  },
  {
   "cell_type": "code",
   "execution_count": 10,
   "metadata": {},
   "outputs": [
    {
     "data": {
      "text/plain": [
       "110000000"
      ]
     },
     "execution_count": 10,
     "metadata": {},
     "output_type": "execute_result"
    }
   ],
   "source": [
    "len(content) # Length of the file passwords2.txt"
   ]
  },
  {
   "cell_type": "markdown",
   "metadata": {},
   "source": [
    "### Proccess file hashing the passwords\n",
    "\"AABA\" = \"AAAB\""
   ]
  },
  {
   "cell_type": "code",
   "execution_count": 107,
   "metadata": {},
   "outputs": [],
   "source": [
    "#list_hashed = []\n",
    "def hash_code(s, radix=128, mod=len(content)+1):\n",
    "    pwr = 1\n",
    "    result = 0\n",
    "    list_int_values = [ord(c) for c in s]\n",
    "    list_int_values.sort()\n",
    "    for char_ascii in list_int_values:\n",
    "        result = (result + (char_ascii*pwr)%mod)%mod\n",
    "        pwr = (pwr*radix)%mod \n",
    "    return result"
   ]
  },
  {
   "cell_type": "code",
   "execution_count": 84,
   "metadata": {},
   "outputs": [],
   "source": [
    "# Hash every password\n",
    "for password in content:\n",
    "    list_hashed.append(hash_code(password))"
   ]
  },
  {
   "cell_type": "code",
   "execution_count": 3,
   "metadata": {},
   "outputs": [
    {
     "data": {
      "text/plain": [
       "['75743628', '6608572', '9044644', '48192011', '102521268']"
      ]
     },
     "execution_count": 3,
     "metadata": {},
     "output_type": "execute_result"
    }
   ],
   "source": [
    "list_hashed[0:5]"
   ]
  },
  {
   "cell_type": "code",
   "execution_count": 90,
   "metadata": {},
   "outputs": [
    {
     "data": {
      "text/plain": [
       "110000000"
      ]
     },
     "execution_count": 90,
     "metadata": {},
     "output_type": "execute_result"
    }
   ],
   "source": [
    "len(list_hashed)"
   ]
  },
  {
   "cell_type": "code",
   "execution_count": 131,
   "metadata": {},
   "outputs": [
    {
     "data": {
      "text/plain": [
       "65684397"
      ]
     },
     "execution_count": 131,
     "metadata": {},
     "output_type": "execute_result"
    }
   ],
   "source": [
    "len(set(list_hashed))"
   ]
  },
  {
   "cell_type": "code",
   "execution_count": 89,
   "metadata": {},
   "outputs": [],
   "source": [
    "# Write the list into a file\n",
    "with open('passwords_hashed.csv', 'w') as f:\n",
    "    for item in list_hashed:\n",
    "        f.write(\"%s\\n\" % item)"
   ]
  },
  {
   "cell_type": "markdown",
   "metadata": {},
   "source": [
    "### Finding false duplicates"
   ]
  },
  {
   "cell_type": "code",
   "execution_count": 1,
   "metadata": {},
   "outputs": [],
   "source": [
    "fname = \"passwords_hashed.csv\"\n",
    "with open(fname) as f:\n",
    "    list_hashed = f.read().splitlines()"
   ]
  },
  {
   "cell_type": "code",
   "execution_count": 2,
   "metadata": {},
   "outputs": [
    {
     "data": {
      "text/plain": [
       "['75743628', '6608572', '9044644', '48192011', '102521268']"
      ]
     },
     "execution_count": 2,
     "metadata": {},
     "output_type": "execute_result"
    }
   ],
   "source": [
    "list_hashed[0:5]"
   ]
  },
  {
   "cell_type": "code",
   "execution_count": 115,
   "metadata": {},
   "outputs": [],
   "source": [
    "def list_duplicates(seq):\n",
    "    seen = set()\n",
    "    seen_add = seen.add\n",
    "    return [idx for idx,item in enumerate(seq) if item in seen or seen_add(item)]\n",
    "\n",
    "index_duplicated = list_duplicates(list_hashed[:100000])"
   ]
  },
  {
   "cell_type": "code",
   "execution_count": 116,
   "metadata": {},
   "outputs": [
    {
     "name": "stdout",
     "output_type": "stream",
     "text": [
      "46\n"
     ]
    }
   ],
   "source": [
    "print(len(index_duplicated))"
   ]
  },
  {
   "cell_type": "code",
   "execution_count": 117,
   "metadata": {},
   "outputs": [
    {
     "data": {
      "text/plain": [
       "[14547, 18126, 31552, 33128, 33417]"
      ]
     },
     "execution_count": 117,
     "metadata": {},
     "output_type": "execute_result"
    }
   ],
   "source": [
    "index_duplicated[:5]"
   ]
  },
  {
   "cell_type": "code",
   "execution_count": 162,
   "metadata": {},
   "outputs": [],
   "source": [
    "# Search for passwords duplicates\n",
    "password_duplicates = []\n",
    "for duplicated in index_duplicated:\n",
    "    aux_dupl = []\n",
    "    aux_fp = []\n",
    "    for index, passw in enumerate(list_hashed[:100000]):\n",
    "        if passw == list_hashed[duplicated]:\n",
    "            aux_dupl.append((index, passw, content[index]))\n",
    "    password_duplicates.append(aux_dupl)"
   ]
  },
  {
   "cell_type": "code",
   "execution_count": 168,
   "metadata": {},
   "outputs": [
    {
     "data": {
      "text/plain": [
       "[[(9528, 11435430, ')UQ1F5/>i&?Xc(=or-6e'),\n",
       "  (14547, 11435430, 'o/DLn:FPZ+pMWEgIcu6T')],\n",
       " [(17983, 59705517, 'MBlP);d5Jif>aG<Ozo,0'),\n",
       "  (18126, 59705517, 'mAMG#=yS9<fX7&2Ba,;c')],\n",
       " [(21088, 40233667, \"P'3*$xZdYze&tjvTHVLm\"),\n",
       "  (31552, 40233667, ';Yrexi<(p19zDGoCc#jw')],\n",
       " [(21786, 28272520, '5c!f\";9\\'Vqni@gvtd6wZ'),\n",
       "  (33128, 28272520, \")Ufb9:IC'=*xYp>Gz!da\")],\n",
       " [(12246, 42386831, \"Lc)Rln:gdN'@Z!2eG#E$\"),\n",
       "  (33417, 42386831, 'ndXt&J5je%yh@<9pSi$(')]]"
      ]
     },
     "execution_count": 168,
     "metadata": {},
     "output_type": "execute_result"
    }
   ],
   "source": [
    "password_duplicates[0:5]"
   ]
  },
  {
   "cell_type": "code",
   "execution_count": 167,
   "metadata": {},
   "outputs": [
    {
     "name": "stdout",
     "output_type": "stream",
     "text": [
      "fp fp fp fp fp fp fp fp fp fp fp fp fp fp fp fp fp fp fp fp fp fp fp fp fp fp fp fp fp fp fp fp fp fp fp fp fp fp fp fp fp fp fp fp fp fp "
     ]
    }
   ],
   "source": [
    "for list in password_duplicates:\n",
    "    if list[0][2] == list[1][2]:\n",
    "        print(\"duplicate\")\n",
    "    else:\n",
    "        print(\"fp\", end=\" \")"
   ]
  },
  {
   "cell_type": "code",
   "execution_count": null,
   "metadata": {},
   "outputs": [],
   "source": []
  },
  {
   "cell_type": "code",
   "execution_count": null,
   "metadata": {},
   "outputs": [],
   "source": []
  },
  {
   "cell_type": "markdown",
   "metadata": {},
   "source": [
    "### Proccess file hashing the passwords\n",
    "\"AABA\" != \"AAAB\""
   ]
  },
  {
   "cell_type": "code",
   "execution_count": null,
   "metadata": {},
   "outputs": [],
   "source": []
  }
 ],
 "metadata": {
  "kernelspec": {
   "display_name": "Python 3",
   "language": "python",
   "name": "python3"
  },
  "language_info": {
   "codemirror_mode": {
    "name": "ipython",
    "version": 3
   },
   "file_extension": ".py",
   "mimetype": "text/x-python",
   "name": "python",
   "nbconvert_exporter": "python",
   "pygments_lexer": "ipython3",
   "version": "3.6.7"
  }
 },
 "nbformat": 4,
 "nbformat_minor": 2
}
