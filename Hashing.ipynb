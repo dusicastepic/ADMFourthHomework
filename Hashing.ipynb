{
 "cells": [
  {
   "cell_type": "markdown",
   "metadata": {},
   "source": [
    "# Hashing"
   ]
  },
  {
   "cell_type": "markdown",
   "metadata": {},
   "source": [
    "### Loading passwords file"
   ]
  },
  {
   "cell_type": "code",
   "execution_count": 1,
   "metadata": {},
   "outputs": [],
   "source": [
    "# Path file passwords2.txt\n",
    "fname = \"C:/Users/sanch/Downloads/passwords2.txt\"\n",
    "# Read and split lines to avoid /n\n",
    "with open(fname) as f:\n",
    "    content = f.read().splitlines() "
   ]
  },
  {
   "cell_type": "code",
   "execution_count": 2,
   "metadata": {},
   "outputs": [
    {
     "data": {
      "text/plain": [
       "['OHcv-/U3QI$rdqYTef\"D',\n",
       " 'QtA*.xM$e(+\"aO36r&Uo',\n",
       " \"T;rqw/ou'HN-Pklj6hM*\",\n",
       " 'b%xJ79\"A*C5@ehMfS3lu',\n",
       " 'buI=;LpjBiCm\"JS5\\'#xy']"
      ]
     },
     "execution_count": 2,
     "metadata": {},
     "output_type": "execute_result"
    }
   ],
   "source": [
    "content[:5]"
   ]
  },
  {
   "cell_type": "code",
   "execution_count": 3,
   "metadata": {},
   "outputs": [
    {
     "data": {
      "text/plain": [
       "110000000"
      ]
     },
     "execution_count": 3,
     "metadata": {},
     "output_type": "execute_result"
    }
   ],
   "source": [
    "len(content) # Length of the file passwords2.txt"
   ]
  },
  {
   "cell_type": "markdown",
   "metadata": {},
   "source": [
    "### 1. Proccess file hashing the passwords\n",
    "\"AABA\" = \"AAAB\""
   ]
  },
  {
   "cell_type": "code",
   "execution_count": 24,
   "metadata": {},
   "outputs": [],
   "source": [
    "def hash_code(s, radix, mod):\n",
    "    \"\"\"\n",
    "    Takes a string and apply the division method of hashing to the radix-128 form\n",
    "    h(k) = k % mod\n",
    "    Args:\n",
    "        s (str): String to compute\n",
    "        radix (int): Radix type\n",
    "        mod (int): Number of buckets\n",
    "    Returns: \n",
    "        result (int): Hash result associated from 0 to mod\n",
    "    \"\"\"\n",
    "    pwr = 1\n",
    "    result = 0\n",
    "    list_int_values = [ord(c) for c in s] # Split string and convert each char to ASCII\n",
    "    list_int_values.sort() # Sort the ASCII numbers in the list\n",
    "    for char_ascii in list_int_values: # For every list compute string as natural number radix-128\n",
    "        result += (char_ascii * pwr)\n",
    "        pwr = (pwr * radix)\n",
    "    return result % mod"
   ]
  },
  {
   "cell_type": "code",
   "execution_count": 25,
   "metadata": {},
   "outputs": [
    {
     "name": "stdout",
     "output_type": "stream",
     "text": [
      "m: 110000001\n"
     ]
    }
   ],
   "source": [
    "# Selecting m for the division method\n",
    "hash_n_buckets = len(content)+1 # Define the number of buckets\n",
    "print('m:', hash_n_buckets) # Avoid powers of 2"
   ]
  },
  {
   "cell_type": "code",
   "execution_count": 26,
   "metadata": {},
   "outputs": [],
   "source": [
    "# Hash every password\n",
    "list_hashed = []\n",
    "for password in content:\n",
    "    list_hashed.append( hash_code(s=password, radix=128, mod=hash_n_buckets) )"
   ]
  },
  {
   "cell_type": "code",
   "execution_count": 27,
   "metadata": {},
   "outputs": [
    {
     "data": {
      "text/plain": [
       "[75743628, 6608572, 9044644, 48192011, 102521268]"
      ]
     },
     "execution_count": 27,
     "metadata": {},
     "output_type": "execute_result"
    }
   ],
   "source": [
    "list_hashed[0:5]"
   ]
  },
  {
   "cell_type": "code",
   "execution_count": 28,
   "metadata": {},
   "outputs": [
    {
     "data": {
      "text/plain": [
       "110000000"
      ]
     },
     "execution_count": 28,
     "metadata": {},
     "output_type": "execute_result"
    }
   ],
   "source": [
    "len(list_hashed)"
   ]
  },
  {
   "cell_type": "code",
   "execution_count": 29,
   "metadata": {},
   "outputs": [
    {
     "data": {
      "text/plain": [
       "65684397"
      ]
     },
     "execution_count": 29,
     "metadata": {},
     "output_type": "execute_result"
    }
   ],
   "source": [
    "len(set(list_hashed)) #65684397"
   ]
  },
  {
   "cell_type": "code",
   "execution_count": 30,
   "metadata": {},
   "outputs": [],
   "source": [
    "# Write the list into a file\n",
    "with open('passwords_hashed.csv', 'w') as f:\n",
    "    for item in list_hashed:\n",
    "        f.write(\"%s\\n\" % item)"
   ]
  },
  {
   "cell_type": "markdown",
   "metadata": {},
   "source": [
    "### Finding false duplicates"
   ]
  },
  {
   "cell_type": "code",
   "execution_count": 32,
   "metadata": {},
   "outputs": [],
   "source": [
    "fname = \"passwords_hashed.csv\"\n",
    "list_hashed = []\n",
    "with open(fname) as f:\n",
    "    list_hashed = f.read().splitlines()"
   ]
  },
  {
   "cell_type": "code",
   "execution_count": 33,
   "metadata": {},
   "outputs": [
    {
     "data": {
      "text/plain": [
       "['75743628', '6608572', '9044644', '48192011', '102521268']"
      ]
     },
     "execution_count": 33,
     "metadata": {},
     "output_type": "execute_result"
    }
   ],
   "source": [
    "list_hashed[0:5]"
   ]
  },
  {
   "cell_type": "code",
   "execution_count": null,
   "metadata": {},
   "outputs": [],
   "source": [
    "import pandas as pd\n",
    "df_hashed = pd.DataFrame(list_hashed)"
   ]
  },
  {
   "cell_type": "code",
   "execution_count": null,
   "metadata": {},
   "outputs": [],
   "source": []
  },
  {
   "cell_type": "code",
   "execution_count": 115,
   "metadata": {},
   "outputs": [],
   "source": [
    "def list_duplicates(seq):\n",
    "    seen = set()\n",
    "    seen_add = seen.add\n",
    "    return [idx for idx,item in enumerate(seq) if item in seen or seen_add(item)]\n",
    "\n",
    "index_duplicated = list_duplicates(list_hashed[:100000])"
   ]
  },
  {
   "cell_type": "code",
   "execution_count": 116,
   "metadata": {},
   "outputs": [
    {
     "name": "stdout",
     "output_type": "stream",
     "text": [
      "46\n"
     ]
    }
   ],
   "source": [
    "print(len(index_duplicated))"
   ]
  },
  {
   "cell_type": "code",
   "execution_count": 117,
   "metadata": {},
   "outputs": [
    {
     "data": {
      "text/plain": [
       "[14547, 18126, 31552, 33128, 33417]"
      ]
     },
     "execution_count": 117,
     "metadata": {},
     "output_type": "execute_result"
    }
   ],
   "source": [
    "index_duplicated[:5]"
   ]
  },
  {
   "cell_type": "code",
   "execution_count": 162,
   "metadata": {},
   "outputs": [],
   "source": [
    "# Search for passwords duplicates\n",
    "password_duplicates = []\n",
    "for duplicated in index_duplicated:\n",
    "    aux_dupl = []\n",
    "    aux_fp = []\n",
    "    for index, passw in enumerate(list_hashed[:100000]):\n",
    "        if passw == list_hashed[duplicated]:\n",
    "            aux_dupl.append((index, passw, content[index]))\n",
    "    password_duplicates.append(aux_dupl)"
   ]
  },
  {
   "cell_type": "code",
   "execution_count": 168,
   "metadata": {},
   "outputs": [
    {
     "data": {
      "text/plain": [
       "[[(9528, 11435430, ')UQ1F5/>i&?Xc(=or-6e'),\n",
       "  (14547, 11435430, 'o/DLn:FPZ+pMWEgIcu6T')],\n",
       " [(17983, 59705517, 'MBlP);d5Jif>aG<Ozo,0'),\n",
       "  (18126, 59705517, 'mAMG#=yS9<fX7&2Ba,;c')],\n",
       " [(21088, 40233667, \"P'3*$xZdYze&tjvTHVLm\"),\n",
       "  (31552, 40233667, ';Yrexi<(p19zDGoCc#jw')],\n",
       " [(21786, 28272520, '5c!f\";9\\'Vqni@gvtd6wZ'),\n",
       "  (33128, 28272520, \")Ufb9:IC'=*xYp>Gz!da\")],\n",
       " [(12246, 42386831, \"Lc)Rln:gdN'@Z!2eG#E$\"),\n",
       "  (33417, 42386831, 'ndXt&J5je%yh@<9pSi$(')]]"
      ]
     },
     "execution_count": 168,
     "metadata": {},
     "output_type": "execute_result"
    }
   ],
   "source": [
    "password_duplicates[0:5]"
   ]
  },
  {
   "cell_type": "code",
   "execution_count": 167,
   "metadata": {},
   "outputs": [
    {
     "name": "stdout",
     "output_type": "stream",
     "text": [
      "fp fp fp fp fp fp fp fp fp fp fp fp fp fp fp fp fp fp fp fp fp fp fp fp fp fp fp fp fp fp fp fp fp fp fp fp fp fp fp fp fp fp fp fp fp fp "
     ]
    }
   ],
   "source": [
    "for list in password_duplicates:\n",
    "    if list[0][2] == list[1][2]:\n",
    "        print(\"duplicate\")\n",
    "    else:\n",
    "        print(\"fp\", end=\" \")"
   ]
  },
  {
   "cell_type": "code",
   "execution_count": null,
   "metadata": {},
   "outputs": [],
   "source": []
  },
  {
   "cell_type": "code",
   "execution_count": null,
   "metadata": {},
   "outputs": [],
   "source": []
  },
  {
   "cell_type": "markdown",
   "metadata": {},
   "source": [
    "## 2. Proccess file hashing the passwords\n",
    "\"AABA\" != \"AAAB\""
   ]
  },
  {
   "cell_type": "code",
   "execution_count": null,
   "metadata": {},
   "outputs": [],
   "source": []
  },
  {
   "cell_type": "code",
   "execution_count": null,
   "metadata": {},
   "outputs": [],
   "source": []
  }
 ],
 "metadata": {
  "kernelspec": {
   "display_name": "Python 3",
   "language": "python",
   "name": "python3"
  },
  "language_info": {
   "codemirror_mode": {
    "name": "ipython",
    "version": 3
   },
   "file_extension": ".py",
   "mimetype": "text/x-python",
   "name": "python",
   "nbconvert_exporter": "python",
   "pygments_lexer": "ipython3",
   "version": "3.6.7"
  }
 },
 "nbformat": 4,
 "nbformat_minor": 2
}
