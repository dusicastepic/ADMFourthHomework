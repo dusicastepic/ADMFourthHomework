{
 "cells": [
  {
   "cell_type": "markdown",
   "metadata": {},
   "source": [
    "# Scraping"
   ]
  },
  {
   "cell_type": "markdown",
   "metadata": {},
   "source": [
    "In this section we have developed a web scraping tool to obtain a dataset of houses information. We've described step by step the process to build the dataset."
   ]
  },
  {
   "cell_type": "markdown",
   "metadata": {},
   "source": [
    "## Import libraries"
   ]
  },
  {
   "cell_type": "code",
   "execution_count": 5,
   "metadata": {},
   "outputs": [],
   "source": [
    "# Import libscrap library containing all functions created\n",
    "import libscrap\n",
    "from importlib import reload\n",
    "reload(libscrap)\n",
    "\n",
    "# Import external libraries to compute the dataset\n",
    "from bs4 import BeautifulSoup\n",
    "import requests\n",
    "import re\n",
    "import time\n",
    "import pandas as pd"
   ]
  },
  {
   "cell_type": "markdown",
   "metadata": {},
   "source": [
    "## Get urls of houses"
   ]
  },
  {
   "cell_type": "markdown",
   "metadata": {},
   "source": [
    "First of all we are collecting urls of houses from the web using the function developed collect_houses_urls that returns a list of urls from the pages indicated. We have divided in short steps and with time sleeps to avoid web blocking. At this point it has not been necessary to use the threads because it is fast enough. We store the results in different variables to preserve downloaded results in case of blocking."
   ]
  },
  {
   "cell_type": "code",
   "execution_count": 281,
   "metadata": {},
   "outputs": [
    {
     "name": "stdout",
     "output_type": "stream",
     "text": [
      "Done:  (1, 100)\n",
      "Done:  (101, 200)\n",
      "Done:  (201, 300)\n",
      "Done:  (301, 400)\n",
      "Done:  (401, 500)\n",
      "Done:  (501, 600)\n",
      "Done:  (601, 700)\n",
      "Done:  (701, 800)\n",
      "Done:  (801, 900)\n",
      "Done:  (901, 1000)\n"
     ]
    }
   ],
   "source": [
    "urls_houses = []\n",
    "# 25 results per page --> n_pages = 400 to retrive 10k results\n",
    "urls_houses0 = libscrap.collect_houses_urls(n_pages=(1, 100)) \n",
    "time.sleep(20)\n",
    "urls_houses1 = libscrap.collect_houses_urls(n_pages=(101, 200))\n",
    "time.sleep(20)\n",
    "urls_houses2 = libscrap.collect_houses_urls(n_pages=(201, 300))\n",
    "time.sleep(20)\n",
    "urls_houses3 = libscrap.collect_houses_urls(n_pages=(301, 400))\n",
    "time.sleep(20)\n",
    "urls_houses4 = libscrap.collect_houses_urls(n_pages=(401, 500))\n",
    "time.sleep(20)\n",
    "urls_houses5 = libscrap.collect_houses_urls(n_pages=(501, 600))\n",
    "time.sleep(20)\n",
    "urls_houses6 = libscrap.collect_houses_urls(n_pages=(601, 700))\n",
    "time.sleep(20)\n",
    "urls_houses7 = libscrap.collect_houses_urls(n_pages=(701, 800))\n",
    "time.sleep(20)\n",
    "urls_houses8 = libscrap.collect_houses_urls(n_pages=(801, 900))\n",
    "time.sleep(20)\n",
    "urls_houses9 = libscrap.collect_houses_urls(n_pages=(901, 1000))"
   ]
  },
  {
   "cell_type": "markdown",
   "metadata": {},
   "source": [
    "Here we add all the urls in the different list variables to a single one and clean the memory."
   ]
  },
  {
   "cell_type": "code",
   "execution_count": 291,
   "metadata": {},
   "outputs": [],
   "source": [
    "urls_houses.extend(urls_houses0)\n",
    "urls_houses.extend(urls_houses1)\n",
    "urls_houses.extend(urls_houses2)\n",
    "urls_houses.extend(urls_houses3)\n",
    "urls_houses.extend(urls_houses4)\n",
    "urls_houses.extend(urls_houses5)\n",
    "urls_houses.extend(urls_houses6)\n",
    "urls_houses.extend(urls_houses7)\n",
    "urls_houses.extend(urls_houses8)\n",
    "urls_houses.extend(urls_houses9)"
   ]
  },
  {
   "cell_type": "code",
   "execution_count": null,
   "metadata": {},
   "outputs": [],
   "source": [
    "del urls_houses0, urls_houses1, urls_houses2, urls_houses3, urls_houses4, urls_houses5, urls_houses6, urls_houses7, urls_houses8, urls_houses9"
   ]
  },
  {
   "cell_type": "markdown",
   "metadata": {},
   "source": [
    "Now, we want to write the urls into a csv file to keep them save from the next step. Also we are reading the data and testing that everything went ok:"
   ]
  },
  {
   "cell_type": "code",
   "execution_count": 294,
   "metadata": {},
   "outputs": [],
   "source": [
    "# Write the urls into a pandas dataframe\n",
    "df = pd.DataFrame(urls_houses)\n",
    "df.to_csv(\"url_list.txt\", sep='\\t', encoding='utf-8', index=False, index_label=False)"
   ]
  },
  {
   "cell_type": "code",
   "execution_count": 295,
   "metadata": {},
   "outputs": [],
   "source": [
    "# Read the urls from file and convert the pandas dataframe into a list\n",
    "read = pd.read_csv(\"url_list.txt\", sep='\\t', encoding='utf-8', )\n",
    "urls_houses = read.loc[:, \"0\"].tolist()"
   ]
  },
  {
   "cell_type": "code",
   "execution_count": 301,
   "metadata": {
    "scrolled": true
   },
   "outputs": [
    {
     "name": "stdout",
     "output_type": "stream",
     "text": [
      "Number of results: 24940 | Non repeated results: 24893\n"
     ]
    },
    {
     "data": {
      "text/plain": [
       "['https://www.immobiliare.it/53131931-Vendita-Bilocale-viale-Italo-Calvino-Roma.html',\n",
       " 'https://www.immobiliare.it/69489650-Vendita-Quadrilocale-via-Alessandro-Fleming-Roma.html',\n",
       " 'https://www.immobiliare.it/69192522-Vendita-Quadrilocale-via-Aosta-45-Roma.html',\n",
       " 'https://www.immobiliare.it/68192795-Vendita-Attico-Mansarda-largo-Arturo-Donaggio-Roma.html',\n",
       " 'https://www.immobiliare.it/69727066-Vendita-Villa-via-Cristoforo-Sabbadino-88-Roma.html']"
      ]
     },
     "metadata": {},
     "output_type": "display_data"
    }
   ],
   "source": [
    "# Print the number of urls and the number of non-repeated urls\n",
    "print(\"Number of results:\", len(urls_houses), \"| Non repeated results:\", len(set(urls_houses)))\n",
    "# Display some values of the list\n",
    "display(urls_houses[0:5])\n",
    "# Create a list variable with non-repeated urls\n",
    "set_urls_houses = set(urls_houses) # List with all non-repeated urls"
   ]
  },
  {
   "cell_type": "markdown",
   "metadata": {},
   "source": [
    "## Get information about houses"
   ]
  },
  {
   "cell_type": "markdown",
   "metadata": {},
   "source": [
    "Once obtained the urls, we are going to obtain the information of each house scraping the web. For this goal we are using collect_information_houses that using threading obtain the information of the houses indicated in the range. In order to avoid web blocking we are making 30 resquests every 5 seconds, when it finish if there is any thread still alive, we wait 5 seconds more to avoid failed urls."
   ]
  },
  {
   "cell_type": "code",
   "execution_count": 302,
   "metadata": {
    "scrolled": true
   },
   "outputs": [
    {
     "name": "stdout",
     "output_type": "stream",
     "text": [
      "831\n",
      "Failed urls 0  | Houses completed 0 Failed urls 0  | Houses completed 30 Failed urls 0  | Houses completed 59 Failed urls 0  | Houses completed 88 Failed urls 0  | Houses completed 117 Failed urls 0  | Houses completed 146 Failed urls 0  | Houses completed 175 Failed urls 0  | Houses completed 204 Failed urls 0  | Houses completed 233 Failed urls 0  | Houses completed 262 Failed urls 0  | Houses completed 291 Failed urls 0  | Houses completed 320 Failed urls 0  | Houses completed 349 Failed urls 0  | Houses completed 378 Failed urls 0  | Houses completed 407 -\n",
      "-\n",
      "-\n",
      "-\n",
      "Failed urls 18  | Houses completed 418 -\n",
      "-\n",
      "-\n",
      "-\n",
      "Failed urls 46  | Houses completed 419 -\n",
      "-\n",
      "-\n",
      "-\n",
      "Failed urls 73  | Houses completed 421 Failed urls 73  | Houses completed 450 -\n",
      "Failed urls 73  | Houses completed 478 Failed urls 73  | Houses completed 507 Failed urls 73  | Houses completed 536 Failed urls 74  | Houses completed 565 Failed urls 74  | Houses completed 594 Failed urls 74  | Houses completed 623 Failed urls 74  | Houses completed 652 Failed urls 74  | Houses completed 681 Failed urls 74  | Houses completed 710 Failed urls 74  | Houses completed 739 Failed urls 74  | Houses completed 768 Failed urls 74  | Houses completed 797 Failed urls 74  | Houses completed 826 Failed urls 74  | Houses completed 855 -\n",
      "Failed urls 74  | Houses completed 883 Failed urls 74  | Houses completed 912 Failed urls 74  | Houses completed 941 -\n",
      "Failed urls 75  | Houses completed 969 Failed urls 75  | Houses completed 998 -\n",
      "-\n",
      "Failed urls 76  | Houses completed 1027 Failed urls 76  | Houses completed 1056 Failed urls 76  | Houses completed 1085 Failed urls 76  | Houses completed 1114 Failed urls 76  | Houses completed 1143 Failed urls 76  | Houses completed 1172 Failed urls 76  | Houses completed 1201 Failed urls 76  | Houses completed 1230 Failed urls 76  | Houses completed 1259 Failed urls 76  | Houses completed 1288 Failed urls 76  | Houses completed 1317 Failed urls 76  | Houses completed 1346 Failed urls 76  | Houses completed 1375 Failed urls 76  | Houses completed 1404 Failed urls 76  | Houses completed 1433 -\n",
      "Failed urls 76  | Houses completed 1461 Failed urls 76  | Houses completed 1490 Failed urls 76  | Houses completed 1519 -\n",
      "Failed urls 77  | Houses completed 1547 Failed urls 77  | Houses completed 1576 Failed urls 77  | Houses completed 1605 Failed urls 78  | Houses completed 1634 -\n",
      "Failed urls 78  | Houses completed 1662 Failed urls 78  | Houses completed 1691 Failed urls 78  | Houses completed 1720 Failed urls 79  | Houses completed 1749 -\n",
      "Failed urls 79  | Houses completed 1777 Failed urls 79  | Houses completed 1806 Failed urls 79  | Houses completed 1835 -\n",
      "Failed urls 80  | Houses completed 1863 Failed urls 80  | Houses completed 1892 Failed urls 80  | Houses completed 1921 Failed urls 81  | Houses completed 1950 Failed urls 81  | Houses completed 1979 Failed urls 81  | Houses completed 2008 Failed urls 81  | Houses completed 2037 Failed urls 81  | Houses completed 2066 Failed urls 81  | Houses completed 2095 Failed urls 81  | Houses completed 2124 Failed urls 81  | Houses completed 2153 Failed urls 81  | Houses completed 2182 Failed urls 81  | Houses completed 2211 Failed urls 81  | Houses completed 2240 Failed urls 81  | Houses completed 2269 Failed urls 81  | Houses completed 2298 Failed urls 81  | Houses completed 2327 Failed urls 81  | Houses completed 2356 Failed urls 81  | Houses completed 2385 -\n",
      "Failed urls 81  | Houses completed 2413 Failed urls 81  | Houses completed 2442 Failed urls 81  | Houses completed 2471 -\n",
      "Failed urls 82  | Houses completed 2499 Failed urls 82  | Houses completed 2528 Failed urls 82  | Houses completed 2557 Failed urls 83  | Houses completed 2586 Failed urls 83  | Houses completed 2615 Failed urls 83  | Houses completed 2644 Failed urls 83  | Houses completed 2673 -\n",
      "Failed urls 83  | Houses completed 2701 Failed urls 83  | Houses completed 2730 Failed urls 83  | Houses completed 2759 -\n",
      "Failed urls 84  | Houses completed 2787 Failed urls 84  | Houses completed 2816 Failed urls 84  | Houses completed 2845 -\n",
      "Failed urls 85  | Houses completed 2873 Failed urls 85  | Houses completed 2902 Failed urls 85  | Houses completed 2931 Failed urls 86  | Houses completed 2960 Failed urls 86  | Houses completed 2989 -\n",
      "Failed urls 86  | Houses completed 3017 Failed urls 86  | Houses completed 3046 Failed urls 86  | Houses completed 3075 Failed urls 87  | Houses completed 3104 -\n",
      "Failed urls 87  | Houses completed 3132 Failed urls 87  | Houses completed 3161 Failed urls 87  | Houses completed 3190 Failed urls 88  | Houses completed 3219 Failed urls 88  | Houses completed 3248 Failed urls 88  | Houses completed 3277 Failed urls 88  | Houses completed 3306 Failed urls 88  | Houses completed 3335 Failed urls 88  | Houses completed 3364 Failed urls 88  | Houses completed 3393 Failed urls 88  | Houses completed 3422 Failed urls 88  | Houses completed 3451 Failed urls 88  | Houses completed 3480 Failed urls 88  | Houses completed 3509 -\n",
      "Failed urls 88  | Houses completed 3537 Failed urls 88  | Houses completed 3566 Failed urls 88  | Houses completed 3595 Failed urls 89  | Houses completed 3624 Failed urls 89  | Houses completed 3653 -\n",
      "Failed urls 89  | Houses completed 3681 Failed urls 89  | Houses completed 3710 Failed urls 89  | Houses completed 3739 Failed urls 90  | Houses completed 3768 -\n",
      "Failed urls 90  | Houses completed 3796 Failed urls 90  | Houses completed 3825 Failed urls 90  | Houses completed 3854 Failed urls 91  | Houses completed 3883 Failed urls 91  | Houses completed 3912 Failed urls 91  | Houses completed 3941 Failed urls 91  | Houses completed 3970 Failed urls 91  | Houses completed 3999 Failed urls 91  | Houses completed 4028 Failed urls 91  | Houses completed 4057 Failed urls 91  | Houses completed 4086 Failed urls 91  | Houses completed 4115 Failed urls 91  | Houses completed 4144 -\n",
      "-\n",
      "Failed urls 91  | Houses completed 4173 Failed urls 91  | Houses completed 4202 Failed urls 91  | Houses completed 4231 Failed urls 91  | Houses completed 4260 -\n",
      "-\n",
      "-\n",
      "Failed urls 91  | Houses completed 4288 Failed urls 92  | Houses completed 4317 Failed urls 92  | Houses completed 4346 -\n",
      "Failed urls 92  | Houses completed 4375 Failed urls 92  | Houses completed 4404 Failed urls 92  | Houses completed 4433 Failed urls 92  | Houses completed 4462 Failed urls 92  | Houses completed 4491 Failed urls 92  | Houses completed 4520 Failed urls 92  | Houses completed 4549 Failed urls 92  | Houses completed 4578 Failed urls 92  | Houses completed 4607 Failed urls 92  | Houses completed 4636 Failed urls 92  | Houses completed 4665 -\n",
      "Failed urls 92  | Houses completed 4694 -\n",
      "Failed urls 92  | Houses completed 4723 Failed urls 92  | Houses completed 4752 Failed urls 92  | Houses completed 4781 Failed urls 92  | Houses completed 4810 -\n",
      "Failed urls 92  | Houses completed 4839 -\n",
      "Failed urls 92  | Houses completed 4868 Failed urls 92  | Houses completed 4897 -\n",
      "Failed urls 92  | Houses completed 4926 Failed urls 92  | Houses completed 4955 -\n",
      "Failed urls 92  | Houses completed 4983 Failed urls 92  | Houses completed 5012 Failed urls 92  | Houses completed 5041 Failed urls 93  | Houses completed 5070 Failed urls 93  | Houses completed 5099 Failed urls 93  | Houses completed 5128 Failed urls 93  | Houses completed 5157 Failed urls 93  | Houses completed 5186 Failed urls 93  | Houses completed 5215 -\n",
      "Failed urls 93  | Houses completed 5243 Failed urls 93  | Houses completed 5272 Failed urls 93  | Houses completed 5301 Failed urls 94  | Houses completed 5330 Failed urls 94  | Houses completed 5359 Failed urls 94  | Houses completed 5388 Failed urls 94  | Houses completed 5417 Failed urls 94  | Houses completed 5446 Failed urls 94  | Houses completed 5475 -\n",
      "Failed urls 94  | Houses completed 5503 Failed urls 94  | Houses completed 5532 Failed urls 94  | Houses completed 5561 Failed urls 95  | Houses completed 5590 -\n",
      "Failed urls 95  | Houses completed 5618 Failed urls 95  | Houses completed 5647 Failed urls 95  | Houses completed 5676 Failed urls 96  | Houses completed 5705 -\n",
      "Failed urls 96  | Houses completed 5733 Failed urls 96  | Houses completed 5762 Failed urls 96  | Houses completed 5791 Failed urls 97  | Houses completed 5820 -\n",
      "Failed urls 97  | Houses completed 5848 Failed urls 97  | Houses completed 5877 Failed urls 97  | Houses completed 5906 Failed urls 98  | Houses completed 5935 Failed urls 98  | Houses completed 5964 Failed urls 98  | Houses completed 5993 Failed urls 98  | Houses completed 6022 -\n",
      "Failed urls 98  | Houses completed 6050 Failed urls 98  | Houses completed 6079 Failed urls 98  | Houses completed 6108 -\n",
      "Failed urls 99  | Houses completed 6136 Failed urls 99  | Houses completed 6165 Failed urls 99  | Houses completed 6194 Failed urls 100  | Houses completed 6223 Failed urls 100  | Houses completed 6252 Failed urls 100  | Houses completed 6281 Failed urls 100  | Houses completed 6310 -\n",
      "-\n",
      "Failed urls 100  | Houses completed 6339 Failed urls 100  | Houses completed 6368 -\n",
      "Failed urls 100  | Houses completed 6396 Failed urls 100  | Houses completed 6425 Failed urls 100  | Houses completed 6454 Failed urls 101  | Houses completed 6483 Failed urls 101  | Houses completed 6512 Failed urls 101  | Houses completed 6541 -\n",
      "Failed urls 101  | Houses completed 6569 Failed urls 101  | Houses completed 6598 Failed urls 101  | Houses completed 6627 Failed urls 102  | Houses completed 6656 Failed urls 102  | Houses completed 6685 -\n",
      "-\n",
      "-\n",
      "Failed urls 102  | Houses completed 6713 Failed urls 103  | Houses completed 6742 Failed urls 103  | Houses completed 6771 Failed urls 103  | Houses completed 6800 Failed urls 103  | Houses completed 6829 Failed urls 103  | Houses completed 6858 Failed urls 103  | Houses completed 6887 Failed urls 103  | Houses completed 6916 Failed urls 103  | Houses completed 6945 Failed urls 103  | Houses completed 6974 -\n",
      "Failed urls 103  | Houses completed 7002 Failed urls 103  | Houses completed 7031 Failed urls 103  | Houses completed 7060 -\n",
      "Failed urls 104  | Houses completed 7088 Failed urls 104  | Houses completed 7117 -\n",
      "Failed urls 105  | Houses completed 7145 Failed urls 105  | Houses completed 7174 Failed urls 105  | Houses completed 7203 -\n",
      "Failed urls 106  | Houses completed 7231 Failed urls 106  | Houses completed 7260 Failed urls 106  | Houses completed 7289 Failed urls 107  | Houses completed 7318 Failed urls 107  | Houses completed 7347 Failed urls 107  | Houses completed 7376 Failed urls 107  | Houses completed 7405 Failed urls 107  | Houses completed 7434 Failed urls 107  | Houses completed 7463 Failed urls 107  | Houses completed 7492 -\n",
      "Failed urls 107  | Houses completed 7520 Failed urls 107  | Houses completed 7549 Failed urls 107  | Houses completed 7578 Failed urls 108  | Houses completed 7607 Failed urls 108  | Houses completed 7636 -\n",
      "Failed urls 108  | Houses completed 7664 Failed urls 108  | Houses completed 7693 Failed urls 108  | Houses completed 7722 -\n",
      "Failed urls 109  | Houses completed 7750 Failed urls 109  | Houses completed 7779 Failed urls 109  | Houses completed 7808 Failed urls 110  | Houses completed 7837 Failed urls 110  | Houses completed 7866 Failed urls 110  | Houses completed 7895 Failed urls 110  | Houses completed 7924 Failed urls 110  | Houses completed 7953 Failed urls 110  | Houses completed 7982 Failed urls 110  | Houses completed 8011 Failed urls 110  | Houses completed 8040 Failed urls 110  | Houses completed 8069 Failed urls 110  | Houses completed 8098 Failed urls 110  | Houses completed 8127 -\n",
      "Failed urls 110  | Houses completed 8155 Failed urls 110  | Houses completed 8184 Failed urls 110  | Houses completed 8213 Failed urls 111  | Houses completed 8242 Failed urls 111  | Houses completed 8271 Failed urls 111  | Houses completed 8300 -\n",
      "Failed urls 111  | Houses completed 8328 Failed urls 111  | Houses completed 8357 Failed urls 111  | Houses completed 8386 -\n",
      "-\n",
      "Failed urls 112  | Houses completed 8415 Failed urls 112  | Houses completed 8444 Failed urls 112  | Houses completed 8473 Failed urls 112  | Houses completed 8502 Failed urls 112  | Houses completed 8531 Failed urls 112  | Houses completed 8560 Failed urls 112  | Houses completed 8589 Failed urls 112  | Houses completed 8618 Failed urls 112  | Houses completed 8647 Failed urls 112  | Houses completed 8676 Failed urls 112  | Houses completed 8705 Failed urls 112  | Houses completed 8734 -\n",
      "-\n",
      "Failed urls 112  | Houses completed 8763 Failed urls 112  | Houses completed 8792 Failed urls 112  | Houses completed 8821 Failed urls 112  | Houses completed 8850 Failed urls 112  | Houses completed 8879 Failed urls 112  | Houses completed 8908 Failed urls 112  | Houses completed 8937 -\n",
      "Failed urls 112  | Houses completed 8966 -\n",
      "-\n",
      "-\n",
      "-\n",
      "Failed urls 129  | Houses completed 8978 -\n",
      "Failed urls 129  | Houses completed 9007 Failed urls 129  | Houses completed 9036 Failed urls 129  | Houses completed 9065 Failed urls 129  | Houses completed 9094 Failed urls 129  | Houses completed 9123 Failed urls 129  | Houses completed 9152 -\n",
      "-\n",
      "Failed urls 129  | Houses completed 9181 -\n",
      "-\n",
      "-\n",
      "-\n",
      "Failed urls 134  | Houses completed 9205 -\n",
      "Failed urls 134  | Houses completed 9233 Failed urls 134  | Houses completed 9262 Failed urls 134  | Houses completed 9291 Failed urls 135  | Houses completed 9320 Failed urls 135  | Houses completed 9349 Failed urls 135  | Houses completed 9378 Failed urls 135  | Houses completed 9407 Failed urls 135  | Houses completed 9436 Failed urls 135  | Houses completed 9465 Failed urls 135  | Houses completed 9494 -\n",
      "Failed urls 135  | Houses completed 9522 Failed urls 135  | Houses completed 9551 Failed urls 135  | Houses completed 9580 Failed urls 136  | Houses completed 9609 Failed urls 136  | Houses completed 9638 Failed urls 136  | Houses completed 9667 Failed urls 136  | Houses completed 9696 Failed urls 136  | Houses completed 9725 Failed urls 136  | Houses completed 9754 Failed urls 136  | Houses completed 9783 Failed urls 136  | Houses completed 9812 Failed urls 136  | Houses completed 9841 Failed urls 136  | Houses completed 9870 Failed urls 136  | Houses completed 9899 -\n",
      "-\n",
      "Failed urls 136  | Houses completed 9928 Failed urls 136  | Houses completed 9957 Failed urls 136  | Houses completed 9986 -\n",
      "-\n",
      "-\n",
      "-\n",
      "Failed urls 152  | Houses completed 9999 -\n",
      "-\n",
      "Failed urls 152  | Houses completed 10028 -\n",
      "-\n",
      "-\n",
      "-\n",
      "Failed urls 163  | Houses completed 10046 Failed urls 163  | Houses completed 10075 Failed urls 163  | Houses completed 10104 -\n",
      "-\n",
      "-\n",
      "-\n",
      "Failed urls 172  | Houses completed 10124 Failed urls 172  | Houses completed 10153 Failed urls 172  | Houses completed 10182 Failed urls 172  | Houses completed 10211 Failed urls 172  | Houses completed 10240 Failed urls 172  | Houses completed 10269 Failed urls 172  | Houses completed 10298 -\n",
      "-\n",
      "Failed urls 172  | Houses completed 10327 Failed urls 172  | Houses completed 10356 Failed urls 172  | Houses completed 10385 Failed urls 172  | Houses completed 10414 Failed urls 172  | Houses completed 10443 -\n",
      "Failed urls 172  | Houses completed 10472 -\n",
      "-\n",
      "Failed urls 172  | Houses completed 10500 Failed urls 172  | Houses completed 10529 -\n",
      "-\n",
      "-\n",
      "Failed urls 173  | Houses completed 10555 -\n",
      "Failed urls 176  | Houses completed 10583 Failed urls 176  | Houses completed 10612 Failed urls 176  | Houses completed 10641 -\n",
      "Failed urls 177  | Houses completed 10669 Failed urls 177  | Houses completed 10698 -\n",
      "-\n",
      "-\n",
      "-\n",
      "Failed urls 196  | Houses completed 10709 Failed urls 196  | Houses completed 10738 Failed urls 196  | Houses completed 10767 Failed urls 196  | Houses completed 10796 -\n",
      "-\n",
      "-\n",
      "Failed urls 196  | Houses completed 10824 -\n",
      "Failed urls 197  | Houses completed 10853 Failed urls 197  | Houses completed 10882 -\n",
      "Failed urls 197  | Houses completed 10911 -\n",
      "Failed urls 197  | Houses completed 10940 -\n",
      "-\n",
      "-\n",
      "-\n",
      "Failed urls 209  | Houses completed 10957 Failed urls 209  | Houses completed 10986 Failed urls 209  | Houses completed 11015 -\n",
      "Failed urls 209  | Houses completed 11044 Failed urls 209  | Houses completed 11073 -\n",
      "Failed urls 209  | Houses completed 11102 -\n",
      "-\n",
      "-\n",
      "-\n",
      "Failed urls 217  | Houses completed 11123 Failed urls 217  | Houses completed 11152 Failed urls 217  | Houses completed 11181 -\n",
      "-\n",
      "-\n",
      "-\n",
      "Failed urls 222  | Houses completed 11205 -\n"
     ]
    },
    {
     "name": "stdout",
     "output_type": "stream",
     "text": [
      "Failed urls 222  | Houses completed 11234 -\n",
      "-\n",
      "Failed urls 222  | Houses completed 11263 Failed urls 222  | Houses completed 11292 Failed urls 222  | Houses completed 11321 Failed urls 222  | Houses completed 11350 Failed urls 222  | Houses completed 11379 Failed urls 222  | Houses completed 11408 -\n",
      "Failed urls 222  | Houses completed 11437 -\n",
      "Failed urls 222  | Houses completed 11466 -\n",
      "Failed urls 222  | Houses completed 11495 -\n",
      "Failed urls 222  | Houses completed 11524 Failed urls 222  | Houses completed 11553 Failed urls 222  | Houses completed 11582 -\n",
      "Failed urls 222  | Houses completed 11611 -\n",
      "-\n",
      "-\n",
      "-\n",
      "Failed urls 233  | Houses completed 11629 Failed urls 233  | Houses completed 11658 Failed urls 233  | Houses completed 11687 -\n",
      "Failed urls 233  | Houses completed 11716 Failed urls 233  | Houses completed 11745 Failed urls 233  | Houses completed 11774 Failed urls 233  | Houses completed 11803 -\n",
      "Failed urls 233  | Houses completed 11832 Failed urls 233  | Houses completed 11861 Failed urls 233  | Houses completed 11890 Failed urls 233  | Houses completed 11919 -\n",
      "Failed urls 233  | Houses completed 11948 Failed urls 233  | Houses completed 11977 Failed urls 233  | Houses completed 12006 Failed urls 233  | Houses completed 12035 Failed urls 233  | Houses completed 12064 Failed urls 233  | Houses completed 12093 Failed urls 233  | Houses completed 12122 -\n",
      "Failed urls 233  | Houses completed 12151 Failed urls 233  | Houses completed 12180 -\n",
      "-\n",
      "Failed urls 233  | Houses completed 12209 Failed urls 233  | Houses completed 12238 Failed urls 233  | Houses completed 12267 -\n",
      "Failed urls 233  | Houses completed 12296 Failed urls 233  | Houses completed 12325 Failed urls 233  | Houses completed 12354 -\n",
      "Failed urls 233  | Houses completed 12382 Failed urls 233  | Houses completed 12411 Failed urls 233  | Houses completed 12440 Failed urls 234  | Houses completed 12469 Failed urls 234  | Houses completed 12498 -\n",
      "Failed urls 234  | Houses completed 12526 Failed urls 234  | Houses completed 12555 Failed urls 234  | Houses completed 12584 Failed urls 235  | Houses completed 12613 Failed urls 235  | Houses completed 12642 Failed urls 235  | Houses completed 12671 Failed urls 235  | Houses completed 12700 Failed urls 235  | Houses completed 12729 Failed urls 235  | Houses completed 12758 Failed urls 235  | Houses completed 12787 Failed urls 235  | Houses completed 12816 Failed urls 235  | Houses completed 12845 Failed urls 235  | Houses completed 12874 Failed urls 235  | Houses completed 12903 -\n",
      "Failed urls 235  | Houses completed 12931 Failed urls 235  | Houses completed 12960 Failed urls 235  | Houses completed 12989 Failed urls 236  | Houses completed 13018 -\n",
      "Failed urls 236  | Houses completed 13046 Failed urls 236  | Houses completed 13075 Failed urls 236  | Houses completed 13104 Failed urls 237  | Houses completed 13133 Failed urls 237  | Houses completed 13162 -\n",
      "Failed urls 237  | Houses completed 13190 Failed urls 237  | Houses completed 13219 Failed urls 237  | Houses completed 13248 -\n",
      "Failed urls 238  | Houses completed 13276 Failed urls 238  | Houses completed 13305 Failed urls 238  | Houses completed 13334 -\n",
      "Failed urls 239  | Houses completed 13362 Failed urls 239  | Houses completed 13391 Failed urls 239  | Houses completed 13420 Failed urls 240  | Houses completed 13449 Failed urls 240  | Houses completed 13478 Failed urls 240  | Houses completed 13507 -\n",
      "Failed urls 240  | Houses completed 13535 Failed urls 240  | Houses completed 13564 Failed urls 240  | Houses completed 13593 Failed urls 241  | Houses completed 13622 Failed urls 241  | Houses completed 13651 -\n",
      "-\n",
      "-\n",
      "-\n",
      "Failed urls 258  | Houses completed 13663 -\n",
      "-\n",
      "-\n",
      "-\n",
      "Failed urls 285  | Houses completed 13665 -\n",
      "-\n",
      "-\n",
      "-\n",
      "Failed urls 300  | Houses completed 13679 -\n",
      "-\n",
      "Failed urls 300  | Houses completed 13707 Failed urls 300  | Houses completed 13736 Failed urls 301  | Houses completed 13765 -\n",
      "Failed urls 301  | Houses completed 13793 Failed urls 301  | Houses completed 13822 Failed urls 301  | Houses completed 13851 Failed urls 302  | Houses completed 13880 Failed urls 302  | Houses completed 13909 Failed urls 302  | Houses completed 13938 Failed urls 302  | Houses completed 13967 Failed urls 302  | Houses completed 13996 -\n",
      "-\n",
      "-\n",
      "-\n",
      "Failed urls 313  | Houses completed 14014 Failed urls 313  | Houses completed 14043 Failed urls 313  | Houses completed 14072 Failed urls 313  | Houses completed 14101 Failed urls 313  | Houses completed 14130 -\n",
      "-\n",
      "Failed urls 313  | Houses completed 14159 Failed urls 313  | Houses completed 14188 Failed urls 313  | Houses completed 14217 Failed urls 313  | Houses completed 14246 Failed urls 313  | Houses completed 14275 Failed urls 313  | Houses completed 14304 -\n",
      "Failed urls 313  | Houses completed 14333 Failed urls 313  | Houses completed 14362 Failed urls 313  | Houses completed 14391 Failed urls 313  | Houses completed 14420 Failed urls 313  | Houses completed 14449 -\n",
      "-\n",
      "Failed urls 313  | Houses completed 14478 Failed urls 313  | Houses completed 14507 Failed urls 313  | Houses completed 14536 -\n",
      "-\n",
      "Failed urls 313  | Houses completed 14565 Failed urls 313  | Houses completed 14594 Failed urls 313  | Houses completed 14623 Failed urls 313  | Houses completed 14652 Failed urls 313  | Houses completed 14681 Failed urls 313  | Houses completed 14710 Failed urls 313  | Houses completed 14739 Failed urls 313  | Houses completed 14768 Failed urls 313  | Houses completed 14797 Failed urls 313  | Houses completed 14826 Failed urls 313  | Houses completed 14855 -\n",
      "-\n",
      "Failed urls 313  | Houses completed 14884 Failed urls 313  | Houses completed 14913 Failed urls 313  | Houses completed 14942 Failed urls 313  | Houses completed 14971 -\n",
      "-\n",
      "-\n",
      "-\n",
      "Failed urls 320  | Houses completed 14993 Failed urls 320  | Houses completed 15022 -\n",
      "-\n",
      "-\n",
      "-\n",
      "Failed urls 323  | Houses completed 15048 Failed urls 323  | Houses completed 15077 Failed urls 323  | Houses completed 15106 Failed urls 323  | Houses completed 15135 Failed urls 323  | Houses completed 15164 Failed urls 323  | Houses completed 15193 Failed urls 323  | Houses completed 15222 Failed urls 323  | Houses completed 15251 Failed urls 323  | Houses completed 15280 Failed urls 323  | Houses completed 15309 -\n",
      "Failed urls 323  | Houses completed 15338 Failed urls 323  | Houses completed 15367 Failed urls 323  | Houses completed 15396 Failed urls 323  | Houses completed 15425 Failed urls 323  | Houses completed 15454 Failed urls 323  | Houses completed 15483 Failed urls 323  | Houses completed 15512 Failed urls 323  | Houses completed 15541 Failed urls 323  | Houses completed 15570 Failed urls 323  | Houses completed 15599 -\n",
      "Failed urls 323  | Houses completed 15627 Failed urls 323  | Houses completed 15656 -\n",
      "-\n",
      "Failed urls 324  | Houses completed 15685 Failed urls 324  | Houses completed 15714 Failed urls 324  | Houses completed 15743 Failed urls 324  | Houses completed 15772 -\n",
      "Failed urls 324  | Houses completed 15800 Failed urls 324  | Houses completed 15829 Failed urls 324  | Houses completed 15858 Failed urls 325  | Houses completed 15887 Failed urls 325  | Houses completed 15916 Failed urls 325  | Houses completed 15945 Failed urls 325  | Houses completed 15974 Failed urls 325  | Houses completed 16003 -\n",
      "Failed urls 325  | Houses completed 16031 Failed urls 325  | Houses completed 16060 Failed urls 325  | Houses completed 16089 Failed urls 326  | Houses completed 16118 Failed urls 326  | Houses completed 16147 Failed urls 326  | Houses completed 16176 Failed urls 326  | Houses completed 16205 -\n",
      "Failed urls 326  | Houses completed 16233 -\n",
      "-\n",
      "Failed urls 326  | Houses completed 16263 Failed urls 326  | Houses completed 16292 Failed urls 326  | Houses completed 16321 Failed urls 326  | Houses completed 16350 Failed urls 326  | Houses completed 16379 Failed urls 326  | Houses completed 16408 Failed urls 326  | Houses completed 16437 Failed urls 326  | Houses completed 16466 Failed urls 326  | Houses completed 16495 -\n",
      "Failed urls 326  | Houses completed 16524 Failed urls 326  | Houses completed 16553 Failed urls 326  | Houses completed 16582 -\n",
      "Failed urls 326  | Houses completed 16611 Failed urls 326  | Houses completed 16640 Failed urls 326  | Houses completed 16669 Failed urls 326  | Houses completed 16698 Failed urls 326  | Houses completed 16727 Failed urls 326  | Houses completed 16756 Failed urls 326  | Houses completed 16785 Failed urls 326  | Houses completed 16814 Failed urls 326  | Houses completed 16843 -\n",
      "-\n",
      "-\n",
      "-\n",
      "Failed urls 352  | Houses completed 16846 -\n",
      "Failed urls 352  | Houses completed 16875 Failed urls 352  | Houses completed 16904 -\n",
      "Failed urls 352  | Houses completed 16933 Failed urls 352  | Houses completed 16962 Failed urls 352  | Houses completed 16991 -\n",
      "Failed urls 352  | Houses completed 17020 Failed urls 352  | Houses completed 17049 -\n",
      "Failed urls 352  | Houses completed 17078 Failed urls 352  | Houses completed 17107 Failed urls 352  | Houses completed 17136 -\n",
      "-\n",
      "-\n",
      "-\n",
      "Failed urls 359  | Houses completed 17158 -\n",
      "-\n",
      "-\n",
      "-\n",
      "Failed urls 379  | Houses completed 17167 -\n",
      "-\n",
      "-\n",
      "Failed urls 379  | Houses completed 17195 Failed urls 380  | Houses completed 17224 Failed urls 380  | Houses completed 17253 Failed urls 380  | Houses completed 17282 Failed urls 380  | Houses completed 17311 -\n",
      "Failed urls 380  | Houses completed 17339 Failed urls 380  | Houses completed 17368 Failed urls 380  | Houses completed 17397 Failed urls 381  | Houses completed 17426 -\n",
      "Failed urls 381  | Houses completed 17454 Failed urls 381  | Houses completed 17483 Failed urls 381  | Houses completed 17512 Failed urls 382  | Houses completed 17541 Failed urls 382  | Houses completed 17570 Failed urls 382  | Houses completed 17599 Failed urls 382  | Houses completed 17628 Failed urls 382  | Houses completed 17657 -\n",
      "-\n",
      "-\n",
      "-\n",
      "Failed urls 389  | Houses completed 17679 -\n",
      "-\n",
      "-\n",
      "-\n",
      "Failed urls 391  | Houses completed 17706 Failed urls 391  | Houses completed 17735 Failed urls 391  | Houses completed 17764 Failed urls 391  | Houses completed 17793 Failed urls 391  | Houses completed 17822 Failed urls 391  | Houses completed 17851 Failed urls 391  | Houses completed 17880 Failed urls 391  | Houses completed 17909 Failed urls 391  | Houses completed 17938 Failed urls 391  | Houses completed 17967 Failed urls 391  | Houses completed 17996 Failed urls 391  | Houses completed 18025 Failed urls 391  | Houses completed 18054 Failed urls 391  | Houses completed 18083 -\n",
      "Failed urls 391  | Houses completed 18112 Failed urls 391  | Houses completed 18141 -\n",
      "-\n",
      "-\n",
      "-\n",
      "Failed urls 400  | Houses completed 18161 Failed urls 400  | Houses completed 18190 Failed urls 400  | Houses completed 18219 Failed urls 400  | Houses completed 18248 Failed urls 400  | Houses completed 18277 Failed urls 400  | Houses completed 18306 Failed urls 400  | Houses completed 18335 Failed urls 400  | Houses completed 18364 Failed urls 400  | Houses completed 18393 Failed urls 400  | Houses completed 18422 Failed urls 400  | Houses completed 18451 -\n",
      "Failed urls 400  | Houses completed 18480 Failed urls 400  | Houses completed 18509 -\n",
      "Failed urls 400  | Houses completed 18537 Failed urls 400  | Houses completed 18566 Failed urls 400  | Houses completed 18595 Failed urls 401  | Houses completed 18624 -\n",
      "Failed urls 401  | Houses completed 18652 Failed urls 401  | Houses completed 18681 Failed urls 401  | Houses completed 18710 -\n",
      "-\n",
      "-\n",
      "-\n",
      "Failed urls 412  | Houses completed 18729 -\n",
      "Failed urls 412  | Houses completed 18757 Failed urls 412  | Houses completed 18786 Failed urls 412  | Houses completed 18815 Failed urls 413  | Houses completed 18844 Failed urls 413  | Houses completed 18873 Failed urls 413  | Houses completed 18902 Failed urls 413  | Houses completed 18931 Failed urls 413  | Houses completed 18960 Failed urls 413  | Houses completed 18989 -\n",
      "Failed urls 413  | Houses completed 19017 Failed urls 413  | Houses completed 19046 Failed urls 413  | Houses completed 19075 -\n",
      "Failed urls 414  | Houses completed 19103 Failed urls 414  | Houses completed 19132 Failed urls 414  | Houses completed 19161 Failed urls 415  | Houses completed 19190 Failed urls 415  | Houses completed 19219 Failed urls 415  | Houses completed 19248 Failed urls 415  | Houses completed 19277 -\n",
      "-\n",
      "-\n",
      "-\n",
      "Failed urls 419  | Houses completed 19302 Failed urls 419  | Houses completed 19331 Failed urls 419  | Houses completed 19360 -\n",
      "Failed urls 419  | Houses completed 19388 Failed urls 419  | Houses completed 19417 -\n",
      "Failed urls 420  | Houses completed 19445 Failed urls 420  | Houses completed 19474 Failed urls 420  | Houses completed 19503 Failed urls 421  | Houses completed 19532 Failed urls 421  | Houses completed 19561 Failed urls 421  | Houses completed 19590 Failed urls 421  | Houses completed 19619 Failed urls 421  | Houses completed 19648 Failed urls 421  | Houses completed 19677 Failed urls 421  | Houses completed 19706 Failed urls 421  | Houses completed 19735 Failed urls 421  | Houses completed 19764 Failed urls 421  | Houses completed 19793 Failed urls 421  | Houses completed 19822 Failed urls 421  | Houses completed 19851 Failed urls 421  | Houses completed 19880 -\n",
      "-\n",
      "-\n",
      "Failed urls 421  | Houses completed 19907 Failed urls 423  | Houses completed 19936 -\n",
      "-\n",
      "-\n",
      "-\n",
      "Failed urls 447  | Houses completed 19941 -\n",
      "-\n",
      "-\n",
      "-\n",
      "Failed urls 462  | Houses completed 19955 -\n",
      "-\n",
      "Failed urls 462  | Houses completed 19984 Failed urls 462  | Houses completed 20013 Failed urls 462  | Houses completed 20042 Failed urls 462  | Houses completed 20071 -\n",
      "Failed urls 462  | Houses completed 20100 Failed urls 462  | Houses completed 20129 Failed urls 462  | Houses completed 20158 -\n",
      "-\n",
      "-\n",
      "-\n",
      "Failed urls 474  | Houses completed 20175 Failed urls 474  | Houses completed 20204 Failed urls 474  | Houses completed 20233 Failed urls 474  | Houses completed 20262 -\n",
      "-\n",
      "-\n",
      "-\n",
      "Failed urls 487  | Houses completed 20278 Failed urls 487  | Houses completed 20307 -\n",
      "Failed urls 487  | Houses completed 20335 Failed urls 487  | Houses completed 20364 Failed urls 487  | Houses completed 20393 Failed urls 488  | Houses completed 20422 Failed urls 488  | Houses completed 20451 -\n",
      "Failed urls 488  | Houses completed 20479 Failed urls 488  | Houses completed 20508 Failed urls 488  | Houses completed 20537 Failed urls 489  | Houses completed 20566 Failed urls 489  | Houses completed 20595 Failed urls 489  | Houses completed 20624 Failed urls 489  | Houses completed 20653 Failed urls 489  | Houses completed 20682 -\n",
      "Failed urls 489  | Houses completed 20710 Failed urls 489  | Houses completed 20739 Failed urls 489  | Houses completed 20768 Failed urls 490  | Houses completed 20797 Failed urls 490  | Houses completed 20826 Failed urls 490  | Houses completed 20855 Failed urls 490  | Houses completed 20884 Failed urls 490  | Houses completed 20913 -\n",
      "Failed urls 490  | Houses completed 20941 Failed urls 490  | Houses completed 20970 Failed urls 490  | Houses completed 20999 -\n",
      "Failed urls 491  | Houses completed 21027 Failed urls 491  | Houses completed 21056 Failed urls 491  | Houses completed 21085 -\n",
      "Failed urls 492  | Houses completed 21114 Failed urls 492  | Houses completed 21143 -\n",
      "Failed urls 492  | Houses completed 21171 Failed urls 492  | Houses completed 21200 -\n",
      "Failed urls 493  | Houses completed 21228 -\n",
      "Failed urls 493  | Houses completed 21257 -\n",
      "Failed urls 494  | Houses completed 21285 Failed urls 494  | Houses completed 21314 -\n",
      "Failed urls 495  | Houses completed 21342 Failed urls 495  | Houses completed 21371 Failed urls 495  | Houses completed 21400 -\n",
      "Failed urls 496  | Houses completed 21428 Failed urls 496  | Houses completed 21457 Failed urls 496  | Houses completed 21486 -\n",
      "-\n",
      "Failed urls 497  | Houses completed 21515 Failed urls 497  | Houses completed 21544 -\n",
      "-\n",
      "-\n",
      "-\n",
      "Failed urls 526  | Houses completed 21544 Failed urls 526  | Houses completed 21573 Failed urls 526  | Houses completed 21602 Failed urls 526  | Houses completed 21631 Failed urls 526  | Houses completed 21660 Failed urls 526  | Houses completed 21689 Failed urls 526  | Houses completed 21718 Failed urls 526  | Houses completed 21747 -\n",
      "Failed urls 526  | Houses completed 21775 Failed urls 526  | Houses completed 21804 Failed urls 526  | Houses completed 21833 Failed urls 527  | Houses completed 21862 -\n",
      "-\n"
     ]
    },
    {
     "name": "stdout",
     "output_type": "stream",
     "text": [
      "Failed urls 527  | Houses completed 21891 Failed urls 527  | Houses completed 21920 Failed urls 527  | Houses completed 21949 Failed urls 527  | Houses completed 21978 Failed urls 527  | Houses completed 22007 Failed urls 527  | Houses completed 22036 Failed urls 527  | Houses completed 22065 Failed urls 527  | Houses completed 22094 Failed urls 527  | Houses completed 22123 -\n",
      "Failed urls 527  | Houses completed 22152 Failed urls 527  | Houses completed 22181 Failed urls 527  | Houses completed 22210 Failed urls 527  | Houses completed 22239 Failed urls 527  | Houses completed 22268 Failed urls 527  | Houses completed 22297 Failed urls 527  | Houses completed 22326 Failed urls 527  | Houses completed 22355 Failed urls 527  | Houses completed 22384 Failed urls 527  | Houses completed 22413 Failed urls 527  | Houses completed 22442 Failed urls 527  | Houses completed 22471 Failed urls 527  | Houses completed 22500 Failed urls 527  | Houses completed 22529 Failed urls 527  | Houses completed 22558 Failed urls 527  | Houses completed 22587 Failed urls 527  | Houses completed 22616 -\n",
      "-\n",
      "-\n",
      "Failed urls 527  | Houses completed 22644 Failed urls 528  | Houses completed 22673 Failed urls 528  | Houses completed 22702 Failed urls 528  | Houses completed 22731 Failed urls 528  | Houses completed 22760 Failed urls 528  | Houses completed 22789 -\n",
      "Failed urls 528  | Houses completed 22817 Failed urls 528  | Houses completed 22846 Failed urls 528  | Houses completed 22875 -\n",
      "Failed urls 529  | Houses completed 22903 Failed urls 529  | Houses completed 22932 Failed urls 529  | Houses completed 22961 Failed urls 530  | Houses completed 22990 Failed urls 530  | Houses completed 23019 Failed urls 530  | Houses completed 23048 -\n",
      "Failed urls 530  | Houses completed 23076 Failed urls 530  | Houses completed 23105 Failed urls 530  | Houses completed 23134 Failed urls 531  | Houses completed 23163 Failed urls 531  | Houses completed 23192 Failed urls 531  | Houses completed 23221 Failed urls 531  | Houses completed 23250 Failed urls 531  | Houses completed 23279 Failed urls 531  | Houses completed 23308 Failed urls 531  | Houses completed 23337 Failed urls 531  | Houses completed 23366 Failed urls 531  | Houses completed 23395 Failed urls 531  | Houses completed 23424 -\n",
      "-\n",
      "-\n",
      "-\n",
      "Failed urls 552  | Houses completed 23432 Failed urls 552  | Houses completed 23461 Failed urls 552  | Houses completed 23490 Failed urls 552  | Houses completed 23519 -\n"
     ]
    }
   ],
   "source": [
    "# Variable to manage the threads each time\n",
    "increment = 30\n",
    "start = 0\n",
    "last = increment\n",
    "n_iter = len(urls_houses)//increment\n",
    "print(n_iter)\n",
    "\n",
    "# Loop for generating new threads to obtain house information\n",
    "for i in range(n_iter):\n",
    "    list_houses_info, errors, thread_list, failed_urls = libscrap.collect_information_houses(urls_houses[start:last])\n",
    "    print(\"Failed urls\", len(failed_urls), \"| Houses completed\", len(list_houses_info), \"|| \")\n",
    "    start = last + 1\n",
    "    last += increment\n",
    "    time.sleep(5)\n",
    "    \n",
    "    # Loop into threads status and look if there is any still alive\n",
    "    for t in thread_list:\n",
    "        if t.isAlive():\n",
    "            print(\"-\", end = \"\")\n",
    "            time.sleep(5) # If it is alive, wait 5 seconds more"
   ]
  },
  {
   "cell_type": "markdown",
   "metadata": {},
   "source": [
    "At this step we are creating a pandas dataframe with all the data obtained before"
   ]
  },
  {
   "cell_type": "code",
   "execution_count": 322,
   "metadata": {
    "scrolled": true
   },
   "outputs": [],
   "source": [
    "df = pd.DataFrame(list_houses_info, columns=['price', 'locali', 'superficie', 'bagni', 'piano', 'description'])"
   ]
  },
  {
   "cell_type": "markdown",
   "metadata": {},
   "source": [
    "Now, we want to write pandas data frame into a csv file to keep them save from the next step. Also we are reading the data and and writing another file with no duplicates:"
   ]
  },
  {
   "cell_type": "code",
   "execution_count": 319,
   "metadata": {},
   "outputs": [],
   "source": [
    "# Write pandas dataframe into a csv file\n",
    "df.to_csv(\"data_houses_df_larger.csv\", sep='\\t', encoding='utf-8', index=False)\n",
    "# Read pandas dataframe from file\n",
    "read = pd.read_csv(\"data_houses_df_larger.csv\", sep='\\t', encoding='utf-8')"
   ]
  },
  {
   "cell_type": "code",
   "execution_count": 321,
   "metadata": {},
   "outputs": [],
   "source": [
    "# Drop duplicates\n",
    "read2 = read.drop_duplicates()\n",
    "# Write pandas dataframe with no duplicates into a csv file\n",
    "read2.to_csv(\"data_houses_df_no_duplicates.csv\", sep='\\t', encoding='utf-8', index=False)\n",
    "# Read pandas dataframe from csv file with no duplicates\n",
    "read2 = pd.read_csv(\"data_houses_df_no_duplicates.csv\", sep='\\t', encoding='utf-8')"
   ]
  },
  {
   "cell_type": "code",
   "execution_count": 12,
   "metadata": {},
   "outputs": [
    {
     "data": {
      "text/html": [
       "<div>\n",
       "<style scoped>\n",
       "    .dataframe tbody tr th:only-of-type {\n",
       "        vertical-align: middle;\n",
       "    }\n",
       "\n",
       "    .dataframe tbody tr th {\n",
       "        vertical-align: top;\n",
       "    }\n",
       "\n",
       "    .dataframe thead th {\n",
       "        text-align: right;\n",
       "    }\n",
       "</style>\n",
       "<table border=\"1\" class=\"dataframe\">\n",
       "  <thead>\n",
       "    <tr style=\"text-align: right;\">\n",
       "      <th></th>\n",
       "      <th>price</th>\n",
       "      <th>locali</th>\n",
       "      <th>superficie</th>\n",
       "      <th>bagni</th>\n",
       "      <th>piano</th>\n",
       "      <th>description</th>\n",
       "    </tr>\n",
       "  </thead>\n",
       "  <tbody>\n",
       "    <tr>\n",
       "      <th>0</th>\n",
       "      <td>€ 20.000</td>\n",
       "      <td>NaN</td>\n",
       "      <td>19</td>\n",
       "      <td>NaN</td>\n",
       "      <td>NaN</td>\n",
       "      <td>OSTIA - Castel Fusano– BOX - Via Giuseppe Rena...</td>\n",
       "    </tr>\n",
       "    <tr>\n",
       "      <th>1</th>\n",
       "      <td>€ 225.000</td>\n",
       "      <td>2</td>\n",
       "      <td>50</td>\n",
       "      <td>1</td>\n",
       "      <td>1</td>\n",
       "      <td>papillo eur\\r\\r\\n                             ...</td>\n",
       "    </tr>\n",
       "    <tr>\n",
       "      <th>2</th>\n",
       "      <td>€ 189.000</td>\n",
       "      <td>4</td>\n",
       "      <td>168</td>\n",
       "      <td>3+</td>\n",
       "      <td>T</td>\n",
       "      <td>COMPLESSO ISLA BIANCA\\r\\r\\n                   ...</td>\n",
       "    </tr>\n",
       "    <tr>\n",
       "      <th>3</th>\n",
       "      <td>€ 450.000</td>\n",
       "      <td>4</td>\n",
       "      <td>135</td>\n",
       "      <td>1</td>\n",
       "      <td>A</td>\n",
       "      <td>VENDITA QUADRILOCALE ULTIMO PIANO RE DI ROMA\\r...</td>\n",
       "    </tr>\n",
       "    <tr>\n",
       "      <th>4</th>\n",
       "      <td>€ 1.700.000</td>\n",
       "      <td>5+</td>\n",
       "      <td>460</td>\n",
       "      <td>3+</td>\n",
       "      <td>T</td>\n",
       "      <td>Prestigiosa proprietà su due livelli in Via de...</td>\n",
       "    </tr>\n",
       "  </tbody>\n",
       "</table>\n",
       "</div>"
      ],
      "text/plain": [
       "         price locali superficie bagni piano  \\\n",
       "0     € 20.000    NaN         19   NaN   NaN   \n",
       "1    € 225.000     2          50    1      1   \n",
       "2    € 189.000     4         168   3+      T   \n",
       "3    € 450.000     4         135    1      A   \n",
       "4  € 1.700.000    5+         460   3+      T   \n",
       "\n",
       "                                         description  \n",
       "0  OSTIA - Castel Fusano– BOX - Via Giuseppe Rena...  \n",
       "1  papillo eur\\r\\r\\n                             ...  \n",
       "2  COMPLESSO ISLA BIANCA\\r\\r\\n                   ...  \n",
       "3  VENDITA QUADRILOCALE ULTIMO PIANO RE DI ROMA\\r...  \n",
       "4  Prestigiosa proprietà su due livelli in Via de...  "
      ]
     },
     "metadata": {},
     "output_type": "display_data"
    }
   ],
   "source": [
    "# Show some results of the final pandas dataframe obtained from scraping\n",
    "display(read2[:5])"
   ]
  }
 ],
 "metadata": {
  "kernelspec": {
   "display_name": "Python 3",
   "language": "python",
   "name": "python3"
  },
  "language_info": {
   "codemirror_mode": {
    "name": "ipython",
    "version": 3
   },
   "file_extension": ".py",
   "mimetype": "text/x-python",
   "name": "python",
   "nbconvert_exporter": "python",
   "pygments_lexer": "ipython3",
   "version": "3.6.7"
  }
 },
 "nbformat": 4,
 "nbformat_minor": 2
}
