{
 "cells": [
  {
   "cell_type": "markdown",
   "metadata": {},
   "source": [
    "# Libraries"
   ]
  },
  {
   "cell_type": "code",
   "execution_count": 1,
   "metadata": {},
   "outputs": [],
   "source": [
    "import pandas as pd\n",
    "import numpy as np\n",
    "\n",
    "from collections import defaultdict\n",
    "\n",
    "from nltk.corpus import stopwords \n",
    "#from nltk.stem import PorterStemmer\n",
    "from nltk.stem.snowball import SnowballStemmer\n",
    "\n",
    "from nltk.tokenize import RegexpTokenizer\n",
    "import re\n",
    "import pickle\n",
    "\n",
    "#from wordcloud import WordCloud\n",
    "#pd.set_option('display.max_colwidth', -1)"
   ]
  },
  {
   "cell_type": "markdown",
   "metadata": {},
   "source": [
    "Web scrapping info\n",
    "\n",
    "        .\n",
    "        .\n",
    "        ."
   ]
  },
  {
   "cell_type": "markdown",
   "metadata": {},
   "source": [
    "After web scrapping we created one single data frame with columns 'price', 'locali', 'superficie', 'bagni', 'piano', 'description' and stored it as a .csv file for future usage. "
   ]
  },
  {
   "cell_type": "code",
   "execution_count": 2,
   "metadata": {},
   "outputs": [
    {
     "data": {
      "text/plain": [
       "Index(['price', 'locali', 'superficie', 'bagni', 'piano', 'description'], dtype='object')"
      ]
     },
     "execution_count": 2,
     "metadata": {},
     "output_type": "execute_result"
    }
   ],
   "source": [
    "#Importing data into memory from the stored .csv file\n",
    "data = pd.read_csv(\"data_houses.csv\", sep='\\t', encoding='utf-8')\n",
    "data.columns"
   ]
  },
  {
   "cell_type": "code",
   "execution_count": 3,
   "metadata": {},
   "outputs": [
    {
     "data": {
      "text/plain": [
       "(23203, 6)"
      ]
     },
     "execution_count": 3,
     "metadata": {},
     "output_type": "execute_result"
    }
   ],
   "source": [
    "#The number of rows before cleaning\n",
    "data.shape"
   ]
  },
  {
   "cell_type": "code",
   "execution_count": 4,
   "metadata": {},
   "outputs": [
    {
     "data": {
      "text/plain": [
       "price             1\n",
       "locali          354\n",
       "superficie       24\n",
       "bagni           491\n",
       "piano          3793\n",
       "description    5045\n",
       "dtype: int64"
      ]
     },
     "execution_count": 4,
     "metadata": {},
     "output_type": "execute_result"
    }
   ],
   "source": [
    "#Checking null values of the dataset\n",
    "data.isnull().sum()"
   ]
  },
  {
   "cell_type": "code",
   "execution_count": 5,
   "metadata": {},
   "outputs": [
    {
     "data": {
      "text/plain": [
       "price          object\n",
       "locali         object\n",
       "superficie     object\n",
       "bagni          object\n",
       "piano          object\n",
       "description    object\n",
       "dtype: object"
      ]
     },
     "execution_count": 5,
     "metadata": {},
     "output_type": "execute_result"
    }
   ],
   "source": [
    "#Checking data types of the dataset\n",
    "data.dtypes"
   ]
  },
  {
   "cell_type": "code",
   "execution_count": 6,
   "metadata": {},
   "outputs": [
    {
     "data": {
      "text/html": [
       "<div>\n",
       "<style>\n",
       "    .dataframe thead tr:only-child th {\n",
       "        text-align: right;\n",
       "    }\n",
       "\n",
       "    .dataframe thead th {\n",
       "        text-align: left;\n",
       "    }\n",
       "\n",
       "    .dataframe tbody tr th {\n",
       "        vertical-align: top;\n",
       "    }\n",
       "</style>\n",
       "<table border=\"1\" class=\"dataframe\">\n",
       "  <thead>\n",
       "    <tr style=\"text-align: right;\">\n",
       "      <th></th>\n",
       "      <th>price</th>\n",
       "      <th>locali</th>\n",
       "      <th>superficie</th>\n",
       "      <th>bagni</th>\n",
       "      <th>piano</th>\n",
       "    </tr>\n",
       "  </thead>\n",
       "  <tbody>\n",
       "    <tr>\n",
       "      <th>count</th>\n",
       "      <td>23202</td>\n",
       "      <td>22849</td>\n",
       "      <td>23179</td>\n",
       "      <td>22712</td>\n",
       "      <td>19410</td>\n",
       "    </tr>\n",
       "    <tr>\n",
       "      <th>unique</th>\n",
       "      <td>2335</td>\n",
       "      <td>6</td>\n",
       "      <td>587</td>\n",
       "      <td>315</td>\n",
       "      <td>15</td>\n",
       "    </tr>\n",
       "    <tr>\n",
       "      <th>top</th>\n",
       "      <td>€ 199.000</td>\n",
       "      <td>3</td>\n",
       "      <td>90</td>\n",
       "      <td>1</td>\n",
       "      <td>1</td>\n",
       "    </tr>\n",
       "    <tr>\n",
       "      <th>freq</th>\n",
       "      <td>338</td>\n",
       "      <td>7177</td>\n",
       "      <td>962</td>\n",
       "      <td>10007</td>\n",
       "      <td>4236</td>\n",
       "    </tr>\n",
       "  </tbody>\n",
       "</table>\n",
       "</div>"
      ],
      "text/plain": [
       "            price locali superficie  bagni  piano\n",
       "count       23202  22849      23179  22712  19410\n",
       "unique       2335      6        587    315     15\n",
       "top     € 199.000     3          90     1       1\n",
       "freq          338   7177        962  10007   4236"
      ]
     },
     "execution_count": 6,
     "metadata": {},
     "output_type": "execute_result"
    }
   ],
   "source": [
    "data.loc[:,['price','locali','superficie','bagni','piano']].describe()"
   ]
  },
  {
   "cell_type": "code",
   "execution_count": 7,
   "metadata": {
    "scrolled": true
   },
   "outputs": [
    {
     "data": {
      "text/plain": [
       "1      4236\n",
       "2      3308\n",
       "T      2891\n",
       "3      2419\n",
       "A      1652\n",
       "4      1570\n",
       "R      1008\n",
       "5       924\n",
       "6       463\n",
       "S       381\n",
       "7       350\n",
       "8       134\n",
       "9        32\n",
       "11+      26\n",
       "10       16\n",
       "Name: piano, dtype: int64"
      ]
     },
     "execution_count": 7,
     "metadata": {},
     "output_type": "execute_result"
    }
   ],
   "source": [
    "data.piano.value_counts()"
   ]
  },
  {
   "cell_type": "markdown",
   "metadata": {},
   "source": [
    "\n",
    "\n",
    "After _analyzing_ the possible values of each attribute of the dataset we decided the following about the process of \n",
    "**cleaning** the dataset before making two separate datasets for clustering.\n",
    "    \n",
    "The data cleaning process:\n",
    "    1. Remove nan values\n",
    "    2. Attribute price should be converted to integer data type and '€' removed from the values\n",
    "    3. In attribute locali remove rows where the value of locali is 5+ and convert attribute to integer data type\n",
    "    4. Attribute superficie has some strange values because of the scrapping, like dates '14/02/19' '18/01/19' and all the values that don't make sense should be removed and the attribute should be converted to the integer data type\n",
    "    5. For attribute piano replace T->0 and drop the rows with piano values A, R, S and 11+ cause they are ambiguous\n",
    "    6. The values where the number of bathrooms(attribute bagni) are 1, 2 or 3 should be kept because they are the most common ones and other numbers are rare and therefore considered outliers(they are probably buildings_?). Moreover, rows with bagni values 3+ are eliminated cause value 3+ has ambigious meaning and it is not integer. \n",
    "    \n",
    "The goal of the cleaning process was to eliminate all the ambiguous values and categorical values that can't have a meaningful numerical representation."
   ]
  },
  {
   "cell_type": "code",
   "execution_count": 8,
   "metadata": {},
   "outputs": [],
   "source": [
    "def clean_data(data):\n",
    "    \"\"\"\n",
    "    Method that removes nan values and cleanes the data\n",
    "    \n",
    "    Input: dataframe\n",
    "    Output: cleaned dataframe\n",
    "    \"\"\"\n",
    "    \n",
    "    #Remove rows where there aren't all values present\n",
    "    data.dropna(inplace=True)\n",
    "\n",
    "    #try to convert price to int and remove € \n",
    "    for i in data.index:\n",
    "    #Becasuse of the web scrapping some prices had strings and text in this way we dealt with it if exception appears\n",
    "    #'da' is because some prices were scrapped with the word 'da' before the price\n",
    "        try:\n",
    "            data.price[i]=int(data.price[i].replace('€', '').strip().replace('.','').replace('da',''))\n",
    "    #before word class there is price we need\n",
    "        except:\n",
    "            try:\n",
    "                data.price[i]=int(data.price[i].split('class')[0].replace('€', '').strip().replace('.',''))\n",
    "           #in case of the bad scrapping value (e.g.just text) just drop those rows\n",
    "            except:\n",
    "                data.drop(i,inplace=True)\n",
    "            \n",
    "    #convert to int superficie and remove / and . in order to convert to int normally\n",
    "    data.superficie=data.superficie.replace('[/]', '', regex=True).apply(lambda x: int(str(x).replace('.','')))\n",
    "    \n",
    "    #Drop rows where values of locali is 5+ and convert to int\n",
    "    #strip is because of the web scrapping process which took whitespace\n",
    "    data['locali']=data['locali'].apply(lambda x: x.strip())\n",
    "    data.drop(data[ data['locali']=='5+'].index,inplace=True)\n",
    "\n",
    "\n",
    "    #drop A, R, S and 11+  cause it is ambigious \n",
    "    data.drop(data[(data['piano']=='A') | (data['piano']=='R') | ( data['piano']=='S')| ( data['piano']=='11+')].index,inplace=True)\n",
    "    #Attribute piano replace T->0 cause piano T is 'terro' which means it is floor 0\n",
    "    data['piano']=np.where(data['piano']=='T', 0, data['piano'])     \n",
    "    \n",
    "    #remove whitespace from the values\n",
    "    data.bagni=data.bagni.apply(lambda x: x.strip())\n",
    "    #remove all the rows where the value of bagni is not 1,2,3...like 3+, cause other values don't have so many value counts\n",
    "    data.drop(data[( data['bagni']!='1')&( data['bagni']!='2')&( data['bagni']!='3')].index,inplace=True)    \n",
    "\n",
    "    #convert type of \"price\",\"locali\",\"piano\", \"bagni\" to numeric instead of object\n",
    "    data[[\"price\",\"locali\",\"piano\", \"bagni\"]] = data[[\"price\",\"locali\",\"piano\", \"bagni\"]].apply(pd.to_numeric)\n",
    "    \n",
    "    #reset index so it starts from 0 to last row number not with scpapped number indices, but with consistent range\n",
    "    data.reset_index(inplace=True)\n",
    "    data.drop('index',axis=1,inplace=True)\n",
    "    \n",
    "    return data"
   ]
  },
  {
   "cell_type": "code",
   "execution_count": 9,
   "metadata": {},
   "outputs": [],
   "source": [
    "cleaned_data=clean_data(data)"
   ]
  },
  {
   "cell_type": "code",
   "execution_count": 10,
   "metadata": {},
   "outputs": [
    {
     "data": {
      "text/plain": [
       "RangeIndex(start=0, stop=10773, step=1)"
      ]
     },
     "execution_count": 10,
     "metadata": {},
     "output_type": "execute_result"
    }
   ],
   "source": [
    "cleaned_data.index"
   ]
  },
  {
   "cell_type": "code",
   "execution_count": 11,
   "metadata": {},
   "outputs": [
    {
     "data": {
      "text/html": [
       "<div>\n",
       "<style>\n",
       "    .dataframe thead tr:only-child th {\n",
       "        text-align: right;\n",
       "    }\n",
       "\n",
       "    .dataframe thead th {\n",
       "        text-align: left;\n",
       "    }\n",
       "\n",
       "    .dataframe tbody tr th {\n",
       "        vertical-align: top;\n",
       "    }\n",
       "</style>\n",
       "<table border=\"1\" class=\"dataframe\">\n",
       "  <thead>\n",
       "    <tr style=\"text-align: right;\">\n",
       "      <th></th>\n",
       "      <th>price</th>\n",
       "      <th>locali</th>\n",
       "      <th>superficie</th>\n",
       "      <th>bagni</th>\n",
       "      <th>piano</th>\n",
       "      <th>description</th>\n",
       "    </tr>\n",
       "  </thead>\n",
       "  <tbody>\n",
       "    <tr>\n",
       "      <th>0</th>\n",
       "      <td>225000</td>\n",
       "      <td>2</td>\n",
       "      <td>50</td>\n",
       "      <td>1</td>\n",
       "      <td>1</td>\n",
       "      <td>papillo eur\\r\\r\\n                             ...</td>\n",
       "    </tr>\n",
       "  </tbody>\n",
       "</table>\n",
       "</div>"
      ],
      "text/plain": [
       "    price  locali  superficie  bagni  piano  \\\n",
       "0  225000       2          50      1      1   \n",
       "\n",
       "                                         description  \n",
       "0  papillo eur\\r\\r\\n                             ...  "
      ]
     },
     "execution_count": 11,
     "metadata": {},
     "output_type": "execute_result"
    }
   ],
   "source": [
    "cleaned_data.head(1)"
   ]
  },
  {
   "cell_type": "code",
   "execution_count": 12,
   "metadata": {},
   "outputs": [
    {
     "data": {
      "text/plain": [
       "(10773, 6)"
      ]
     },
     "execution_count": 12,
     "metadata": {},
     "output_type": "execute_result"
    }
   ],
   "source": [
    "#The number of rows after cleaning the dataset\n",
    "#10773\n",
    "cleaned_data.shape"
   ]
  },
  {
   "cell_type": "code",
   "execution_count": 13,
   "metadata": {},
   "outputs": [
    {
     "data": {
      "text/plain": [
       "price          0\n",
       "locali         0\n",
       "superficie     0\n",
       "bagni          0\n",
       "piano          0\n",
       "description    0\n",
       "dtype: int64"
      ]
     },
     "execution_count": 13,
     "metadata": {},
     "output_type": "execute_result"
    }
   ],
   "source": [
    "#After cleaning the data(dropping rows where there aren't some values) there aren't any NaN values present\n",
    "cleaned_data.isnull().sum()"
   ]
  },
  {
   "cell_type": "code",
   "execution_count": 14,
   "metadata": {},
   "outputs": [
    {
     "data": {
      "text/plain": [
       "price           int64\n",
       "locali          int64\n",
       "superficie      int64\n",
       "bagni           int64\n",
       "piano           int64\n",
       "description    object\n",
       "dtype: object"
      ]
     },
     "execution_count": 14,
     "metadata": {},
     "output_type": "execute_result"
    }
   ],
   "source": [
    "cleaned_data.dtypes"
   ]
  },
  {
   "cell_type": "markdown",
   "metadata": {},
   "source": [
    "# Datasets"
   ]
  },
  {
   "cell_type": "markdown",
   "metadata": {},
   "source": [
    "Based on the single data frame we extracted using the web scrapping process we created the Description and the Information datasets"
   ]
  },
  {
   "cell_type": "markdown",
   "metadata": {},
   "source": [
    "## Description dataset"
   ]
  },
  {
   "cell_type": "markdown",
   "metadata": {},
   "source": [
    "(Description dataset)\n",
    "\n",
    "    columns: description "
   ]
  },
  {
   "cell_type": "code",
   "execution_count": 15,
   "metadata": {},
   "outputs": [
    {
     "data": {
      "text/html": [
       "<div>\n",
       "<style>\n",
       "    .dataframe thead tr:only-child th {\n",
       "        text-align: right;\n",
       "    }\n",
       "\n",
       "    .dataframe thead th {\n",
       "        text-align: left;\n",
       "    }\n",
       "\n",
       "    .dataframe tbody tr th {\n",
       "        vertical-align: top;\n",
       "    }\n",
       "</style>\n",
       "<table border=\"1\" class=\"dataframe\">\n",
       "  <thead>\n",
       "    <tr style=\"text-align: right;\">\n",
       "      <th></th>\n",
       "      <th>description</th>\n",
       "    </tr>\n",
       "  </thead>\n",
       "  <tbody>\n",
       "    <tr>\n",
       "      <th>0</th>\n",
       "      <td>papillo eur\\r\\r\\n                                PAPILLO EUR in elegante complesso residenziale rifinitissimo bilocale composto da soggiorno con angolo cottura, stanza da letto bagno e ampio balcone . con Rifiniture di pregio, pavimenti in parquet / grees, infissi in legno con vetro camera e porte in noce, grate nel salone, riscaldamento termoautonomo con caldaia centralizzata, aria condizionata, videocitofono, porta blindata, serramenti elettrici con chiusura centralizzata, antenna satellitare, isolamento termo acustico, pannelli solari e fotovoltaici , rilevatori elettronici di gas. Tutte le camere sono fornite di impianto antifurto, presa antenna satellitare e presa telefonica.div\\r\\r\\ndiv\\r\\r\\nORARI lunedi chiusidiv\\r\\r\\n martedi 10:00-17:00div\\r\\r\\n mercoledi 10:00-17:00div\\r\\r\\ndivgiovedi 10:00-17:00div\\r\\r\\ndivvenrdi 10:00-17:00div\\r\\r\\ndivsabato 10:00-17:00div\\r\\r\\n domenica 10:00-13:00\\r\\r\\n</td>\n",
       "    </tr>\n",
       "  </tbody>\n",
       "</table>\n",
       "</div>"
      ],
      "text/plain": [
       "                                                                                                                                                                                                                                                                                                                                                                                                                                                                                                                                                                                                                                                                                                                                                                                                                                                                                                                                                     description\n",
       "0  papillo eur\\r\\r\\n                                PAPILLO EUR in elegante complesso residenziale rifinitissimo bilocale composto da soggiorno con angolo cottura, stanza da letto bagno e ampio balcone . con Rifiniture di pregio, pavimenti in parquet / grees, infissi in legno con vetro camera e porte in noce, grate nel salone, riscaldamento termoautonomo con caldaia centralizzata, aria condizionata, videocitofono, porta blindata, serramenti elettrici con chiusura centralizzata, antenna satellitare, isolamento termo acustico, pannelli solari e fotovoltaici , rilevatori elettronici di gas. Tutte le camere sono fornite di impianto antifurto, presa antenna satellitare e presa telefonica.div\\r\\r\\ndiv\\r\\r\\nORARI lunedi chiusidiv\\r\\r\\n martedi 10:00-17:00div\\r\\r\\n mercoledi 10:00-17:00div\\r\\r\\ndivgiovedi 10:00-17:00div\\r\\r\\ndivvenrdi 10:00-17:00div\\r\\r\\ndivsabato 10:00-17:00div\\r\\r\\n domenica 10:00-13:00\\r\\r\\n            "
      ]
     },
     "execution_count": 15,
     "metadata": {},
     "output_type": "execute_result"
    }
   ],
   "source": [
    "description_dataset=pd.DataFrame(cleaned_data.description)\n",
    "pd.set_option('display.max_colwidth', -1)\n",
    "description_dataset.head(1)"
   ]
  },
  {
   "cell_type": "markdown",
   "metadata": {},
   "source": [
    "## Information dataset"
   ]
  },
  {
   "cell_type": "markdown",
   "metadata": {},
   "source": [
    "(Information dataset)\n",
    "\n",
    "    columns: price, locali, superficie, bagni, piano"
   ]
  },
  {
   "cell_type": "code",
   "execution_count": 16,
   "metadata": {},
   "outputs": [
    {
     "data": {
      "text/html": [
       "<div>\n",
       "<style>\n",
       "    .dataframe thead tr:only-child th {\n",
       "        text-align: right;\n",
       "    }\n",
       "\n",
       "    .dataframe thead th {\n",
       "        text-align: left;\n",
       "    }\n",
       "\n",
       "    .dataframe tbody tr th {\n",
       "        vertical-align: top;\n",
       "    }\n",
       "</style>\n",
       "<table border=\"1\" class=\"dataframe\">\n",
       "  <thead>\n",
       "    <tr style=\"text-align: right;\">\n",
       "      <th></th>\n",
       "      <th>price</th>\n",
       "      <th>locali</th>\n",
       "      <th>superficie</th>\n",
       "      <th>bagni</th>\n",
       "      <th>piano</th>\n",
       "    </tr>\n",
       "  </thead>\n",
       "  <tbody>\n",
       "    <tr>\n",
       "      <th>0</th>\n",
       "      <td>225000</td>\n",
       "      <td>2</td>\n",
       "      <td>50</td>\n",
       "      <td>1</td>\n",
       "      <td>1</td>\n",
       "    </tr>\n",
       "    <tr>\n",
       "      <th>1</th>\n",
       "      <td>339000</td>\n",
       "      <td>3</td>\n",
       "      <td>90</td>\n",
       "      <td>1</td>\n",
       "      <td>4</td>\n",
       "    </tr>\n",
       "    <tr>\n",
       "      <th>2</th>\n",
       "      <td>480000</td>\n",
       "      <td>4</td>\n",
       "      <td>125</td>\n",
       "      <td>2</td>\n",
       "      <td>4</td>\n",
       "    </tr>\n",
       "    <tr>\n",
       "      <th>3</th>\n",
       "      <td>135000</td>\n",
       "      <td>2</td>\n",
       "      <td>60</td>\n",
       "      <td>1</td>\n",
       "      <td>5</td>\n",
       "    </tr>\n",
       "    <tr>\n",
       "      <th>4</th>\n",
       "      <td>249000</td>\n",
       "      <td>2</td>\n",
       "      <td>75</td>\n",
       "      <td>1</td>\n",
       "      <td>1</td>\n",
       "    </tr>\n",
       "  </tbody>\n",
       "</table>\n",
       "</div>"
      ],
      "text/plain": [
       "    price  locali  superficie  bagni  piano\n",
       "0  225000  2       50          1      1    \n",
       "1  339000  3       90          1      4    \n",
       "2  480000  4       125         2      4    \n",
       "3  135000  2       60          1      5    \n",
       "4  249000  2       75          1      1    "
      ]
     },
     "execution_count": 16,
     "metadata": {},
     "output_type": "execute_result"
    }
   ],
   "source": [
    "information_dataset=cleaned_data.drop(['description'],axis=1)\n",
    "information_dataset.head(5)"
   ]
  },
  {
   "cell_type": "code",
   "execution_count": 17,
   "metadata": {},
   "outputs": [],
   "source": [
    "#In this way we can reuse it and not repeat cleaning process every time we execute the notebook"
   ]
  },
  {
   "cell_type": "code",
   "execution_count": 18,
   "metadata": {},
   "outputs": [],
   "source": [
    "#Save information and description datasets to two separate .csv files"
   ]
  },
  {
   "cell_type": "code",
   "execution_count": 19,
   "metadata": {},
   "outputs": [],
   "source": [
    "information_dataset.to_csv('information_dataset.csv')"
   ]
  },
  {
   "cell_type": "code",
   "execution_count": 20,
   "metadata": {},
   "outputs": [],
   "source": [
    "description_dataset.to_csv('description_dataset.csv')"
   ]
  },
  {
   "cell_type": "markdown",
   "metadata": {},
   "source": [
    "Based on the description dataset we should make a dataframe that has _i_ collected announcements as indices and _j_ words like columns, where each value from the matrix represents tf_idf value _j-th_ word in _i-th_ announcement."
   ]
  },
  {
   "cell_type": "code",
   "execution_count": 21,
   "metadata": {},
   "outputs": [],
   "source": [
    "#Make vocabulary"
   ]
  },
  {
   "cell_type": "code",
   "execution_count": 22,
   "metadata": {},
   "outputs": [],
   "source": [
    "def preprocessing_text(df):\n",
    "    \"\"\"\n",
    "    Method that returns filtered words from the text input \n",
    "    \n",
    "    Input: string(text)\n",
    "    Output: list(bag of words)\n",
    "    \"\"\"  \n",
    "    #remove upper cases\n",
    "    df=df.lower()\n",
    "   \n",
    "    #replacing new line sign '\\n' '\\r' and 'div' from html with a whitespace ' '    \n",
    "    df=df.replace('\\\\n',' ').replace('\\\\r',' ').replace('div',' ')\n",
    "    \n",
    "    #for removing stop words\n",
    "    stop_words = set(stopwords.words('italian')) \n",
    "    #add html tags left from scrapping\n",
    "    stop_words.add('div')\n",
    "    stop_words.add('n')\n",
    "    stop_words.add('b')\n",
    "\n",
    "    #remove numbers\n",
    "    df = re.sub(\"\\d+\", \"\", df)\n",
    "    \n",
    "    #for removing punctuations\n",
    "    tokenizer = RegexpTokenizer(r'\\w+')\n",
    "    \n",
    "    #to tokenize the string\n",
    "    word_tokens = tokenizer.tokenize(df)     \n",
    "\n",
    "    #stemming\n",
    "    #ps = PorterStemmer()\n",
    "    snow_stem = SnowballStemmer('italian')\n",
    "    filtered_words = [snow_stem.stem(w) for w in word_tokens if not w in stop_words] \n",
    "\n",
    "    return filtered_words"
   ]
  },
  {
   "cell_type": "code",
   "execution_count": 23,
   "metadata": {},
   "outputs": [],
   "source": [
    "def build_vocabulary(df):\n",
    "    \"\"\"\n",
    "    Method that creates vocabulary\n",
    "    \n",
    "    Input: dataframe\n",
    "    Output: vocabulary list \n",
    "    \"\"\"  \n",
    "    #list for vocabulary \n",
    "    vocabulary_lst=[]\n",
    "    #preprocessing description and get res->list of lists, where each list i a list of filtered preproccesed words \n",
    "    res=df.description.apply(lambda x: preprocessing_text(x))   \n",
    "    \n",
    "    #vocabulary_set is a set used for making vocabulary with unique words\n",
    "\n",
    "    vocabulary_set = set(res[0]).union(*res[1:])\n",
    "\n",
    "    \n",
    "    #mapping words into integers\n",
    "    vocabulary={} \n",
    "    for k,v in enumerate(vocabulary_set):\n",
    "        vocabulary[v]= k\n",
    "    return res,vocabulary"
   ]
  },
  {
   "cell_type": "code",
   "execution_count": 24,
   "metadata": {},
   "outputs": [],
   "source": [
    "res,vocabulary=build_vocabulary(description_dataset)"
   ]
  },
  {
   "cell_type": "code",
   "execution_count": 25,
   "metadata": {},
   "outputs": [
    {
     "data": {
      "text/plain": [
       "74"
      ]
     },
     "execution_count": 25,
     "metadata": {},
     "output_type": "execute_result"
    }
   ],
   "source": [
    "len(res[0])"
   ]
  },
  {
   "cell_type": "code",
   "execution_count": 26,
   "metadata": {},
   "outputs": [
    {
     "data": {
      "text/plain": [
       "14342"
      ]
     },
     "execution_count": 26,
     "metadata": {},
     "output_type": "execute_result"
    }
   ],
   "source": [
    "len(vocabulary)"
   ]
  },
  {
   "cell_type": "code",
   "execution_count": 27,
   "metadata": {},
   "outputs": [],
   "source": [
    "#vocabulary"
   ]
  },
  {
   "cell_type": "code",
   "execution_count": 28,
   "metadata": {},
   "outputs": [],
   "source": [
    "#Saving vocabulary as a dictionary into a \"vocabulary.p\" (pickle) file\n",
    "\n",
    "#21370 what else should we eliminate from the words??\n",
    "pickle.dump(vocabulary, open(\"vocabulary.p\", \"wb\"))"
   ]
  },
  {
   "cell_type": "code",
   "execution_count": 29,
   "metadata": {},
   "outputs": [],
   "source": [
    "#To load it into memory from file\n",
    "vocabulary = pickle.load(open(\"vocabulary.p\", \"rb\"))"
   ]
  },
  {
   "cell_type": "markdown",
   "metadata": {},
   "source": [
    "TF(t) = (Number of times term t appears in a document) / (Total number of terms in the document)\n",
    "every row is a separate house(which is considered as a separate document)"
   ]
  },
  {
   "cell_type": "code",
   "execution_count": 30,
   "metadata": {},
   "outputs": [],
   "source": [
    "####NEED TO change and finish it in ORDER TO CALCULATE TF_IDF VALUES \n",
    "def compute_inverted_idx(res,vocabulary):\n",
    "    \"\"\"\n",
    "    method that computes an inverted index\n",
    "    \n",
    "    input: res(list of lists), vocabulary(dictionary of all unique words, key=term, value=term_id)\n",
    "    output: inverted_idx(dictionary, key=term_id, value=list of document_ids(rows)) \n",
    "    \"\"\"\n",
    "    #initialize defaultdict for making an inverted index\n",
    "    inverted_idx = defaultdict(list)\n",
    "    #in every document look for every word and assign document id to the words which belong to it\n",
    "    for idx,lst in enumerate(res):\n",
    "        lst=((pd.Series(lst).value_counts())/len(lst)).sort_index()\n",
    "\n",
    "        #lst=set(lst)\n",
    "        for i,tf in enumerate(lst):\n",
    "            inverted_idx[lst.index[i]].append((idx,tf))\n",
    "    return inverted_idx"
   ]
  },
  {
   "cell_type": "code",
   "execution_count": 31,
   "metadata": {
    "scrolled": false
   },
   "outputs": [],
   "source": [
    "inverted_idx=compute_inverted_idx(res,vocabulary)"
   ]
  },
  {
   "cell_type": "code",
   "execution_count": 32,
   "metadata": {},
   "outputs": [
    {
     "data": {
      "text/plain": [
       "14342"
      ]
     },
     "execution_count": 32,
     "metadata": {},
     "output_type": "execute_result"
    }
   ],
   "source": [
    "len(inverted_idx)\n",
    "#dictionary->key=term_id,  value= (document_id,tf_value)"
   ]
  },
  {
   "cell_type": "code",
   "execution_count": 33,
   "metadata": {},
   "outputs": [
    {
     "data": {
      "text/plain": [
       "12"
      ]
     },
     "execution_count": 33,
     "metadata": {},
     "output_type": "execute_result"
    }
   ],
   "source": [
    "len(inverted_idx['plus'])"
   ]
  },
  {
   "cell_type": "code",
   "execution_count": 34,
   "metadata": {},
   "outputs": [
    {
     "data": {
      "text/plain": [
       "[(942, 0.004366812227074236),\n",
       " (1377, 0.0025),\n",
       " (1774, 0.008403361344537815),\n",
       " (2975, 0.00411522633744856),\n",
       " (4448, 0.0036363636363636364),\n",
       " (4983, 0.0040650406504065045),\n",
       " (5028, 0.0078125),\n",
       " (5219, 0.0036363636363636364),\n",
       " (6420, 0.013888888888888888),\n",
       " (6659, 0.005235602094240838),\n",
       " (7597, 0.007936507936507936),\n",
       " (10345, 0.006578947368421052)]"
      ]
     },
     "execution_count": 34,
     "metadata": {},
     "output_type": "execute_result"
    }
   ],
   "source": [
    "inverted_idx['plus']"
   ]
  },
  {
   "cell_type": "code",
   "execution_count": 35,
   "metadata": {},
   "outputs": [],
   "source": [
    "#Saving inverted_idx as a dictionary into a \"inverted_idx.p\" (pickle) file\n",
    "pickle.dump(inverted_idx, open(\"inverted_idx.p\", \"wb\"))"
   ]
  },
  {
   "cell_type": "code",
   "execution_count": 36,
   "metadata": {},
   "outputs": [],
   "source": [
    "#dictionary->key=doc_id,word,  value=tfidf---. sequentially for each word in vocab\n",
    "tf_idf_dic={}\n",
    "total_num_docs=description_dataset.shape[0]\n",
    "\n",
    "    #dictionary->key=term_id, value= (document_id,tf_value)\n",
    "for term,tup_pair in inverted_idx.items():\n",
    "    for doc_id,tf_value in tup_pair:\n",
    "        tf_idf_dic[(doc_id,term)]= np.log(total_num_docs/len(inverted_idx[term]))*tf_value"
   ]
  },
  {
   "cell_type": "code",
   "execution_count": 37,
   "metadata": {},
   "outputs": [],
   "source": [
    "#Saving inverted_idx as a dictionary into a \"inverted_idx.p\" (pickle) file\n",
    "\n",
    "pickle.dump(tf_idf_dic, open(\"tf_idf_dic.p\", \"wb\"))"
   ]
  },
  {
   "cell_type": "code",
   "execution_count": 38,
   "metadata": {},
   "outputs": [
    {
     "data": {
      "text/plain": [
       "863552"
      ]
     },
     "execution_count": 38,
     "metadata": {},
     "output_type": "execute_result"
    }
   ],
   "source": [
    "len(tf_idf_dic)"
   ]
  },
  {
   "cell_type": "code",
   "execution_count": 39,
   "metadata": {},
   "outputs": [
    {
     "data": {
      "text/plain": [
       "0.02969384992622791"
      ]
     },
     "execution_count": 39,
     "metadata": {},
     "output_type": "execute_result"
    }
   ],
   "source": [
    "tf_idf_dic[942,'plus']"
   ]
  },
  {
   "cell_type": "code",
   "execution_count": 40,
   "metadata": {},
   "outputs": [],
   "source": [
    "#description_dataset.to_csv('description_dataset.csv')"
   ]
  },
  {
   "cell_type": "code",
   "execution_count": 41,
   "metadata": {},
   "outputs": [],
   "source": [
    "#TF(t) = (Number of times term t appears in a document) / (Total number of terms in the document)\n",
    "#IDF(t) = log_e(Total number of documents / Number of documents with term t in it)\n",
    "\n",
    "def calculate_tf_idf(description_dataset,inverted_idx,vocabulary):\n",
    "    \"\"\"\n",
    "    method that calculates tf-idf values\n",
    "     \n",
    "    input:  inverted_idx(dictionary, key=term_id, value=list of document_ids)\n",
    "            vocabulary(dictionary of all unique words, key=term, value=term_id)\n",
    "    output: tf_idf_dic(dictionary of tf_idf_values for all rows(docs), key=tuple(term,doc_id), value=tf_idf value)\n",
    "    \"\"\" \n",
    "    \n",
    "    return tf_idf_dic"
   ]
  },
  {
   "cell_type": "code",
   "execution_count": 42,
   "metadata": {},
   "outputs": [],
   "source": [
    "#To load it into memory from file\n",
    "inverted_idx = pickle.load(open(\"inverted_idx.p\", \"rb\"))"
   ]
  },
  {
   "cell_type": "markdown",
   "metadata": {},
   "source": [
    "# Clustering\n",
    "\n",
    "This step consists in _clustering the house announcements_ using **K-means++** and choosing the **optimal** number of clusters using the **Elbow-Method**."
   ]
  },
  {
   "cell_type": "code",
   "execution_count": 43,
   "metadata": {},
   "outputs": [],
   "source": [
    "information_dataset=pd.read_csv('information_dataset.csv')"
   ]
  },
  {
   "cell_type": "code",
   "execution_count": 44,
   "metadata": {},
   "outputs": [],
   "source": [
    "#should we normalize?"
   ]
  },
  {
   "cell_type": "code",
   "execution_count": 45,
   "metadata": {},
   "outputs": [],
   "source": [
    "# Information dataset clustering"
   ]
  },
  {
   "cell_type": "code",
   "execution_count": 46,
   "metadata": {},
   "outputs": [],
   "source": [
    "from sklearn import cluster\n",
    "import matplotlib.pyplot as plt\n",
    "%matplotlib inline\n",
    "from sklearn.cluster import KMeans\n",
    "from sklearn.metrics import silhouette_score"
   ]
  },
  {
   "cell_type": "code",
   "execution_count": 47,
   "metadata": {},
   "outputs": [
    {
     "data": {
      "text/plain": [
       "Text(0.5,1,'Elbow curve')"
      ]
     },
     "execution_count": 47,
     "metadata": {},
     "output_type": "execute_result"
    },
    {
     "data": {
      "image/png": "[encoded data removed]",
      "text/plain": [
       "<matplotlib.figure.Figure at 0x1c603a10>"
      ]
     },
     "metadata": {},
     "output_type": "display_data"
    }
   ],
   "source": [
    "X=information_dataset.loc[:,['price','locali','superficie','bagni','piano']]\n",
    "distorsions = []\n",
    "for k in range(1, 11):\n",
    "    kmeans = KMeans(n_clusters=k,init='k-means++')\n",
    "    kmeans.fit(X)\n",
    "    distorsions.append(kmeans.inertia_)\n",
    "\n",
    "fig = plt.figure(figsize=(15, 5))\n",
    "plt.xticks(range(1,11))\n",
    "plt.plot(range(1, 11), distorsions,'gx-')\n",
    "plt.grid(True)\n",
    "plt.xlabel('Value of k')\n",
    "plt.title('Elbow curve')\n",
    "# Inertia: Sum of distances of samples to their closest cluster center"
   ]
  },
  {
   "cell_type": "markdown",
   "metadata": {},
   "source": [
    "The technique to determine K, the number of clusters, is called the elbow method.\n",
    "\n",
    "Based on the elbow method which is one of the techniques for determining k We chose number of clusters **3** ? \n",
    "Because as shown on the graph after k=3 the improvements are not so big if k values increases.\n",
    "\n",
    "That point k=3 is the optimal value for K. \n",
    "\n",
    "If k=3 let's see how the kmeans clustered the data and which centroids were chosen."
   ]
  },
  {
   "cell_type": "code",
   "execution_count": 48,
   "metadata": {},
   "outputs": [
    {
     "data": {
      "text/plain": [
       "KMeans(algorithm='auto', copy_x=True, init='k-means++', max_iter=300,\n",
       "    n_clusters=3, n_init=10, n_jobs=1, precompute_distances='auto',\n",
       "    random_state=None, tol=0.0001, verbose=0)"
      ]
     },
     "execution_count": 48,
     "metadata": {},
     "output_type": "execute_result"
    }
   ],
   "source": [
    "k=3\n",
    "kmeans = KMeans(n_clusters=k,init='k-means++')\n",
    "kmeans.fit(X)"
   ]
  },
  {
   "cell_type": "code",
   "execution_count": 49,
   "metadata": {},
   "outputs": [
    {
     "data": {
      "text/plain": [
       "array([[1.13150727e+06, 4.28779070e+00, 1.66063953e+02, 2.22093023e+00,\n",
       "        2.65116279e+00],\n",
       "       [2.21033802e+05, 2.76065277e+00, 4.62876829e+02, 1.28726849e+00,\n",
       "        2.03794845e+00],\n",
       "       [5.12316100e+05, 3.83788774e+00, 1.24613368e+02, 1.84711965e+00,\n",
       "        2.47525849e+00]])"
      ]
     },
     "execution_count": 49,
     "metadata": {},
     "output_type": "execute_result"
    }
   ],
   "source": [
    "#centroids are:\n",
    "kmeans.cluster_centers_"
   ]
  },
  {
   "cell_type": "code",
   "execution_count": 50,
   "metadata": {},
   "outputs": [],
   "source": [
    "#labels assigned to each data point\n",
    "labels=kmeans.labels_"
   ]
  },
  {
   "cell_type": "code",
   "execution_count": 51,
   "metadata": {},
   "outputs": [
    {
     "data": {
      "text/plain": [
       "Index(['Unnamed: 0', 'price', 'locali', 'superficie', 'bagni', 'piano'], dtype='object')"
      ]
     },
     "execution_count": 51,
     "metadata": {},
     "output_type": "execute_result"
    }
   ],
   "source": [
    "information_dataset.columns"
   ]
  },
  {
   "cell_type": "code",
   "execution_count": 52,
   "metadata": {},
   "outputs": [
    {
     "data": {
      "text/html": [
       "<div>\n",
       "<style>\n",
       "    .dataframe thead tr:only-child th {\n",
       "        text-align: right;\n",
       "    }\n",
       "\n",
       "    .dataframe thead th {\n",
       "        text-align: left;\n",
       "    }\n",
       "\n",
       "    .dataframe tbody tr th {\n",
       "        vertical-align: top;\n",
       "    }\n",
       "</style>\n",
       "<table border=\"1\" class=\"dataframe\">\n",
       "  <thead>\n",
       "    <tr style=\"text-align: right;\">\n",
       "      <th></th>\n",
       "      <th>price</th>\n",
       "      <th>locali</th>\n",
       "      <th>superficie</th>\n",
       "      <th>bagni</th>\n",
       "      <th>piano</th>\n",
       "    </tr>\n",
       "  </thead>\n",
       "  <tbody>\n",
       "    <tr>\n",
       "      <th>0</th>\n",
       "      <td>1.131507e+06</td>\n",
       "      <td>4.287791</td>\n",
       "      <td>166.063953</td>\n",
       "      <td>2.220930</td>\n",
       "      <td>2.651163</td>\n",
       "    </tr>\n",
       "    <tr>\n",
       "      <th>1</th>\n",
       "      <td>2.210338e+05</td>\n",
       "      <td>2.760653</td>\n",
       "      <td>462.876829</td>\n",
       "      <td>1.287268</td>\n",
       "      <td>2.037948</td>\n",
       "    </tr>\n",
       "    <tr>\n",
       "      <th>2</th>\n",
       "      <td>5.123161e+05</td>\n",
       "      <td>3.837888</td>\n",
       "      <td>124.613368</td>\n",
       "      <td>1.847120</td>\n",
       "      <td>2.475258</td>\n",
       "    </tr>\n",
       "  </tbody>\n",
       "</table>\n",
       "</div>"
      ],
      "text/plain": [
       "          price    locali  superficie     bagni     piano\n",
       "0  1.131507e+06  4.287791  166.063953  2.220930  2.651163\n",
       "1  2.210338e+05  2.760653  462.876829  1.287268  2.037948\n",
       "2  5.123161e+05  3.837888  124.613368  1.847120  2.475258"
      ]
     },
     "execution_count": 52,
     "metadata": {},
     "output_type": "execute_result"
    }
   ],
   "source": [
    "cluster_representatives=pd.DataFrame(kmeans.cluster_centers_, columns= information_dataset.columns[1:])\n",
    "cluster_representatives"
   ]
  },
  {
   "cell_type": "code",
   "execution_count": 53,
   "metadata": {},
   "outputs": [],
   "source": [
    "centers = np.array(kmeans.cluster_centers_)"
   ]
  },
  {
   "cell_type": "code",
   "execution_count": 54,
   "metadata": {
    "scrolled": true
   },
   "outputs": [
    {
     "data": {
      "text/plain": [
       "array([[1.13150727e+06, 4.28779070e+00, 1.66063953e+02, 2.22093023e+00,\n",
       "        2.65116279e+00],\n",
       "       [2.21033802e+05, 2.76065277e+00, 4.62876829e+02, 1.28726849e+00,\n",
       "        2.03794845e+00],\n",
       "       [5.12316100e+05, 3.83788774e+00, 1.24613368e+02, 1.84711965e+00,\n",
       "        2.47525849e+00]])"
      ]
     },
     "execution_count": 54,
     "metadata": {},
     "output_type": "execute_result"
    }
   ],
   "source": [
    "centers"
   ]
  },
  {
   "cell_type": "markdown",
   "metadata": {},
   "source": [
    "### Visualization of k centroids\n",
    "\n",
    "After we chose our optimal 'k' for the k-means algorithm we decided to see more detailed the way k-means clustered the data and centroid's value for each attribute of the information dataset.\n",
    "On the graphs shown below it is obvious that values are different for each attribute and that k we chose is good enough to describe the data if it is clustered this way.\n"
   ]
  },
  {
   "cell_type": "code",
   "execution_count": 55,
   "metadata": {},
   "outputs": [
    {
     "name": "stdout",
     "output_type": "stream",
     "text": [
      "This is the format of your plot grid:\n",
      "[ (1,1) x1,y1 ]  [ (1,2) x2,y2 ]\n",
      "[ (2,1) x3,y3 ]  [ (2,2) x4,y4 ]\n",
      "[ (3,1) x5,y5 ]  [ (3,2) x6,y6 ]\n",
      "\n",
      "High five! You successfully sent some data to your account on plotly. View your plot in your browser at https://plot.ly/~dusica.stepic/0 or inside your plot.ly account where it is named 'make-subplots-multiple-with-titles'\n"
     ]
    },
    {
     "data": {
      "text/html": [
       "<iframe id=\"igraph\" scrolling=\"no\" style=\"border:none;\" seamless=\"seamless\" src=\"https://plot.ly/~dusica.stepic/0.embed\" height=\"750px\" width=\"1000px\"></iframe>"
      ],
      "text/plain": [
       "<plotly.tools.PlotlyDisplay object>"
      ]
     },
     "execution_count": 55,
     "metadata": {},
     "output_type": "execute_result"
    }
   ],
   "source": [
    "from plotly import tools\n",
    "import plotly.plotly as py\n",
    "import plotly.graph_objs as go\n",
    "import plotly\n",
    "plotly.tools.set_credentials_file(username='dusica.stepic', api_key='Rx9EHvecU0SWHC02v2jo')\n",
    "\n",
    "\n",
    "\n",
    "cls=['Cluster 1','Cluster 2','Cluster 3']\n",
    "\n",
    "trace1 = go.Scatter(x=cls, y=centers[:,0],mode = 'markers',name='Price')\n",
    "trace2 = go.Scatter(x=cls, y=centers[:,1],mode = 'markers',name='Locali')\n",
    "trace3 = go.Scatter(x=cls, y=centers[:,2],mode = 'markers',name='Superficie')\n",
    "trace4 = go.Scatter(x=cls, y=centers[:,3],mode = 'markers',name='Bagni')\n",
    "trace5 = go.Scatter(x=cls, y=centers[:,4],mode = 'markers',name='Piano')\n",
    "\n",
    "\n",
    "fig = tools.make_subplots(rows=3, cols=2, subplot_titles=('Price', 'Locali',\n",
    "                                                          'Superficie', 'Bagni','Piano'))\n",
    "\n",
    "fig.append_trace(trace1, 1, 1)\n",
    "fig.append_trace(trace2, 1, 2)\n",
    "fig.append_trace(trace3, 2, 1)\n",
    "fig.append_trace(trace4, 2, 2)\n",
    "fig.append_trace(trace5, 3, 1)\n",
    "\n",
    "fig['layout'].update(height=750\n",
    "                     , width=1000, title='Cluster representatives' +\n",
    "                                                  ' for every attribute')\n",
    "\n",
    "py.iplot(fig, filename='make-subplots-multiple-with-titles')"
   ]
  },
  {
   "cell_type": "markdown",
   "metadata": {},
   "source": [
    "# Description dataset clustering"
   ]
  },
  {
   "cell_type": "markdown",
   "metadata": {},
   "source": [
    "## Comparison among cluster\n",
    "\n",
    "\n",
    "We expect that both datasets will lead to similar clusters. Is this true?\n"
   ]
  },
  {
   "cell_type": "code",
   "execution_count": 56,
   "metadata": {},
   "outputs": [
    {
     "data": {
      "text/plain": [
       "2"
      ]
     },
     "execution_count": 56,
     "metadata": {},
     "output_type": "execute_result"
    }
   ],
   "source": [
    "#Jaccard similarity\n",
    ">>> import numpy as np\n",
    ">>> from sklearn.metrics import jaccard_similarity_score\n",
    ">>> y_pred = [0, 2, 1, 3,1,2]\n",
    ">>> y_true = [0, 1, 2, 3,2,1]\n",
    ">>> jaccard_similarity_score(y_true, y_pred)\n",
    "0.5\n",
    ">>> jaccard_similarity_score(y_true, y_pred, normalize=False)\n",
    "2"
   ]
  },
  {
   "cell_type": "code",
   "execution_count": 57,
   "metadata": {},
   "outputs": [
    {
     "data": {
      "text/plain": [
       "4"
      ]
     },
     "execution_count": 57,
     "metadata": {},
     "output_type": "execute_result"
    }
   ],
   "source": [
    "A,B=y_true,y_pred\n",
    "A=set(A)\n",
    "B=set(B)\n",
    "len(A.union(B))"
   ]
  },
  {
   "cell_type": "code",
   "execution_count": 58,
   "metadata": {},
   "outputs": [
    {
     "name": "stdout",
     "output_type": "stream",
     "text": [
      "1.0\n",
      "4\n",
      "4\n"
     ]
    }
   ],
   "source": [
    "list1 = ['dog', 'cat', 'cat', 'rat']\n",
    "list2 = ['dog', 'cat', 'mouse']\n",
    "s1 = set(y_true)\n",
    "s2 = set(y_pred)\n",
    "print(len(s1.intersection(s2)) / len(s1.union(s2)))\n",
    "print(len(s1.intersection(s2)))\n",
    "print(len(s1.union(s2)))\n",
    "\n",
    "\n"
   ]
  },
  {
   "cell_type": "markdown",
   "metadata": {},
   "source": [
    "#jaccard_similarity should compare pairs of clusters from information and description dataset"
   ]
  },
  {
   "cell_type": "code",
   "execution_count": 59,
   "metadata": {},
   "outputs": [],
   "source": [
    "def jaccard_similarity(a,b):\n",
    "    \"\"\"\n",
    "    Method that returns jaccard_similarity score: |A.intersection(B)|/|A.union(B)|\n",
    "    \n",
    "    input: a-predicted cluster labels for the first dataset\n",
    "           b-predicted cluster labels for the second dataset\n",
    "    output:\n",
    "    \"\"\"\n",
    "    A=set(a)\n",
    "    B=set(b)\n",
    "    return len(A.intersection(B))/len(A.union(B))"
   ]
  },
  {
   "cell_type": "code",
   "execution_count": 60,
   "metadata": {},
   "outputs": [
    {
     "data": {
      "text/plain": [
       "1.0"
      ]
     },
     "execution_count": 60,
     "metadata": {},
     "output_type": "execute_result"
    }
   ],
   "source": [
    "jaccard_similarity(y_true, y_pred)"
   ]
  },
  {
   "cell_type": "markdown",
   "metadata": {},
   "source": [
    "\n",
    "Find similar clusters\n",
    "To check this, use the Jaccard-Similarity to measure the similarity betweeen the two outputs (information clusters vs description clusters). Return the 3-most similar couples of clusters.\n",
    "\n",
    "Word cloud of house descriptions\n",
    "With this last output you must create a wordcloud for each couple of clusters. The words that will be represented are those extracted from the description of the houses that are in the relative couple."
   ]
  },
  {
   "cell_type": "markdown",
   "metadata": {},
   "source": [
    "## Bonus Clustering - skip for now...maybe if we have time"
   ]
  },
  {
   "cell_type": "code",
   "execution_count": null,
   "metadata": {},
   "outputs": [],
   "source": []
  }
 ],
 "metadata": {
  "kernelspec": {
   "display_name": "Python 3",
   "language": "python",
   "name": "python3"
  },
  "language_info": {
   "codemirror_mode": {
    "name": "ipython",
    "version": 3
   },
   "file_extension": ".py",
   "mimetype": "text/x-python",
   "name": "python",
   "nbconvert_exporter": "python",
   "pygments_lexer": "ipython3",
   "version": "3.6.3"
  }
 },
 "nbformat": 4,
 "nbformat_minor": 2
}
