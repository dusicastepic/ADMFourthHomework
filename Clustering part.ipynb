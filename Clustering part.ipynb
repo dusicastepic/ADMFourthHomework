{
 "cells": [
  {
   "cell_type": "markdown",
   "metadata": {},
   "source": [
    "# Libraries"
   ]
  },
  {
   "cell_type": "code",
   "execution_count": 1,
   "metadata": {},
   "outputs": [],
   "source": [
    "import pandas as pd\n",
    "import numpy as np\n",
    "\n",
    "from collections import defaultdict\n",
    "\n",
    "from nltk.corpus import stopwords \n",
    "#from nltk.stem import PorterStemmer\n",
    "from nltk.stem.snowball import SnowballStemmer\n",
    "\n",
    "from nltk.tokenize import RegexpTokenizer\n",
    "import re\n",
    "import pickle\n",
    "\n",
    "#from wordcloud import WordCloud\n",
    "#pd.set_option('display.max_colwidth', -1)"
   ]
  },
  {
   "cell_type": "markdown",
   "metadata": {},
   "source": [
    "Web scrapping info\n",
    "\n",
    "        .\n",
    "        .\n",
    "        ."
   ]
  },
  {
   "cell_type": "markdown",
   "metadata": {},
   "source": [
    "After web scrapping we created one single data frame with columns 'price', 'locali', 'superficie', 'bagni', 'piano', 'description' and stored it as a .csv file for future usage. "
   ]
  },
  {
   "cell_type": "code",
   "execution_count": 2,
   "metadata": {},
   "outputs": [
    {
     "data": {
      "text/plain": [
       "Index(['price', 'locali', 'superficie', 'bagni', 'piano', 'description'], dtype='object')"
      ]
     },
     "execution_count": 2,
     "metadata": {},
     "output_type": "execute_result"
    }
   ],
   "source": [
    "#Importing data into memory from the stored .csv file\n",
    "data = pd.read_csv(\"data_houses.csv\", sep='\\t', encoding='utf-8')\n",
    "data.columns"
   ]
  },
  {
   "cell_type": "code",
   "execution_count": 3,
   "metadata": {},
   "outputs": [
    {
     "data": {
      "text/plain": [
       "(23203, 6)"
      ]
     },
     "execution_count": 3,
     "metadata": {},
     "output_type": "execute_result"
    }
   ],
   "source": [
    "#The number of rows before cleaning\n",
    "data.shape"
   ]
  },
  {
   "cell_type": "code",
   "execution_count": 4,
   "metadata": {},
   "outputs": [
    {
     "data": {
      "text/plain": [
       "price             1\n",
       "locali          354\n",
       "superficie       24\n",
       "bagni           491\n",
       "piano          3793\n",
       "description    5045\n",
       "dtype: int64"
      ]
     },
     "execution_count": 4,
     "metadata": {},
     "output_type": "execute_result"
    }
   ],
   "source": [
    "#Checking null values of the dataset\n",
    "data.isnull().sum()"
   ]
  },
  {
   "cell_type": "code",
   "execution_count": 5,
   "metadata": {},
   "outputs": [
    {
     "data": {
      "text/plain": [
       "price          object\n",
       "locali         object\n",
       "superficie     object\n",
       "bagni          object\n",
       "piano          object\n",
       "description    object\n",
       "dtype: object"
      ]
     },
     "execution_count": 5,
     "metadata": {},
     "output_type": "execute_result"
    }
   ],
   "source": [
    "#Checking data types of the dataset\n",
    "data.dtypes"
   ]
  },
  {
   "cell_type": "code",
   "execution_count": 6,
   "metadata": {},
   "outputs": [
    {
     "data": {
      "text/html": [
       "<div>\n",
       "<style>\n",
       "    .dataframe thead tr:only-child th {\n",
       "        text-align: right;\n",
       "    }\n",
       "\n",
       "    .dataframe thead th {\n",
       "        text-align: left;\n",
       "    }\n",
       "\n",
       "    .dataframe tbody tr th {\n",
       "        vertical-align: top;\n",
       "    }\n",
       "</style>\n",
       "<table border=\"1\" class=\"dataframe\">\n",
       "  <thead>\n",
       "    <tr style=\"text-align: right;\">\n",
       "      <th></th>\n",
       "      <th>price</th>\n",
       "      <th>locali</th>\n",
       "      <th>superficie</th>\n",
       "      <th>bagni</th>\n",
       "      <th>piano</th>\n",
       "    </tr>\n",
       "  </thead>\n",
       "  <tbody>\n",
       "    <tr>\n",
       "      <th>count</th>\n",
       "      <td>23202</td>\n",
       "      <td>22849</td>\n",
       "      <td>23179</td>\n",
       "      <td>22712</td>\n",
       "      <td>19410</td>\n",
       "    </tr>\n",
       "    <tr>\n",
       "      <th>unique</th>\n",
       "      <td>2335</td>\n",
       "      <td>6</td>\n",
       "      <td>587</td>\n",
       "      <td>315</td>\n",
       "      <td>15</td>\n",
       "    </tr>\n",
       "    <tr>\n",
       "      <th>top</th>\n",
       "      <td>€ 199.000</td>\n",
       "      <td>3</td>\n",
       "      <td>90</td>\n",
       "      <td>1</td>\n",
       "      <td>1</td>\n",
       "    </tr>\n",
       "    <tr>\n",
       "      <th>freq</th>\n",
       "      <td>338</td>\n",
       "      <td>7177</td>\n",
       "      <td>962</td>\n",
       "      <td>10007</td>\n",
       "      <td>4236</td>\n",
       "    </tr>\n",
       "  </tbody>\n",
       "</table>\n",
       "</div>"
      ],
      "text/plain": [
       "            price locali superficie  bagni  piano\n",
       "count       23202  22849      23179  22712  19410\n",
       "unique       2335      6        587    315     15\n",
       "top     € 199.000     3          90     1       1\n",
       "freq          338   7177        962  10007   4236"
      ]
     },
     "execution_count": 6,
     "metadata": {},
     "output_type": "execute_result"
    }
   ],
   "source": [
    "data.loc[:,['price','locali','superficie','bagni','piano']].describe()"
   ]
  },
  {
   "cell_type": "code",
   "execution_count": 7,
   "metadata": {
    "scrolled": true
   },
   "outputs": [
    {
     "data": {
      "text/plain": [
       "1      4236\n",
       "2      3308\n",
       "T      2891\n",
       "3      2419\n",
       "A      1652\n",
       "4      1570\n",
       "R      1008\n",
       "5       924\n",
       "6       463\n",
       "S       381\n",
       "7       350\n",
       "8       134\n",
       "9        32\n",
       "11+      26\n",
       "10       16\n",
       "Name: piano, dtype: int64"
      ]
     },
     "execution_count": 7,
     "metadata": {},
     "output_type": "execute_result"
    }
   ],
   "source": [
    "data.piano.value_counts()"
   ]
  },
  {
   "cell_type": "markdown",
   "metadata": {},
   "source": [
    "\n",
    "\n",
    "After _analyzing_ the possible values of each attribute of the dataset we decided the following about the process of \n",
    "**cleaning** the dataset before making two separate datasets for clustering.\n",
    "    \n",
    "The data cleaning process:\n",
    "    1. Remove nan values\n",
    "    2. Attribute price should be converted to integer data type and '€' removed from the values\n",
    "    3. In attribute locali remove rows where the value of locali is 5+ and convert attribute to integer data type\n",
    "    4. Attribute superficie has some strange values because of the scrapping, like dates '14/02/19' '18/01/19' and all the values that don't make sense should be removed and the attribute should be converted to the integer data type\n",
    "    5. For attribute piano replace T->0 and drop the rows with piano values A, R, S and 11+ cause they are ambiguous\n",
    "    6. The values where the number of bathrooms(attribute bagni) are 1, 2 or 3 should be kept because they are the most common ones and other numbers are rare and therefore considered outliers(they are probably buildings_?). Moreover, rows with bagni values 3+ are eliminated cause value 3+ has ambigious meaning and it is not integer. \n",
    "    \n",
    "The goal of the cleaning process was to eliminate all the ambiguous values and categorical values that can't have a meaningful numerical representation."
   ]
  },
  {
   "cell_type": "code",
   "execution_count": 8,
   "metadata": {},
   "outputs": [],
   "source": [
    "def clean_data(data):\n",
    "    \"\"\"\n",
    "    Method that removes nan values and cleanes the data\n",
    "    \n",
    "    Input: dataframe\n",
    "    Output: cleaned dataframe\n",
    "    \"\"\"\n",
    "    \n",
    "    #Remove rows where there aren't all values present\n",
    "    data.dropna(inplace=True)\n",
    "\n",
    "    #try to convert price to int and remove € \n",
    "    for i in data.index:\n",
    "    #Becasuse of the web scrapping some prices had strings and text in this way we dealt with it if exception appears\n",
    "    #'da' is because some prices were scrapped with the word 'da' before the price\n",
    "        try:\n",
    "            data.price[i]=int(data.price[i].replace('€', '').strip().replace('.','').replace('da',''))\n",
    "    #before word class there is price we need\n",
    "        except:\n",
    "            try:\n",
    "                data.price[i]=int(data.price[i].split('class')[0].replace('€', '').strip().replace('.',''))\n",
    "           #in case of the bad scrapping value (e.g.just text) just drop those rows\n",
    "            except:\n",
    "                data.drop(i,inplace=True)\n",
    "            \n",
    "    #convert to int superficie and remove / and . in order to convert to int normally\n",
    "    data.superficie=data.superficie.replace('[/]', '', regex=True).apply(lambda x: int(str(x).replace('.','')))\n",
    "    \n",
    "    #Drop rows where values of locali is 5+ and convert to int\n",
    "    #strip is because of the web scrapping process which took whitespace\n",
    "    data['locali']=data['locali'].apply(lambda x: x.strip())\n",
    "    data.drop(data[ data['locali']=='5+'].index,inplace=True)\n",
    "\n",
    "\n",
    "    #drop A, R, S and 11+  cause it is ambigious \n",
    "    data.drop(data[(data['piano']=='A') | (data['piano']=='R') | ( data['piano']=='S')| ( data['piano']=='11+')].index,inplace=True)\n",
    "    #Attribute piano replace T->0 cause piano T is 'terro' which means it is floor 0\n",
    "    data['piano']=np.where(data['piano']=='T', 0, data['piano'])     \n",
    "    \n",
    "    #remove whitespace from the values\n",
    "    data.bagni=data.bagni.apply(lambda x: x.strip())\n",
    "    #remove all the rows where the value of bagni is not 1,2,3...like 3+, cause other values don't have so many value counts\n",
    "    data.drop(data[( data['bagni']!='1')&( data['bagni']!='2')&( data['bagni']!='3')].index,inplace=True)    \n",
    "\n",
    "    #convert type of \"price\",\"locali\",\"piano\", \"bagni\" to numeric instead of object\n",
    "    data[[\"price\",\"locali\",\"piano\", \"bagni\"]] = data[[\"price\",\"locali\",\"piano\", \"bagni\"]].apply(pd.to_numeric)\n",
    "    \n",
    "    #reset index so it starts from 0 to last row number not with scpapped number indices, but with consistent range\n",
    "    data.reset_index(inplace=True)\n",
    "    data.drop('index',axis=1,inplace=True)\n",
    "    \n",
    "    return data"
   ]
  },
  {
   "cell_type": "code",
   "execution_count": 9,
   "metadata": {},
   "outputs": [],
   "source": [
    "cleaned_data=clean_data(data)"
   ]
  },
  {
   "cell_type": "code",
   "execution_count": 10,
   "metadata": {},
   "outputs": [
    {
     "data": {
      "text/plain": [
       "RangeIndex(start=0, stop=10773, step=1)"
      ]
     },
     "execution_count": 10,
     "metadata": {},
     "output_type": "execute_result"
    }
   ],
   "source": [
    "cleaned_data.index"
   ]
  },
  {
   "cell_type": "code",
   "execution_count": 11,
   "metadata": {},
   "outputs": [
    {
     "data": {
      "text/html": [
       "<div>\n",
       "<style>\n",
       "    .dataframe thead tr:only-child th {\n",
       "        text-align: right;\n",
       "    }\n",
       "\n",
       "    .dataframe thead th {\n",
       "        text-align: left;\n",
       "    }\n",
       "\n",
       "    .dataframe tbody tr th {\n",
       "        vertical-align: top;\n",
       "    }\n",
       "</style>\n",
       "<table border=\"1\" class=\"dataframe\">\n",
       "  <thead>\n",
       "    <tr style=\"text-align: right;\">\n",
       "      <th></th>\n",
       "      <th>price</th>\n",
       "      <th>locali</th>\n",
       "      <th>superficie</th>\n",
       "      <th>bagni</th>\n",
       "      <th>piano</th>\n",
       "      <th>description</th>\n",
       "    </tr>\n",
       "  </thead>\n",
       "  <tbody>\n",
       "    <tr>\n",
       "      <th>0</th>\n",
       "      <td>225000</td>\n",
       "      <td>2</td>\n",
       "      <td>50</td>\n",
       "      <td>1</td>\n",
       "      <td>1</td>\n",
       "      <td>papillo eur\\r\\r\\n                             ...</td>\n",
       "    </tr>\n",
       "  </tbody>\n",
       "</table>\n",
       "</div>"
      ],
      "text/plain": [
       "    price  locali  superficie  bagni  piano  \\\n",
       "0  225000       2          50      1      1   \n",
       "\n",
       "                                         description  \n",
       "0  papillo eur\\r\\r\\n                             ...  "
      ]
     },
     "execution_count": 11,
     "metadata": {},
     "output_type": "execute_result"
    }
   ],
   "source": [
    "cleaned_data.head(1)"
   ]
  },
  {
   "cell_type": "code",
   "execution_count": 12,
   "metadata": {},
   "outputs": [
    {
     "data": {
      "text/plain": [
       "(10773, 6)"
      ]
     },
     "execution_count": 12,
     "metadata": {},
     "output_type": "execute_result"
    }
   ],
   "source": [
    "#The number of rows after cleaning the dataset\n",
    "#10773\n",
    "cleaned_data.shape"
   ]
  },
  {
   "cell_type": "code",
   "execution_count": 13,
   "metadata": {},
   "outputs": [
    {
     "data": {
      "text/plain": [
       "price          0\n",
       "locali         0\n",
       "superficie     0\n",
       "bagni          0\n",
       "piano          0\n",
       "description    0\n",
       "dtype: int64"
      ]
     },
     "execution_count": 13,
     "metadata": {},
     "output_type": "execute_result"
    }
   ],
   "source": [
    "#After cleaning the data(dropping rows where there aren't some values) there aren't any NaN values present\n",
    "cleaned_data.isnull().sum()"
   ]
  },
  {
   "cell_type": "code",
   "execution_count": 14,
   "metadata": {},
   "outputs": [
    {
     "data": {
      "text/plain": [
       "price           int64\n",
       "locali          int64\n",
       "superficie      int64\n",
       "bagni           int64\n",
       "piano           int64\n",
       "description    object\n",
       "dtype: object"
      ]
     },
     "execution_count": 14,
     "metadata": {},
     "output_type": "execute_result"
    }
   ],
   "source": [
    "cleaned_data.dtypes"
   ]
  },
  {
   "cell_type": "markdown",
   "metadata": {},
   "source": [
    "# Datasets"
   ]
  },
  {
   "cell_type": "markdown",
   "metadata": {},
   "source": [
    "Based on the single data frame we extracted using the web scrapping process we created the Description and the Information datasets"
   ]
  },
  {
   "cell_type": "markdown",
   "metadata": {},
   "source": [
    "## Description dataset"
   ]
  },
  {
   "cell_type": "markdown",
   "metadata": {},
   "source": [
    "(Description dataset)\n",
    "\n",
    "    columns: description "
   ]
  },
  {
   "cell_type": "code",
   "execution_count": 15,
   "metadata": {},
   "outputs": [
    {
     "data": {
      "text/html": [
       "<div>\n",
       "<style>\n",
       "    .dataframe thead tr:only-child th {\n",
       "        text-align: right;\n",
       "    }\n",
       "\n",
       "    .dataframe thead th {\n",
       "        text-align: left;\n",
       "    }\n",
       "\n",
       "    .dataframe tbody tr th {\n",
       "        vertical-align: top;\n",
       "    }\n",
       "</style>\n",
       "<table border=\"1\" class=\"dataframe\">\n",
       "  <thead>\n",
       "    <tr style=\"text-align: right;\">\n",
       "      <th></th>\n",
       "      <th>description</th>\n",
       "    </tr>\n",
       "  </thead>\n",
       "  <tbody>\n",
       "    <tr>\n",
       "      <th>0</th>\n",
       "      <td>papillo eur\\r\\r\\n                                PAPILLO EUR in elegante complesso residenziale rifinitissimo bilocale composto da soggiorno con angolo cottura, stanza da letto bagno e ampio balcone . con Rifiniture di pregio, pavimenti in parquet / grees, infissi in legno con vetro camera e porte in noce, grate nel salone, riscaldamento termoautonomo con caldaia centralizzata, aria condizionata, videocitofono, porta blindata, serramenti elettrici con chiusura centralizzata, antenna satellitare, isolamento termo acustico, pannelli solari e fotovoltaici , rilevatori elettronici di gas. Tutte le camere sono fornite di impianto antifurto, presa antenna satellitare e presa telefonica.div\\r\\r\\ndiv\\r\\r\\nORARI lunedi chiusidiv\\r\\r\\n martedi 10:00-17:00div\\r\\r\\n mercoledi 10:00-17:00div\\r\\r\\ndivgiovedi 10:00-17:00div\\r\\r\\ndivvenrdi 10:00-17:00div\\r\\r\\ndivsabato 10:00-17:00div\\r\\r\\n domenica 10:00-13:00\\r\\r\\n</td>\n",
       "    </tr>\n",
       "  </tbody>\n",
       "</table>\n",
       "</div>"
      ],
      "text/plain": [
       "                                                                                                                                                                                                                                                                                                                                                                                                                                                                                                                                                                                                                                                                                                                                                                                                                                                                                                                                                     description\n",
       "0  papillo eur\\r\\r\\n                                PAPILLO EUR in elegante complesso residenziale rifinitissimo bilocale composto da soggiorno con angolo cottura, stanza da letto bagno e ampio balcone . con Rifiniture di pregio, pavimenti in parquet / grees, infissi in legno con vetro camera e porte in noce, grate nel salone, riscaldamento termoautonomo con caldaia centralizzata, aria condizionata, videocitofono, porta blindata, serramenti elettrici con chiusura centralizzata, antenna satellitare, isolamento termo acustico, pannelli solari e fotovoltaici , rilevatori elettronici di gas. Tutte le camere sono fornite di impianto antifurto, presa antenna satellitare e presa telefonica.div\\r\\r\\ndiv\\r\\r\\nORARI lunedi chiusidiv\\r\\r\\n martedi 10:00-17:00div\\r\\r\\n mercoledi 10:00-17:00div\\r\\r\\ndivgiovedi 10:00-17:00div\\r\\r\\ndivvenrdi 10:00-17:00div\\r\\r\\ndivsabato 10:00-17:00div\\r\\r\\n domenica 10:00-13:00\\r\\r\\n            "
      ]
     },
     "execution_count": 15,
     "metadata": {},
     "output_type": "execute_result"
    }
   ],
   "source": [
    "description_dataset=pd.DataFrame(cleaned_data.description)\n",
    "pd.set_option('display.max_colwidth', -1)\n",
    "description_dataset.head(1)"
   ]
  },
  {
   "cell_type": "markdown",
   "metadata": {},
   "source": [
    "## Information dataset"
   ]
  },
  {
   "cell_type": "markdown",
   "metadata": {},
   "source": [
    "(Information dataset)\n",
    "\n",
    "    columns: price, locali, superficie, bagni, piano"
   ]
  },
  {
   "cell_type": "code",
   "execution_count": 16,
   "metadata": {},
   "outputs": [
    {
     "data": {
      "text/html": [
       "<div>\n",
       "<style>\n",
       "    .dataframe thead tr:only-child th {\n",
       "        text-align: right;\n",
       "    }\n",
       "\n",
       "    .dataframe thead th {\n",
       "        text-align: left;\n",
       "    }\n",
       "\n",
       "    .dataframe tbody tr th {\n",
       "        vertical-align: top;\n",
       "    }\n",
       "</style>\n",
       "<table border=\"1\" class=\"dataframe\">\n",
       "  <thead>\n",
       "    <tr style=\"text-align: right;\">\n",
       "      <th></th>\n",
       "      <th>price</th>\n",
       "      <th>locali</th>\n",
       "      <th>superficie</th>\n",
       "      <th>bagni</th>\n",
       "      <th>piano</th>\n",
       "    </tr>\n",
       "  </thead>\n",
       "  <tbody>\n",
       "    <tr>\n",
       "      <th>0</th>\n",
       "      <td>225000</td>\n",
       "      <td>2</td>\n",
       "      <td>50</td>\n",
       "      <td>1</td>\n",
       "      <td>1</td>\n",
       "    </tr>\n",
       "    <tr>\n",
       "      <th>1</th>\n",
       "      <td>339000</td>\n",
       "      <td>3</td>\n",
       "      <td>90</td>\n",
       "      <td>1</td>\n",
       "      <td>4</td>\n",
       "    </tr>\n",
       "    <tr>\n",
       "      <th>2</th>\n",
       "      <td>480000</td>\n",
       "      <td>4</td>\n",
       "      <td>125</td>\n",
       "      <td>2</td>\n",
       "      <td>4</td>\n",
       "    </tr>\n",
       "    <tr>\n",
       "      <th>3</th>\n",
       "      <td>135000</td>\n",
       "      <td>2</td>\n",
       "      <td>60</td>\n",
       "      <td>1</td>\n",
       "      <td>5</td>\n",
       "    </tr>\n",
       "    <tr>\n",
       "      <th>4</th>\n",
       "      <td>249000</td>\n",
       "      <td>2</td>\n",
       "      <td>75</td>\n",
       "      <td>1</td>\n",
       "      <td>1</td>\n",
       "    </tr>\n",
       "  </tbody>\n",
       "</table>\n",
       "</div>"
      ],
      "text/plain": [
       "    price  locali  superficie  bagni  piano\n",
       "0  225000  2       50          1      1    \n",
       "1  339000  3       90          1      4    \n",
       "2  480000  4       125         2      4    \n",
       "3  135000  2       60          1      5    \n",
       "4  249000  2       75          1      1    "
      ]
     },
     "execution_count": 16,
     "metadata": {},
     "output_type": "execute_result"
    }
   ],
   "source": [
    "information_dataset=cleaned_data.drop(['description'],axis=1)\n",
    "information_dataset.head(5)"
   ]
  },
  {
   "cell_type": "code",
   "execution_count": 17,
   "metadata": {},
   "outputs": [],
   "source": [
    "#In this way we can reuse it and not repeat cleaning process every time we execute the notebook"
   ]
  },
  {
   "cell_type": "code",
   "execution_count": 18,
   "metadata": {},
   "outputs": [],
   "source": [
    "#Save information and description datasets to two separate .csv files"
   ]
  },
  {
   "cell_type": "code",
   "execution_count": 19,
   "metadata": {},
   "outputs": [],
   "source": [
    "information_dataset.to_csv('information_dataset.csv')"
   ]
  },
  {
   "cell_type": "code",
   "execution_count": 20,
   "metadata": {},
   "outputs": [],
   "source": [
    "description_dataset.to_csv('description_dataset.csv')"
   ]
  },
  {
   "cell_type": "markdown",
   "metadata": {},
   "source": [
    "Based on the description dataset we should make a dataframe that has _i_ collected announcements as indices and _j_ words like columns, where each value from the matrix represents tf_idf value _j-th_ word in _i-th_ announcement."
   ]
  },
  {
   "cell_type": "code",
   "execution_count": 21,
   "metadata": {},
   "outputs": [],
   "source": [
    "#Make vocabulary"
   ]
  },
  {
   "cell_type": "code",
   "execution_count": 22,
   "metadata": {},
   "outputs": [],
   "source": [
    "def preprocessing_text(df):\n",
    "    \"\"\"\n",
    "    Method that returns filtered words from the text input \n",
    "    \n",
    "    Input: string(text)\n",
    "    Output: list(bag of words)\n",
    "    \"\"\"  \n",
    "    #remove upper cases\n",
    "    df=df.lower()\n",
    "   \n",
    "    #replacing new line sign '\\n' '\\r' and 'div' from html with a whitespace ' '    \n",
    "    df=df.replace('\\\\n',' ').replace('\\\\r',' ').replace('div',' ')\n",
    "    \n",
    "    #for removing stop words\n",
    "    stop_words = set(stopwords.words('italian')) \n",
    "    #add html tags left from scrapping\n",
    "    stop_words.add('div')\n",
    "    stop_words.add('n')\n",
    "    stop_words.add('b')\n",
    "\n",
    "    #remove numbers\n",
    "    df = re.sub(\"\\d+\", \"\", df)\n",
    "    \n",
    "    #for removing punctuations\n",
    "    tokenizer = RegexpTokenizer(r'\\w+')\n",
    "    \n",
    "    #to tokenize the string\n",
    "    word_tokens = tokenizer.tokenize(df)     \n",
    "\n",
    "    #stemming\n",
    "    #ps = PorterStemmer()\n",
    "    snow_stem = SnowballStemmer('italian')\n",
    "    filtered_words = [snow_stem.stem(w) for w in word_tokens if not w in stop_words] \n",
    "\n",
    "    return filtered_words"
   ]
  },
  {
   "cell_type": "code",
   "execution_count": 23,
   "metadata": {},
   "outputs": [],
   "source": [
    "def build_vocabulary(df):\n",
    "    \"\"\"\n",
    "    Method that creates vocabulary\n",
    "    \n",
    "    Input: dataframe\n",
    "    Output: vocabulary list \n",
    "    \"\"\"  \n",
    "    #list for vocabulary \n",
    "    vocabulary_lst=[]\n",
    "    #preprocessing description and get res->list of lists, where each list i a list of filtered preproccesed words \n",
    "    res=df.description.apply(lambda x: preprocessing_text(x))   \n",
    "    \n",
    "    #vocabulary_set is a set used for making vocabulary with unique words\n",
    "\n",
    "    vocabulary_set = set(res[0]).union(*res[1:])\n",
    "\n",
    "    \n",
    "    #mapping words into integers\n",
    "    vocabulary={} \n",
    "    for k,v in enumerate(vocabulary_set):\n",
    "        vocabulary[v]= k\n",
    "    return res,vocabulary"
   ]
  },
  {
   "cell_type": "code",
   "execution_count": 24,
   "metadata": {},
   "outputs": [],
   "source": [
    "res,vocabulary=build_vocabulary(description_dataset)"
   ]
  },
  {
   "cell_type": "code",
   "execution_count": 25,
   "metadata": {},
   "outputs": [
    {
     "data": {
      "text/plain": [
       "74"
      ]
     },
     "execution_count": 25,
     "metadata": {},
     "output_type": "execute_result"
    }
   ],
   "source": [
    "len(res[0])"
   ]
  },
  {
   "cell_type": "code",
   "execution_count": 26,
   "metadata": {},
   "outputs": [
    {
     "data": {
      "text/plain": [
       "14342"
      ]
     },
     "execution_count": 26,
     "metadata": {},
     "output_type": "execute_result"
    }
   ],
   "source": [
    "len(vocabulary)"
   ]
  },
  {
   "cell_type": "code",
   "execution_count": 27,
   "metadata": {},
   "outputs": [
    {
     "data": {
      "text/plain": [
       "{'civilist': 0,\n",
       " 'pandos': 1,\n",
       " 'verdinois': 2,\n",
       " 'assett': 3,\n",
       " 'elettrific': 4,\n",
       " 'osp': 5,\n",
       " 'forlanin': 6,\n",
       " 'drusill': 7,\n",
       " 'sempion': 8,\n",
       " 'galeazz': 9,\n",
       " 'studiojoniosrl': 10,\n",
       " 'peperin': 11,\n",
       " 'buoninsegn': 12,\n",
       " 'orar': 13,\n",
       " 'salient': 14,\n",
       " 'fossombon': 15,\n",
       " 'requis': 16,\n",
       " 'caratter': 17,\n",
       " 'begon': 18,\n",
       " 'apartment': 19,\n",
       " 'istitutoimmobiliareital': 20,\n",
       " 'night': 21,\n",
       " 'rilocal': 22,\n",
       " 'staderin': 23,\n",
       " 'produttr': 24,\n",
       " 'sorround': 25,\n",
       " 'rc': 26,\n",
       " 'risorseimmobiliariagency': 27,\n",
       " 'opac': 28,\n",
       " 'trattas': 29,\n",
       " 'salott': 30,\n",
       " 'settim': 31,\n",
       " 'montemignai': 32,\n",
       " 'copertur': 33,\n",
       " 'fines': 34,\n",
       " 'comprendent': 35,\n",
       " 'langell': 36,\n",
       " 'ricezion': 37,\n",
       " 'rustruttur': 38,\n",
       " 'fogazzar': 39,\n",
       " 'ariosissim': 40,\n",
       " 'torald': 41,\n",
       " 'mompe': 42,\n",
       " 'buonam': 43,\n",
       " 'anchess': 44,\n",
       " 'agenziam': 45,\n",
       " 'pontefic': 46,\n",
       " 'seven': 47,\n",
       " 'situazion': 48,\n",
       " 'aggregation': 49,\n",
       " 'appartamen': 50,\n",
       " 'sicuram': 51,\n",
       " 'bu': 52,\n",
       " 'pint': 53,\n",
       " 'sq': 54,\n",
       " 'inamov': 55,\n",
       " 'gress': 56,\n",
       " 'dimension': 57,\n",
       " 'funzionar': 58,\n",
       " 'montasol': 59,\n",
       " 'brunell': 60,\n",
       " 'svev': 61,\n",
       " 'borgor': 62,\n",
       " 'cinqu': 63,\n",
       " 'abitabl': 64,\n",
       " 'longitud': 65,\n",
       " 'dj': 66,\n",
       " 'bibolin': 67,\n",
       " 'gju': 68,\n",
       " 'appen': 69,\n",
       " 'govern': 70,\n",
       " 'arlen': 71,\n",
       " 'vicevers': 72,\n",
       " 'solon': 73,\n",
       " 'solution': 74,\n",
       " 'sibillin': 75,\n",
       " 'martuzz': 76,\n",
       " 'cond': 77,\n",
       " 'piattaform': 78,\n",
       " 'telesorvegl': 79,\n",
       " 'vivian': 80,\n",
       " 'fir': 81,\n",
       " 'coul': 82,\n",
       " 'accadem': 83,\n",
       " 'cpb': 84,\n",
       " 'castelfranc': 85,\n",
       " 'intatt': 86,\n",
       " 'immobylstud': 87,\n",
       " 'servic': 88,\n",
       " 'cagn': 89,\n",
       " 'petit': 90,\n",
       " 'pricipal': 91,\n",
       " 'cecc': 92,\n",
       " 'letterar': 93,\n",
       " 'metropolit': 94,\n",
       " 'vettor': 95,\n",
       " 'saracen': 96,\n",
       " 'formazion': 97,\n",
       " 'caffarell': 98,\n",
       " 'becom': 99,\n",
       " 'elvi': 100,\n",
       " 'grazioz': 101,\n",
       " 'marchis': 102,\n",
       " 'profumer': 103,\n",
       " 'mobiliar': 104,\n",
       " 'imbocc': 105,\n",
       " 'stromabwärts': 106,\n",
       " 'obtained': 107,\n",
       " 'voc': 108,\n",
       " 'particolar': 109,\n",
       " 'apren': 110,\n",
       " 'roccell': 111,\n",
       " 'zott': 112,\n",
       " 'ridisegn': 113,\n",
       " 'tes': 114,\n",
       " 'grondai': 115,\n",
       " 'truff': 116,\n",
       " 'perd': 117,\n",
       " 'vasc': 118,\n",
       " 'enrget': 119,\n",
       " 'contraddistingu': 120,\n",
       " 'grazios': 121,\n",
       " 'ispir': 122,\n",
       " 'plexiglas': 123,\n",
       " 'inattacc': 124,\n",
       " 'la_tua_family_agency': 125,\n",
       " 'olimp': 126,\n",
       " 'paritar': 127,\n",
       " 'marmet': 128,\n",
       " 'disag': 129,\n",
       " 'scientif': 130,\n",
       " 'mantov': 131,\n",
       " 'monverd': 132,\n",
       " 'eccell': 133,\n",
       " 'sagram': 134,\n",
       " 'oper': 135,\n",
       " 'po': 136,\n",
       " 'dorote': 137,\n",
       " 'gentil': 138,\n",
       " 'luar': 139,\n",
       " 'duecent': 140,\n",
       " 'palmar': 141,\n",
       " 'gabriel': 142,\n",
       " 'interag': 143,\n",
       " 'iul': 144,\n",
       " 'vues': 145,\n",
       " 'fulcier': 146,\n",
       " 'ingel': 147,\n",
       " 'citof': 148,\n",
       " 'piogg': 149,\n",
       " 'avveng': 150,\n",
       " 'ostip': 151,\n",
       " 'sanmichel': 152,\n",
       " 'lumino': 153,\n",
       " 'brancaleon': 154,\n",
       " 'melandr': 155,\n",
       " 'arifinitur': 156,\n",
       " 'cronistor': 157,\n",
       " 'rimett': 158,\n",
       " 'alzant': 159,\n",
       " 'salòn': 160,\n",
       " 'lacc': 161,\n",
       " 'mous': 162,\n",
       " 'internzional': 163,\n",
       " 'third': 164,\n",
       " 'collaziaadrianoxxiinovembr': 165,\n",
       " 'borg': 166,\n",
       " 'sbrirr': 167,\n",
       " 'coìndomin': 168,\n",
       " 'facilemtn': 169,\n",
       " 'sole': 170,\n",
       " 'serin': 171,\n",
       " 'avenu': 172,\n",
       " 'iltuomutu': 173,\n",
       " 'ball': 174,\n",
       " 'maschil': 175,\n",
       " 'ceiling': 176,\n",
       " 'resrm': 177,\n",
       " 'wre': 178,\n",
       " 'campus': 179,\n",
       " 'eger': 180,\n",
       " 'court': 181,\n",
       " 'doors': 182,\n",
       " 'secret': 183,\n",
       " 'machiavell': 184,\n",
       " 'scompars': 185,\n",
       " 'millevo': 186,\n",
       " 'aluminum': 187,\n",
       " 'capett': 188,\n",
       " 'tempocas': 189,\n",
       " 'scegl': 190,\n",
       " 'accend': 191,\n",
       " 'fer': 192,\n",
       " 'carrès': 193,\n",
       " 'autovettur': 194,\n",
       " 'cavalier': 195,\n",
       " 'coprens': 196,\n",
       " 'masdecarolis': 197,\n",
       " 'lombros': 198,\n",
       " 'assetcas': 199,\n",
       " 'ristrut': 200,\n",
       " 'alessndrin': 201,\n",
       " 'excluding': 202,\n",
       " 'monac': 203,\n",
       " 'casper': 204,\n",
       " 'assunzion': 205,\n",
       " 'consens': 206,\n",
       " 'metrob': 207,\n",
       " 'commodill': 208,\n",
       " 'frigorifer': 209,\n",
       " 'mausole': 210,\n",
       " 'if': 211,\n",
       " 'trattor': 212,\n",
       " 'roccalvecc': 213,\n",
       " 'partially': 214,\n",
       " 'scord': 215,\n",
       " 'vivilatuacas': 216,\n",
       " 'arte': 217,\n",
       " 'regards': 218,\n",
       " 'fiortifiocc': 219,\n",
       " 'manier': 220,\n",
       " 'metroc': 221,\n",
       " 'mimos': 222,\n",
       " 'euromil': 223,\n",
       " 'facolt': 224,\n",
       " 'solidal': 225,\n",
       " 'sebastian': 226,\n",
       " 'instagram': 227,\n",
       " 'comodissim': 228,\n",
       " 'propin': 229,\n",
       " 'j': 230,\n",
       " 'berett': 231,\n",
       " 'ered': 232,\n",
       " 'common': 233,\n",
       " 'wardrob': 234,\n",
       " 'caiol': 235,\n",
       " 'minin': 236,\n",
       " 'cartoler': 237,\n",
       " 'torpignattar': 238,\n",
       " 'stam': 239,\n",
       " 'avvi': 240,\n",
       " 'caglier': 241,\n",
       " 'valcanett': 242,\n",
       " 'trai': 243,\n",
       " 'intercors': 244,\n",
       " 'rcabrinidarioxxvinovembr': 245,\n",
       " 'imer': 246,\n",
       " 'adjacent': 247,\n",
       " 'pertienz': 248,\n",
       " 'utent': 249,\n",
       " 'stanzin': 250,\n",
       " 'cordeir': 251,\n",
       " 'arriv': 252,\n",
       " 'indi': 253,\n",
       " 'tecnocas': 254,\n",
       " 'adrian': 255,\n",
       " 'vaccher': 256,\n",
       " 'myhomeonlin': 257,\n",
       " 'indoss': 258,\n",
       " 'permess': 259,\n",
       " 'verkauf': 260,\n",
       " 'santarell': 261,\n",
       " 'attenn': 262,\n",
       " 'sef': 263,\n",
       " 'gocc': 264,\n",
       " 'porc': 265,\n",
       " 'riassum': 266,\n",
       " 'tabell': 267,\n",
       " 'incaric': 268,\n",
       " 'provenzal': 269,\n",
       " 'sup': 270,\n",
       " 'olgiatell': 271,\n",
       " 'kam': 272,\n",
       " 'finetr': 273,\n",
       " 'description': 274,\n",
       " 'consolidatas': 275,\n",
       " 'misservill': 276,\n",
       " 'interphon': 277,\n",
       " 'pozz': 278,\n",
       " 'immobiliaredistef': 279,\n",
       " 'unicredit': 280,\n",
       " 'fideuram': 281,\n",
       " 'contemp': 282,\n",
       " 'garvan': 283,\n",
       " 'tagliaferr': 284,\n",
       " 'lavastovigl': 285,\n",
       " 'amen': 286,\n",
       " 'aldovinett': 287,\n",
       " 'usufrutturar': 288,\n",
       " 'corpus': 289,\n",
       " 'de': 290,\n",
       " 'intend': 291,\n",
       " 'total': 292,\n",
       " 'stz': 293,\n",
       " 'suferf': 294,\n",
       " 'disabil': 295,\n",
       " 'ripropon': 296,\n",
       " 'squadr': 297,\n",
       " 'pentol': 298,\n",
       " 'cavator': 299,\n",
       " 'mazar': 300,\n",
       " 'quadrilocalep': 301,\n",
       " 'jacom': 302,\n",
       " 'man': 303,\n",
       " 'collaud': 304,\n",
       " 'entrar': 305,\n",
       " 'conclusion': 306,\n",
       " 'giacom': 307,\n",
       " 'supèrieurs': 308,\n",
       " 'marcos': 309,\n",
       " 'tapp': 310,\n",
       " 'poggett': 311,\n",
       " 'look': 312,\n",
       " 'vei': 313,\n",
       " 'raccogl': 314,\n",
       " 'sorrentin': 315,\n",
       " 'grill': 316,\n",
       " 'capocc': 317,\n",
       " 'qualor': 318,\n",
       " 'pignol': 319,\n",
       " 'possibl': 320,\n",
       " 'esposiz': 321,\n",
       " 'hauses': 322,\n",
       " 'romagnon': 323,\n",
       " 'conmobil': 324,\n",
       " 'barcon': 325,\n",
       " 'moriond': 326,\n",
       " 'ace': 327,\n",
       " 'fonteian': 328,\n",
       " 'dunant': 329,\n",
       " 'èquipements': 330,\n",
       " 'vetus': 331,\n",
       " 'upstream': 332,\n",
       " 'timon': 333,\n",
       " 'eines': 334,\n",
       " 'saloncin': 335,\n",
       " 'perill': 336,\n",
       " 'zucchett': 337,\n",
       " 'sebin': 338,\n",
       " 'bagalad': 339,\n",
       " 'banh': 340,\n",
       " 'similar': 341,\n",
       " 'ale': 342,\n",
       " 'connected': 343,\n",
       " 'flor': 344,\n",
       " 'indimentic': 345,\n",
       " 'interessantissim': 346,\n",
       " 'perr': 347,\n",
       " 'inert': 348,\n",
       " 'moron': 349,\n",
       " 'ridisposizion': 350,\n",
       " 'longobucc': 351,\n",
       " 'euo': 352,\n",
       " 'adjoining': 353,\n",
       " 'stiepovic': 354,\n",
       " 'veget': 355,\n",
       " 'op': 356,\n",
       " 'disus': 357,\n",
       " 'wall': 358,\n",
       " 'chaussè': 359,\n",
       " 'numèros': 360,\n",
       " 'trasaghis': 361,\n",
       " 'cavallott': 362,\n",
       " 'capp': 363,\n",
       " 'monocottur': 364,\n",
       " 'annexed': 365,\n",
       " 'franc': 366,\n",
       " 'colonnell': 367,\n",
       " 'dob': 368,\n",
       " 'imbianc': 369,\n",
       " 'empedocl': 370,\n",
       " 'mediaset': 371,\n",
       " 'picc': 372,\n",
       " 'dirig': 373,\n",
       " 'apaprt': 374,\n",
       " 'galian': 375,\n",
       " 'rinforz': 376,\n",
       " 'permutations': 377,\n",
       " 'tophttp': 378,\n",
       " 'masell': 379,\n",
       " 'setapar': 380,\n",
       " 'espaces': 381,\n",
       " 'rmcm': 382,\n",
       " 'scanderbeg': 383,\n",
       " 'condens': 384,\n",
       " 'liegr': 385,\n",
       " 'ordi': 386,\n",
       " 'fum': 387,\n",
       " 'borgomaner': 388,\n",
       " 'working': 389,\n",
       " 'vitinamezzocammin': 390,\n",
       " 'immobilast': 391,\n",
       " 'bnl': 392,\n",
       " 'morfolog': 393,\n",
       " 'imbatt': 394,\n",
       " 'evangelizz': 395,\n",
       " 'procint': 396,\n",
       " 'condurr': 397,\n",
       " 'riprend': 398,\n",
       " 'camerett': 399,\n",
       " 'cassettier': 400,\n",
       " 'intervent': 401,\n",
       " 'typ': 402,\n",
       " 'shopping': 403,\n",
       " 'predo': 404,\n",
       " 'lzz': 405,\n",
       " 'marescott': 406,\n",
       " 'lucchett': 407,\n",
       " 'puot': 408,\n",
       " 'certific': 409,\n",
       " 'massin': 410,\n",
       " 'accattiv': 411,\n",
       " 'appointments': 412,\n",
       " 'indèpend': 413,\n",
       " 'porlezz': 414,\n",
       " 'aic': 415,\n",
       " 'riscalment': 416,\n",
       " 'osta': 417,\n",
       " 'cib': 418,\n",
       " 'verosp': 419,\n",
       " 'plur': 420,\n",
       " 'isid': 421,\n",
       " 'itinerar': 422,\n",
       " 'redditt': 423,\n",
       " 'stephan': 424,\n",
       " 'dintorn': 425,\n",
       " 'completer': 426,\n",
       " 'cantinol': 427,\n",
       " 'nos': 428,\n",
       " 'franceschin': 429,\n",
       " 'centralis': 430,\n",
       " 'affaron': 431,\n",
       " 'balc': 432,\n",
       " 'fastos': 433,\n",
       " 'esam': 434,\n",
       " 'calimn': 435,\n",
       " 'ambitissim': 436,\n",
       " 'lun': 437,\n",
       " 'manuz': 438,\n",
       " 'palazzin': 439,\n",
       " 'ds': 440,\n",
       " 'pequen': 441,\n",
       " 'pedrett': 442,\n",
       " 'promettent': 443,\n",
       " 'igien': 444,\n",
       " 'padronal': 445,\n",
       " 'assis': 446,\n",
       " 'workstyl': 447,\n",
       " 'giul': 448,\n",
       " 'megl': 449,\n",
       " 'management': 450,\n",
       " 'disponibil': 451,\n",
       " 'sgrad': 452,\n",
       " 'bellezz': 453,\n",
       " 'diemm': 454,\n",
       " 'annibal': 455,\n",
       " 'avant': 456,\n",
       " 'soddisfatt': 457,\n",
       " 'attraent': 458,\n",
       " 'minutes': 459,\n",
       " 'bagnasc': 460,\n",
       " 'mostr': 461,\n",
       " 'ubicad': 462,\n",
       " 'farett': 463,\n",
       " 'clgb': 464,\n",
       " 'outsid': 465,\n",
       " 'eracle': 466,\n",
       " 'valv': 467,\n",
       " 'grent': 468,\n",
       " 'rifiut': 469,\n",
       " 'coll': 470,\n",
       " 'good': 471,\n",
       " 'siccom': 472,\n",
       " 'busir': 473,\n",
       " 'reemplazadas': 474,\n",
       " 'fao': 475,\n",
       " 'aventin': 476,\n",
       " 'bott': 477,\n",
       " 'kvfexq': 478,\n",
       " 'environment': 479,\n",
       " 'gpl': 480,\n",
       " 'rappin': 481,\n",
       " 'centurip': 482,\n",
       " 'organizz': 483,\n",
       " 'publicol': 484,\n",
       " 'front': 485,\n",
       " 'robertis': 486,\n",
       " 'carug': 487,\n",
       " 'accension': 488,\n",
       " 'algoritm': 489,\n",
       " 'vendr': 490,\n",
       " 'gronc': 491,\n",
       " 'costru': 492,\n",
       " 'ciaralli_': 493,\n",
       " 'ripart': 494,\n",
       " 'farmac': 495,\n",
       " 'antrac': 496,\n",
       " 'châssis': 497,\n",
       " 'prospicent': 498,\n",
       " 'esistent': 499,\n",
       " 'wohnzimmer': 500,\n",
       " 'buonissim': 501,\n",
       " 'lazzar': 502,\n",
       " 'diamant': 503,\n",
       " 'cjr': 504,\n",
       " 'fris': 505,\n",
       " 'arsiz': 506,\n",
       " 'luminosit': 507,\n",
       " 'vieweet': 508,\n",
       " 'god': 509,\n",
       " 'dist': 510,\n",
       " 'areas': 511,\n",
       " 'terracin': 512,\n",
       " 'cies': 513,\n",
       " 'winckelmann': 514,\n",
       " 'necropol': 515,\n",
       " 'foa': 516,\n",
       " 'nous': 517,\n",
       " 'jf': 518,\n",
       " 'apenas': 519,\n",
       " 'rmcfn': 520,\n",
       " 'inquant': 521,\n",
       " 'sfoll': 522,\n",
       " 'alberg': 523,\n",
       " 'insuranc': 524,\n",
       " 'elimin': 525,\n",
       " 'impecc': 526,\n",
       " 'neoroman': 527,\n",
       " 'cosï': 528,\n",
       " 'luchin': 529,\n",
       " 'duecentosettantanovemil': 530,\n",
       " 'difront': 531,\n",
       " 'cartolarizz': 532,\n",
       " 'campitelli_rom': 533,\n",
       " 'altrettant': 534,\n",
       " 'indubb': 535,\n",
       " 'pertant': 536,\n",
       " 'acerirom': 537,\n",
       " 'riconosc': 538,\n",
       " 'prefattibil': 539,\n",
       " 'polit': 540,\n",
       " 'panoramic': 541,\n",
       " 'plasm': 542,\n",
       " 'mediant': 543,\n",
       " 'y': 544,\n",
       " 'famigliar': 545,\n",
       " 'masaugustocont': 546,\n",
       " 'motonaut': 547,\n",
       " 'orso': 548,\n",
       " 'lopez': 549,\n",
       " 'porcell': 550,\n",
       " 'grupporevolution': 551,\n",
       " 'estraibil': 552,\n",
       " 'notai': 553,\n",
       " 'dottor': 554,\n",
       " 'beltram': 555,\n",
       " 'esclusion': 556,\n",
       " 'tabolacc': 557,\n",
       " 'below': 558,\n",
       " 'dormitor': 559,\n",
       " 'ripoostigl': 560,\n",
       " 'dav': 561,\n",
       " 'bulgar': 562,\n",
       " 'quotid': 563,\n",
       " 'ipoge': 564,\n",
       " 'omegacas': 565,\n",
       " 'ghisler': 566,\n",
       " 'tronc': 567,\n",
       " 'apoc': 568,\n",
       " 'gib': 569,\n",
       " 'defezion': 570,\n",
       " 'wid': 571,\n",
       " 'asciutt': 572,\n",
       " 'pagliar': 573,\n",
       " 'cef': 574,\n",
       " 'entrances': 575,\n",
       " 'piccolissim': 576,\n",
       " 'anodizz': 577,\n",
       " 'venafr': 578,\n",
       " 'baldovinett': 579,\n",
       " 'aprical': 580,\n",
       " 'bonifac': 581,\n",
       " 'quadrar': 582,\n",
       " 'trlocal': 583,\n",
       " 'stretc': 584,\n",
       " 'attend': 585,\n",
       " 'idebr': 586,\n",
       " 'necc': 587,\n",
       " 'zertifizierten': 588,\n",
       " 'invers': 589,\n",
       " 'stardard': 590,\n",
       " 'alte': 591,\n",
       " 'salvatagg': 592,\n",
       " 'tassazion': 593,\n",
       " 'venet': 594,\n",
       " 'fun': 595,\n",
       " 'pubblicitar': 596,\n",
       " 'adiacent': 597,\n",
       " 'pasquin': 598,\n",
       " 'pian': 599,\n",
       " 'tomas': 600,\n",
       " 'istituzional': 601,\n",
       " 'disimopegn': 602,\n",
       " 'sospension': 603,\n",
       " 'ulte': 604,\n",
       " 'mund': 605,\n",
       " 'realiszz': 606,\n",
       " 'calciott': 607,\n",
       " 'ric': 608,\n",
       " 'iannicell': 609,\n",
       " 'fastid': 610,\n",
       " 'simil': 611,\n",
       " 'luz': 612,\n",
       " 'tantissim': 613,\n",
       " 'museal': 614,\n",
       " 'proriet': 615,\n",
       " 'völkers': 616,\n",
       " 'misericord': 617,\n",
       " 'ussan': 618,\n",
       " 'ruot': 619,\n",
       " 'rav': 620,\n",
       " 'investimento': 621,\n",
       " 'capen': 622,\n",
       " 'santacroc': 623,\n",
       " 'kondis': 624,\n",
       " 'settant': 625,\n",
       " 'introdurr': 626,\n",
       " 'maestrin': 627,\n",
       " 'controsoi': 628,\n",
       " 'beig': 629,\n",
       " 'offrirl': 630,\n",
       " 'metric': 631,\n",
       " 'commissar': 632,\n",
       " 'vacated': 633,\n",
       " 'dpp': 634,\n",
       " 'acquabullic': 635,\n",
       " 'avers': 636,\n",
       " 'panphil': 637,\n",
       " 'pleasant': 638,\n",
       " 'photovoltaïqu': 639,\n",
       " 'immut': 640,\n",
       " 'viscogl': 641,\n",
       " 'pontemammol': 642,\n",
       " 'pour': 643,\n",
       " 'stromaufwärts': 644,\n",
       " 'genoes': 645,\n",
       " 'ùltim': 646,\n",
       " 'descriv': 647,\n",
       " 'mail': 648,\n",
       " 'rem': 649,\n",
       " 'toldos': 650,\n",
       " 'progedilcas': 651,\n",
       " 'entran': 652,\n",
       " 'immobiliareaversaeleonor': 653,\n",
       " 'spectacul': 654,\n",
       " 'cmugan': 655,\n",
       " 'adyacent': 656,\n",
       " 'dolcissim': 657,\n",
       " 'slenzios': 658,\n",
       " 'facing': 659,\n",
       " 'alic': 660,\n",
       " 'galinas': 661,\n",
       " 'riduzion': 662,\n",
       " 'tabl': 663,\n",
       " 'seppur': 664,\n",
       " 'stopp': 665,\n",
       " 'principess': 666,\n",
       " 'rampy': 667,\n",
       " 'albertazz': 668,\n",
       " 'torremuzz': 669,\n",
       " 'suoermerc': 670,\n",
       " 'düe': 671,\n",
       " 'profet': 672,\n",
       " 'funcionamient': 673,\n",
       " 'apparatment': 674,\n",
       " 'advisory': 675,\n",
       " 'cremuz': 676,\n",
       " 'infern': 677,\n",
       " 'terrazett': 678,\n",
       " 'anfiteatr': 679,\n",
       " 'metropol': 680,\n",
       " 'parent': 681,\n",
       " 'allacc': 682,\n",
       " 'underground': 683,\n",
       " 'univers': 684,\n",
       " 'richoiest': 685,\n",
       " 'interruptores': 686,\n",
       " 'semicentralizz': 687,\n",
       " 'ortens': 688,\n",
       " 'red': 689,\n",
       " 'terapeut': 690,\n",
       " 'silenz': 691,\n",
       " 'chious': 692,\n",
       " 'sgabuzzin': 693,\n",
       " 'gallott': 694,\n",
       " 'affittacam': 695,\n",
       " 'pazzesc': 696,\n",
       " 'ediliz': 697,\n",
       " 'dimeor': 698,\n",
       " 'sistin': 699,\n",
       " 'trasmission': 700,\n",
       " 'centogatt': 701,\n",
       " 'valent': 702,\n",
       " 'accogl': 703,\n",
       " 'living': 704,\n",
       " 'pontid': 705,\n",
       " 'family': 706,\n",
       " 'chient': 707,\n",
       " 'giemm': 708,\n",
       " 'cin': 709,\n",
       " 'pensil': 710,\n",
       " 'singen': 711,\n",
       " 'lichen': 712,\n",
       " 'eingangshall': 713,\n",
       " 'omogene': 714,\n",
       " 'metratur': 715,\n",
       " 'maestr': 716,\n",
       " 'golf': 717,\n",
       " 'trecentoquarant': 718,\n",
       " 'dovrest': 719,\n",
       " 'ottim': 720,\n",
       " 'erdgeschoss': 721,\n",
       " 'lz': 722,\n",
       " 'immobiliareun': 723,\n",
       " 'rejas': 724,\n",
       " 'cotin': 725,\n",
       " 'gergor': 726,\n",
       " 'irner': 727,\n",
       " 'coppell': 728,\n",
       " 'educ': 729,\n",
       " 'galles': 730,\n",
       " 'holiday': 731,\n",
       " 'boch': 732,\n",
       " 'pastin': 733,\n",
       " 'delfic': 734,\n",
       " 'grana': 735,\n",
       " 'moren': 736,\n",
       " 'puliz': 737,\n",
       " 'furnar': 738,\n",
       " 'tre': 739,\n",
       " 'fac': 740,\n",
       " 'compless': 741,\n",
       " 'insugher': 742,\n",
       " 'azale': 743,\n",
       " 'lettin': 744,\n",
       " 'senorb': 745,\n",
       " 'desert': 746,\n",
       " 'pepol': 747,\n",
       " 'pe': 748,\n",
       " 'ambisc': 749,\n",
       " 'sorser': 750,\n",
       " 'predomin': 751,\n",
       " 'dapur': 752,\n",
       " 'spes': 753,\n",
       " 'briz': 754,\n",
       " 'vegetaciòn': 755,\n",
       " 'sinibald': 756,\n",
       " 'tarrazz': 757,\n",
       " 'romett': 758,\n",
       " 'deriv': 759,\n",
       " 'sanpietr': 760,\n",
       " 'braccianes': 761,\n",
       " 'epgl': 762,\n",
       " 'borgoses': 763,\n",
       " 'gabettiromafleming': 764,\n",
       " 'conditionn': 765,\n",
       " 'fint': 766,\n",
       " 'david': 767,\n",
       " 'ital': 768,\n",
       " 'princip': 769,\n",
       " 'castelvetr': 770,\n",
       " 'appartmanent': 771,\n",
       " 'cattol': 772,\n",
       " 'lauretan': 773,\n",
       " 'limirof': 774,\n",
       " 'piacentin': 775,\n",
       " 'villeroyboc': 776,\n",
       " 'siren': 777,\n",
       " 'dedic': 778,\n",
       " 'ruhigen': 779,\n",
       " 'promozion': 780,\n",
       " 'agnell': 781,\n",
       " 'percor': 782,\n",
       " 'ance': 783,\n",
       " 'controll': 784,\n",
       " 'cutigl': 785,\n",
       " 'tram': 786,\n",
       " 'perìmetr': 787,\n",
       " 'internet': 788,\n",
       " 'plastic': 789,\n",
       " 'tars': 790,\n",
       " 'scald': 791,\n",
       " 'macalus': 792,\n",
       " 'vorbereitung': 793,\n",
       " 'soffiitt': 794,\n",
       " 'siriushom': 795,\n",
       " 'septimian': 796,\n",
       " 'iscr': 797,\n",
       " 'ferrar': 798,\n",
       " 'lucentezz': 799,\n",
       " 'mer': 800,\n",
       " 'appartamet': 801,\n",
       " 'garofol': 802,\n",
       " 'direzion': 803,\n",
       " 'proveng': 804,\n",
       " 'manciocc': 805,\n",
       " 'sorbell': 806,\n",
       " 'ross': 807,\n",
       " 'dron': 808,\n",
       " 'upper': 809,\n",
       " 'affidac': 810,\n",
       " 'stigliatur': 811,\n",
       " 'lucrin': 812,\n",
       " 'comment': 813,\n",
       " 'mandrion': 814,\n",
       " 'poder': 815,\n",
       " 'gsm': 816,\n",
       " 'contattatec': 817,\n",
       " 'micros': 818,\n",
       " 'everybody': 819,\n",
       " 'avvalor': 820,\n",
       " 'bagagl': 821,\n",
       " 'battent': 822,\n",
       " 'oest': 823,\n",
       " 'vitiniamezzocammin': 824,\n",
       " 'stipul': 825,\n",
       " 'immobilcenter': 826,\n",
       " 'defin': 827,\n",
       " 'giudiz': 828,\n",
       " 'equipar': 829,\n",
       " 'datos': 830,\n",
       " 'teixeir': 831,\n",
       " 'collinett': 832,\n",
       " 'getrix': 833,\n",
       " 'propiedad': 834,\n",
       " 'major': 835,\n",
       " 'isidor': 836,\n",
       " 'urmet': 837,\n",
       " 'speron': 838,\n",
       " 'spoiatoi': 839,\n",
       " 'pft': 840,\n",
       " 'opzion': 841,\n",
       " 'vaj': 842,\n",
       " 'complic': 843,\n",
       " 'apimmobil': 844,\n",
       " 'burocr': 845,\n",
       " 'provved': 846,\n",
       " 'environ': 847,\n",
       " 'siacc': 848,\n",
       " 'realment': 849,\n",
       " 'primul': 850,\n",
       " 'accett': 851,\n",
       " 'kikx': 852,\n",
       " 'buy': 853,\n",
       " 'pregevolissim': 854,\n",
       " 'ultrasuon': 855,\n",
       " 'perin': 856,\n",
       " 'istitu': 857,\n",
       " 'beccafum': 858,\n",
       " 'casalpalocc': 859,\n",
       " 'plauz': 860,\n",
       " 'mf': 861,\n",
       " 'sx': 862,\n",
       " 'romacas': 863,\n",
       " 'premier': 864,\n",
       " 'quadricam': 865,\n",
       " 'menz': 866,\n",
       " 'achillin': 867,\n",
       " 'presenz': 868,\n",
       " 'soppalc': 869,\n",
       " 'collegatissim': 870,\n",
       " 'rm': 871,\n",
       " 'parnas': 872,\n",
       " 'tribunal': 873,\n",
       " 'preferenc': 874,\n",
       " 'imbrecc': 875,\n",
       " 'agi': 876,\n",
       " 'intermed': 877,\n",
       " 'blu': 878,\n",
       " 'circoscr': 879,\n",
       " 'redditiz': 880,\n",
       " 'bond': 881,\n",
       " 'conten': 882,\n",
       " 'lion': 883,\n",
       " 'falcucc': 884,\n",
       " 'agripp': 885,\n",
       " 'iimmed': 886,\n",
       " 'residenzecittaverd': 887,\n",
       " 'perfezion': 888,\n",
       " 'conqu': 889,\n",
       " 'facilissim': 890,\n",
       " 'calatagiron': 891,\n",
       " 'agrifogl': 892,\n",
       " 'acton': 893,\n",
       " 'àre': 894,\n",
       " 'primis': 895,\n",
       " 'vestiar': 896,\n",
       " 'encontr': 897,\n",
       " 'rivaron': 898,\n",
       " 'trenic': 899,\n",
       " 'immobilifrimm': 900,\n",
       " 'conduttor': 901,\n",
       " 'm²ann': 902,\n",
       " 'nazz': 903,\n",
       " 'compiut': 904,\n",
       " 'distinctly': 905,\n",
       " 'dioclez': 906,\n",
       " 'vitaliz': 907,\n",
       " 'cinquin': 908,\n",
       " 'boccanegr': 909,\n",
       " 'lavagn': 910,\n",
       " 'polivalent': 911,\n",
       " 'remplacè': 912,\n",
       " 'abigaill': 913,\n",
       " 'dusmet': 914,\n",
       " 'campan': 915,\n",
       " 'ambit': 916,\n",
       " 'ricover': 917,\n",
       " 'broffer': 918,\n",
       " 'germ': 919,\n",
       " 'chiamatec': 920,\n",
       " 'tiran': 921,\n",
       " 'trissin': 922,\n",
       " 'toncell': 923,\n",
       " 'impieg': 924,\n",
       " 'giust': 925,\n",
       " 'promoss': 926,\n",
       " 'bawah': 927,\n",
       " 'ascan': 928,\n",
       " 'quintilian': 929,\n",
       " 'parrucc': 930,\n",
       " 'postegg': 931,\n",
       " 'grafic': 932,\n",
       " 'entusiasm': 933,\n",
       " 'montecitor': 934,\n",
       " 'sit': 935,\n",
       " 'exposiciòn': 936,\n",
       " 'digit': 937,\n",
       " 'farmarc': 938,\n",
       " 'mezzocamin': 939,\n",
       " 'nemorens': 940,\n",
       " 'multiespost': 941,\n",
       " 'atene': 942,\n",
       " 'melain': 943,\n",
       " 'loanabl': 944,\n",
       " 'ulmo': 945,\n",
       " 'glaud': 946,\n",
       " 'aspxhttp': 947,\n",
       " 'pagin': 948,\n",
       " 'curzolan': 949,\n",
       " 'years': 950,\n",
       " 'sgm': 951,\n",
       " 'sugger': 952,\n",
       " 'repubbl': 953,\n",
       " 'fogl': 954,\n",
       " 'unpost': 955,\n",
       " 'margutt': 956,\n",
       " 'izziimmobil': 957,\n",
       " 'ciò': 958,\n",
       " 'autostrad': 959,\n",
       " 'compl': 960,\n",
       " 'faldell': 961,\n",
       " 'adherenc': 962,\n",
       " 'baj': 963,\n",
       " 'sid': 964,\n",
       " 'vatican': 965,\n",
       " 'succursal': 966,\n",
       " 'gassman': 967,\n",
       " 'obbiett': 968,\n",
       " 'teofrast': 969,\n",
       " 'ètag': 970,\n",
       " 'mirk': 971,\n",
       " 'libr': 972,\n",
       " 'interezz': 973,\n",
       " 'termosifon': 974,\n",
       " 'pianellar': 975,\n",
       " 'crescenz': 976,\n",
       " 'parafarmac': 977,\n",
       " 'serviziimmobiliarifiden': 978,\n",
       " 'cartagin': 979,\n",
       " 'castigl': 980,\n",
       " 'tavolin': 981,\n",
       " 'insert': 982,\n",
       " 'team': 983,\n",
       " 'italb': 984,\n",
       " 'sovrappost': 985,\n",
       " 'attrazion': 986,\n",
       " 'bindell': 987,\n",
       " 'dpr': 988,\n",
       " 'intratten': 989,\n",
       " 'antischegg': 990,\n",
       " 'zazzar': 991,\n",
       " 'rif_': 992,\n",
       " 'ribott': 993,\n",
       " 'giardinagg': 994,\n",
       " 'castelbianc': 995,\n",
       " 'laur': 996,\n",
       " 'lucchin': 997,\n",
       " 'precisman': 998,\n",
       " 'variant': 999,\n",
       " ...}"
      ]
     },
     "execution_count": 27,
     "metadata": {},
     "output_type": "execute_result"
    }
   ],
   "source": [
    "vocabulary"
   ]
  },
  {
   "cell_type": "code",
   "execution_count": 28,
   "metadata": {},
   "outputs": [],
   "source": [
    "#Saving vocabulary as a dictionary into a \"vocabulary.p\" (pickle) file\n",
    "\n",
    "#21370 what else should we eliminate from the words??\n",
    "pickle.dump(vocabulary, open(\"vocabulary.p\", \"wb\"))"
   ]
  },
  {
   "cell_type": "code",
   "execution_count": 29,
   "metadata": {},
   "outputs": [],
   "source": [
    "#To load it into memory from file\n",
    "vocabulary = pickle.load(open(\"vocabulary.p\", \"rb\"))"
   ]
  },
  {
   "cell_type": "markdown",
   "metadata": {},
   "source": [
    "TF(t) = (Number of times term t appears in a document) / (Total number of terms in the document)\n",
    "every row is a separate house(which is considered as a separate document)"
   ]
  },
  {
   "cell_type": "code",
   "execution_count": 30,
   "metadata": {},
   "outputs": [],
   "source": [
    "####NEED TO change and finish it in ORDER TO CALCULATE TF_IDF VALUES \n",
    "def compute_inverted_idx(res,vocabulary):\n",
    "    \"\"\"\n",
    "    method that computes an inverted index\n",
    "    \n",
    "    input: res(list of lists), vocabulary(dictionary of all unique words, key=term, value=term_id)\n",
    "    output: inverted_idx(dictionary, key=term_id, value=list of document_ids(rows)) \n",
    "    \"\"\"\n",
    "    #initialize defaultdict for making an inverted index\n",
    "    inverted_idx = defaultdict(list)\n",
    "    #in every document look for every word and assign document id to the words which belong to it\n",
    "    for idx,lst in enumerate(res):\n",
    "        lst=((pd.Series(lst).value_counts())/len(lst)).sort_index()\n",
    "\n",
    "        #lst=set(lst)\n",
    "        for i,tf in enumerate(lst):\n",
    "            inverted_idx[lst.index[i]].append((idx,tf))\n",
    "    return inverted_idx"
   ]
  },
  {
   "cell_type": "code",
   "execution_count": 31,
   "metadata": {
    "scrolled": false
   },
   "outputs": [],
   "source": [
    "inverted_idx=compute_inverted_idx(res,vocabulary)"
   ]
  },
  {
   "cell_type": "code",
   "execution_count": 32,
   "metadata": {},
   "outputs": [
    {
     "data": {
      "text/plain": [
       "14342"
      ]
     },
     "execution_count": 32,
     "metadata": {},
     "output_type": "execute_result"
    }
   ],
   "source": [
    "len(inverted_idx)\n",
    "#dictionary->key=term_id,  value= (document_id,tf_value)"
   ]
  },
  {
   "cell_type": "code",
   "execution_count": 33,
   "metadata": {},
   "outputs": [
    {
     "data": {
      "text/plain": [
       "12"
      ]
     },
     "execution_count": 33,
     "metadata": {},
     "output_type": "execute_result"
    }
   ],
   "source": [
    "len(inverted_idx['plus'])"
   ]
  },
  {
   "cell_type": "code",
   "execution_count": 34,
   "metadata": {},
   "outputs": [
    {
     "data": {
      "text/plain": [
       "[(942, 0.004366812227074236),\n",
       " (1377, 0.0025),\n",
       " (1774, 0.008403361344537815),\n",
       " (2975, 0.00411522633744856),\n",
       " (4448, 0.0036363636363636364),\n",
       " (4983, 0.0040650406504065045),\n",
       " (5028, 0.0078125),\n",
       " (5219, 0.0036363636363636364),\n",
       " (6420, 0.013888888888888888),\n",
       " (6659, 0.005235602094240838),\n",
       " (7597, 0.007936507936507936),\n",
       " (10345, 0.006578947368421052)]"
      ]
     },
     "execution_count": 34,
     "metadata": {},
     "output_type": "execute_result"
    }
   ],
   "source": [
    "inverted_idx['plus']"
   ]
  },
  {
   "cell_type": "code",
   "execution_count": 35,
   "metadata": {},
   "outputs": [],
   "source": [
    "#Saving inverted_idx as a dictionary into a \"inverted_idx.p\" (pickle) file\n",
    "pickle.dump(inverted_idx, open(\"inverted_idx.p\", \"wb\"))"
   ]
  },
  {
   "cell_type": "code",
   "execution_count": 36,
   "metadata": {},
   "outputs": [],
   "source": [
    "#dictionary->key=doc_id,word,  value=tfidf---. sequentially for each word in vocab\n",
    "tf_idf_dic={}\n",
    "total_num_docs=description_dataset.shape[0]\n",
    "\n",
    "    #dictionary->key=term_id, value= (document_id,tf_value)\n",
    "for term,tup_pair in inverted_idx.items():\n",
    "    for doc_id,tf_value in tup_pair:\n",
    "        tf_idf_dic[(doc_id,term)]= np.log(total_num_docs/len(inverted_idx[term]))*tf_value"
   ]
  },
  {
   "cell_type": "code",
   "execution_count": 37,
   "metadata": {},
   "outputs": [],
   "source": [
    "#Saving inverted_idx as a dictionary into a \"inverted_idx.p\" (pickle) file\n",
    "\n",
    "pickle.dump(tf_idf_dic, open(\"tf_idf_dic.p\", \"wb\"))"
   ]
  },
  {
   "cell_type": "code",
   "execution_count": 38,
   "metadata": {},
   "outputs": [
    {
     "data": {
      "text/plain": [
       "863552"
      ]
     },
     "execution_count": 38,
     "metadata": {},
     "output_type": "execute_result"
    }
   ],
   "source": [
    "len(tf_idf_dic)"
   ]
  },
  {
   "cell_type": "code",
   "execution_count": 39,
   "metadata": {},
   "outputs": [
    {
     "data": {
      "text/plain": [
       "0.02969384992622791"
      ]
     },
     "execution_count": 39,
     "metadata": {},
     "output_type": "execute_result"
    }
   ],
   "source": [
    "tf_idf_dic[942,'plus']"
   ]
  },
  {
   "cell_type": "code",
   "execution_count": 58,
   "metadata": {},
   "outputs": [
    {
     "ename": "MemoryError",
     "evalue": "",
     "output_type": "error",
     "traceback": [
      "\u001b[1;31m---------------------------------------------------------------------------\u001b[0m",
      "\u001b[1;31mMemoryError\u001b[0m                               Traceback (most recent call last)",
      "\u001b[1;32m<ipython-input-58-b8a3118beffa>\u001b[0m in \u001b[0;36m<module>\u001b[1;34m()\u001b[0m\n\u001b[0;32m      7\u001b[0m         \u001b[1;32mexcept\u001b[0m\u001b[1;33m:\u001b[0m\u001b[1;33m\u001b[0m\u001b[0m\n\u001b[0;32m      8\u001b[0m             \u001b[0mtemp_row_values\u001b[0m\u001b[1;33m.\u001b[0m\u001b[0mappend\u001b[0m\u001b[1;33m(\u001b[0m\u001b[1;36m0\u001b[0m\u001b[1;33m)\u001b[0m\u001b[1;33m\u001b[0m\u001b[0m\n\u001b[1;32m----> 9\u001b[1;33m     \u001b[0mdescription_dataset\u001b[0m\u001b[1;33m[\u001b[0m\u001b[0mrow\u001b[0m\u001b[1;33m]\u001b[0m\u001b[1;33m=\u001b[0m\u001b[0mtemp_row_values\u001b[0m\u001b[1;33m\u001b[0m\u001b[0m\n\u001b[0m",
      "\u001b[1;32mC:\\Users\\Dusica\\Anaconda3\\lib\\site-packages\\pandas\\core\\frame.py\u001b[0m in \u001b[0;36m__setitem__\u001b[1;34m(self, key, value)\u001b[0m\n\u001b[0;32m   2329\u001b[0m         \u001b[1;32melse\u001b[0m\u001b[1;33m:\u001b[0m\u001b[1;33m\u001b[0m\u001b[0m\n\u001b[0;32m   2330\u001b[0m             \u001b[1;31m# set column\u001b[0m\u001b[1;33m\u001b[0m\u001b[1;33m\u001b[0m\u001b[0m\n\u001b[1;32m-> 2331\u001b[1;33m             \u001b[0mself\u001b[0m\u001b[1;33m.\u001b[0m\u001b[0m_set_item\u001b[0m\u001b[1;33m(\u001b[0m\u001b[0mkey\u001b[0m\u001b[1;33m,\u001b[0m \u001b[0mvalue\u001b[0m\u001b[1;33m)\u001b[0m\u001b[1;33m\u001b[0m\u001b[0m\n\u001b[0m\u001b[0;32m   2332\u001b[0m \u001b[1;33m\u001b[0m\u001b[0m\n\u001b[0;32m   2333\u001b[0m     \u001b[1;32mdef\u001b[0m \u001b[0m_setitem_slice\u001b[0m\u001b[1;33m(\u001b[0m\u001b[0mself\u001b[0m\u001b[1;33m,\u001b[0m \u001b[0mkey\u001b[0m\u001b[1;33m,\u001b[0m \u001b[0mvalue\u001b[0m\u001b[1;33m)\u001b[0m\u001b[1;33m:\u001b[0m\u001b[1;33m\u001b[0m\u001b[0m\n",
      "\u001b[1;32mC:\\Users\\Dusica\\Anaconda3\\lib\\site-packages\\pandas\\core\\frame.py\u001b[0m in \u001b[0;36m_set_item\u001b[1;34m(self, key, value)\u001b[0m\n\u001b[0;32m   2394\u001b[0m         \"\"\"\n\u001b[0;32m   2395\u001b[0m \u001b[1;33m\u001b[0m\u001b[0m\n\u001b[1;32m-> 2396\u001b[1;33m         \u001b[0mself\u001b[0m\u001b[1;33m.\u001b[0m\u001b[0m_ensure_valid_index\u001b[0m\u001b[1;33m(\u001b[0m\u001b[0mvalue\u001b[0m\u001b[1;33m)\u001b[0m\u001b[1;33m\u001b[0m\u001b[0m\n\u001b[0m\u001b[0;32m   2397\u001b[0m         \u001b[0mvalue\u001b[0m \u001b[1;33m=\u001b[0m \u001b[0mself\u001b[0m\u001b[1;33m.\u001b[0m\u001b[0m_sanitize_column\u001b[0m\u001b[1;33m(\u001b[0m\u001b[0mkey\u001b[0m\u001b[1;33m,\u001b[0m \u001b[0mvalue\u001b[0m\u001b[1;33m)\u001b[0m\u001b[1;33m\u001b[0m\u001b[0m\n\u001b[0;32m   2398\u001b[0m         \u001b[0mNDFrame\u001b[0m\u001b[1;33m.\u001b[0m\u001b[0m_set_item\u001b[0m\u001b[1;33m(\u001b[0m\u001b[0mself\u001b[0m\u001b[1;33m,\u001b[0m \u001b[0mkey\u001b[0m\u001b[1;33m,\u001b[0m \u001b[0mvalue\u001b[0m\u001b[1;33m)\u001b[0m\u001b[1;33m\u001b[0m\u001b[0m\n",
      "\u001b[1;32mC:\\Users\\Dusica\\Anaconda3\\lib\\site-packages\\pandas\\core\\frame.py\u001b[0m in \u001b[0;36m_ensure_valid_index\u001b[1;34m(self, value)\u001b[0m\n\u001b[0;32m   2381\u001b[0m \u001b[1;33m\u001b[0m\u001b[0m\n\u001b[0;32m   2382\u001b[0m             self._data = self._data.reindex_axis(value.index.copy(), axis=1,\n\u001b[1;32m-> 2383\u001b[1;33m                                                  fill_value=np.nan)\n\u001b[0m\u001b[0;32m   2384\u001b[0m \u001b[1;33m\u001b[0m\u001b[0m\n\u001b[0;32m   2385\u001b[0m     \u001b[1;32mdef\u001b[0m \u001b[0m_set_item\u001b[0m\u001b[1;33m(\u001b[0m\u001b[0mself\u001b[0m\u001b[1;33m,\u001b[0m \u001b[0mkey\u001b[0m\u001b[1;33m,\u001b[0m \u001b[0mvalue\u001b[0m\u001b[1;33m)\u001b[0m\u001b[1;33m:\u001b[0m\u001b[1;33m\u001b[0m\u001b[0m\n",
      "\u001b[1;32mC:\\Users\\Dusica\\Anaconda3\\lib\\site-packages\\pandas\\core\\internals.py\u001b[0m in \u001b[0;36mreindex_axis\u001b[1;34m(self, new_index, axis, method, limit, fill_value, copy)\u001b[0m\n\u001b[0;32m   3856\u001b[0m \u001b[1;33m\u001b[0m\u001b[0m\n\u001b[0;32m   3857\u001b[0m         return self.reindex_indexer(new_index, indexer, axis=axis,\n\u001b[1;32m-> 3858\u001b[1;33m                                     fill_value=fill_value, copy=copy)\n\u001b[0m\u001b[0;32m   3859\u001b[0m \u001b[1;33m\u001b[0m\u001b[0m\n\u001b[0;32m   3860\u001b[0m     def reindex_indexer(self, new_axis, indexer, axis, fill_value=None,\n",
      "\u001b[1;32mC:\\Users\\Dusica\\Anaconda3\\lib\\site-packages\\pandas\\core\\internals.py\u001b[0m in \u001b[0;36mreindex_indexer\u001b[1;34m(self, new_axis, indexer, axis, fill_value, allow_dups, copy)\u001b[0m\n\u001b[0;32m   3895\u001b[0m             new_blocks = [blk.take_nd(indexer, axis=axis, fill_tuple=(\n\u001b[0;32m   3896\u001b[0m                 fill_value if fill_value is not None else blk.fill_value,))\n\u001b[1;32m-> 3897\u001b[1;33m                 for blk in self.blocks]\n\u001b[0m\u001b[0;32m   3898\u001b[0m \u001b[1;33m\u001b[0m\u001b[0m\n\u001b[0;32m   3899\u001b[0m         \u001b[0mnew_axes\u001b[0m \u001b[1;33m=\u001b[0m \u001b[0mlist\u001b[0m\u001b[1;33m(\u001b[0m\u001b[0mself\u001b[0m\u001b[1;33m.\u001b[0m\u001b[0maxes\u001b[0m\u001b[1;33m)\u001b[0m\u001b[1;33m\u001b[0m\u001b[0m\n",
      "\u001b[1;32mC:\\Users\\Dusica\\Anaconda3\\lib\\site-packages\\pandas\\core\\internals.py\u001b[0m in \u001b[0;36m<listcomp>\u001b[1;34m(.0)\u001b[0m\n\u001b[0;32m   3895\u001b[0m             new_blocks = [blk.take_nd(indexer, axis=axis, fill_tuple=(\n\u001b[0;32m   3896\u001b[0m                 fill_value if fill_value is not None else blk.fill_value,))\n\u001b[1;32m-> 3897\u001b[1;33m                 for blk in self.blocks]\n\u001b[0m\u001b[0;32m   3898\u001b[0m \u001b[1;33m\u001b[0m\u001b[0m\n\u001b[0;32m   3899\u001b[0m         \u001b[0mnew_axes\u001b[0m \u001b[1;33m=\u001b[0m \u001b[0mlist\u001b[0m\u001b[1;33m(\u001b[0m\u001b[0mself\u001b[0m\u001b[1;33m.\u001b[0m\u001b[0maxes\u001b[0m\u001b[1;33m)\u001b[0m\u001b[1;33m\u001b[0m\u001b[0m\n",
      "\u001b[1;32mC:\\Users\\Dusica\\Anaconda3\\lib\\site-packages\\pandas\\core\\internals.py\u001b[0m in \u001b[0;36mtake_nd\u001b[1;34m(self, indexer, axis, new_mgr_locs, fill_tuple)\u001b[0m\n\u001b[0;32m   1044\u001b[0m             \u001b[0mfill_value\u001b[0m \u001b[1;33m=\u001b[0m \u001b[0mfill_tuple\u001b[0m\u001b[1;33m[\u001b[0m\u001b[1;36m0\u001b[0m\u001b[1;33m]\u001b[0m\u001b[1;33m\u001b[0m\u001b[0m\n\u001b[0;32m   1045\u001b[0m             new_values = algos.take_nd(values, indexer, axis=axis,\n\u001b[1;32m-> 1046\u001b[1;33m                                        allow_fill=True, fill_value=fill_value)\n\u001b[0m\u001b[0;32m   1047\u001b[0m \u001b[1;33m\u001b[0m\u001b[0m\n\u001b[0;32m   1048\u001b[0m         \u001b[1;32mif\u001b[0m \u001b[0mnew_mgr_locs\u001b[0m \u001b[1;32mis\u001b[0m \u001b[1;32mNone\u001b[0m\u001b[1;33m:\u001b[0m\u001b[1;33m\u001b[0m\u001b[0m\n",
      "\u001b[1;32mC:\\Users\\Dusica\\Anaconda3\\lib\\site-packages\\pandas\\core\\algorithms.py\u001b[0m in \u001b[0;36mtake_nd\u001b[1;34m(arr, indexer, axis, out, fill_value, mask_info, allow_fill)\u001b[0m\n\u001b[0;32m   1465\u001b[0m             \u001b[0mout\u001b[0m \u001b[1;33m=\u001b[0m \u001b[0mnp\u001b[0m\u001b[1;33m.\u001b[0m\u001b[0mempty\u001b[0m\u001b[1;33m(\u001b[0m\u001b[0mout_shape\u001b[0m\u001b[1;33m,\u001b[0m \u001b[0mdtype\u001b[0m\u001b[1;33m=\u001b[0m\u001b[0mdtype\u001b[0m\u001b[1;33m,\u001b[0m \u001b[0morder\u001b[0m\u001b[1;33m=\u001b[0m\u001b[1;34m'F'\u001b[0m\u001b[1;33m)\u001b[0m\u001b[1;33m\u001b[0m\u001b[0m\n\u001b[0;32m   1466\u001b[0m         \u001b[1;32melse\u001b[0m\u001b[1;33m:\u001b[0m\u001b[1;33m\u001b[0m\u001b[0m\n\u001b[1;32m-> 1467\u001b[1;33m             \u001b[0mout\u001b[0m \u001b[1;33m=\u001b[0m \u001b[0mnp\u001b[0m\u001b[1;33m.\u001b[0m\u001b[0mempty\u001b[0m\u001b[1;33m(\u001b[0m\u001b[0mout_shape\u001b[0m\u001b[1;33m,\u001b[0m \u001b[0mdtype\u001b[0m\u001b[1;33m=\u001b[0m\u001b[0mdtype\u001b[0m\u001b[1;33m)\u001b[0m\u001b[1;33m\u001b[0m\u001b[0m\n\u001b[0m\u001b[0;32m   1468\u001b[0m \u001b[1;33m\u001b[0m\u001b[0m\n\u001b[0;32m   1469\u001b[0m     func = _get_take_nd_function(arr.ndim, arr.dtype, out.dtype, axis=axis,\n",
      "\u001b[1;31mMemoryError\u001b[0m: "
     ]
    }
   ],
   "source": [
    "description_dataset=pd.DataFrame(columns=list(vocabulary.keys()))\n",
    "for row in range(data.shape[0]):\n",
    "    temp_row_values=[]\n",
    "    for word in vocabulary:\n",
    "        try:\n",
    "            temp_row_values.append(tf_idf_dic[(doc_id,word)])\n",
    "        except:\n",
    "            temp_row_values.append(0)\n",
    "    description_dataset[row]=temp_row_values"
   ]
  },
  {
   "cell_type": "code",
   "execution_count": 40,
   "metadata": {},
   "outputs": [],
   "source": [
    "description_dataset.to_csv('description_dataset.csv')"
   ]
  },
  {
   "cell_type": "code",
   "execution_count": 41,
   "metadata": {},
   "outputs": [],
   "source": [
    "#TF(t) = (Number of times term t appears in a document) / (Total number of terms in the document)\n",
    "#IDF(t) = log_e(Total number of documents / Number of documents with term t in it)\n",
    "\n",
    "def calculate_tf_idf(description_dataset,inverted_idx,vocabulary):\n",
    "    \"\"\"\n",
    "    method that calculates tf-idf values\n",
    "     \n",
    "    input:  inverted_idx(dictionary, key=term_id, value=list of document_ids)\n",
    "            vocabulary(dictionary of all unique words, key=term, value=term_id)\n",
    "    output: tf_idf_dic(dictionary of tf_idf_values for all rows(docs), key=tuple(term,doc_id), value=tf_idf value)\n",
    "    \"\"\" \n",
    "    \n",
    "    return tf_idf_dic"
   ]
  },
  {
   "cell_type": "code",
   "execution_count": 42,
   "metadata": {},
   "outputs": [],
   "source": [
    "#To load it into memory from file\n",
    "inverted_idx = pickle.load(open(\"inverted_idx.p\", \"rb\"))"
   ]
  },
  {
   "cell_type": "markdown",
   "metadata": {},
   "source": [
    "# Clustering\n",
    "\n",
    "This step consists in _clustering the house announcements_ using **K-means++** and choosing the **optimal** number of clusters using the **Elbow-Method**."
   ]
  },
  {
   "cell_type": "code",
   "execution_count": 43,
   "metadata": {},
   "outputs": [],
   "source": [
    "information_dataset=pd.read_csv('information_dataset.csv')"
   ]
  },
  {
   "cell_type": "code",
   "execution_count": 44,
   "metadata": {},
   "outputs": [],
   "source": [
    "#should we normalize?"
   ]
  },
  {
   "cell_type": "code",
   "execution_count": 45,
   "metadata": {},
   "outputs": [],
   "source": [
    "# Information dataset clustering"
   ]
  },
  {
   "cell_type": "code",
   "execution_count": 46,
   "metadata": {},
   "outputs": [],
   "source": [
    "from sklearn import cluster\n",
    "import matplotlib.pyplot as plt\n",
    "%matplotlib inline\n",
    "from sklearn.cluster import KMeans\n",
    "from sklearn.metrics import silhouette_score"
   ]
  },
  {
   "cell_type": "code",
   "execution_count": 47,
   "metadata": {},
   "outputs": [
    {
     "data": {
      "text/plain": [
       "Text(0.5,1,'Elbow curve')"
      ]
     },
     "execution_count": 47,
     "metadata": {},
     "output_type": "execute_result"
    },
    {
     "data": {
      "image/png": "[encoded data removed]",
      "text/plain": [
       "<matplotlib.figure.Figure at 0x1d3b5730>"
      ]
     },
     "metadata": {},
     "output_type": "display_data"
    }
   ],
   "source": [
    "X=information_dataset.loc[:,['price','locali','superficie','bagni','piano']]\n",
    "distorsions = []\n",
    "for k in range(1, 11):\n",
    "    kmeans = KMeans(n_clusters=k,init='k-means++')\n",
    "    kmeans.fit(X)\n",
    "    distorsions.append(kmeans.inertia_)\n",
    "\n",
    "fig = plt.figure(figsize=(15, 5))\n",
    "plt.plot(range(1, 11), distorsions)\n",
    "plt.grid(True)\n",
    "plt.title('Elbow curve')\n",
    "# Inertia: Sum of distances of samples to their closest cluster center"
   ]
  },
  {
   "cell_type": "markdown",
   "metadata": {},
   "source": [
    "We chose blabla clusters:\n",
    "Becausee"
   ]
  },
  {
   "cell_type": "code",
   "execution_count": 48,
   "metadata": {},
   "outputs": [
    {
     "data": {
      "text/plain": [
       "KMeans(algorithm='auto', copy_x=True, init='k-means++', max_iter=300,\n",
       "    n_clusters=3, n_init=10, n_jobs=1, precompute_distances='auto',\n",
       "    random_state=None, tol=0.0001, verbose=0)"
      ]
     },
     "execution_count": 48,
     "metadata": {},
     "output_type": "execute_result"
    }
   ],
   "source": [
    "k=3\n",
    "kmeans = KMeans(n_clusters=k,init='k-means++')\n",
    "kmeans.fit(X)"
   ]
  },
  {
   "cell_type": "code",
   "execution_count": 49,
   "metadata": {},
   "outputs": [
    {
     "data": {
      "text/plain": [
       "array([[5.12316100e+05, 3.83788774e+00, 1.24613368e+02, 1.84711965e+00,\n",
       "        2.47525849e+00],\n",
       "       [2.21033802e+05, 2.76065277e+00, 4.62876829e+02, 1.28726849e+00,\n",
       "        2.03794845e+00],\n",
       "       [1.13150727e+06, 4.28779070e+00, 1.66063953e+02, 2.22093023e+00,\n",
       "        2.65116279e+00]])"
      ]
     },
     "execution_count": 49,
     "metadata": {},
     "output_type": "execute_result"
    }
   ],
   "source": [
    "#centroids are:\n",
    "kmeans.cluster_centers_"
   ]
  },
  {
   "cell_type": "code",
   "execution_count": 50,
   "metadata": {},
   "outputs": [
    {
     "data": {
      "text/plain": [
       "Index(['Unnamed: 0', 'price', 'locali', 'superficie', 'bagni', 'piano'], dtype='object')"
      ]
     },
     "execution_count": 50,
     "metadata": {},
     "output_type": "execute_result"
    }
   ],
   "source": [
    "information_dataset.columns"
   ]
  },
  {
   "cell_type": "code",
   "execution_count": 51,
   "metadata": {},
   "outputs": [
    {
     "data": {
      "text/html": [
       "<div>\n",
       "<style>\n",
       "    .dataframe thead tr:only-child th {\n",
       "        text-align: right;\n",
       "    }\n",
       "\n",
       "    .dataframe thead th {\n",
       "        text-align: left;\n",
       "    }\n",
       "\n",
       "    .dataframe tbody tr th {\n",
       "        vertical-align: top;\n",
       "    }\n",
       "</style>\n",
       "<table border=\"1\" class=\"dataframe\">\n",
       "  <thead>\n",
       "    <tr style=\"text-align: right;\">\n",
       "      <th></th>\n",
       "      <th>price</th>\n",
       "      <th>locali</th>\n",
       "      <th>superficie</th>\n",
       "      <th>bagni</th>\n",
       "      <th>piano</th>\n",
       "    </tr>\n",
       "  </thead>\n",
       "  <tbody>\n",
       "    <tr>\n",
       "      <th>0</th>\n",
       "      <td>5.123161e+05</td>\n",
       "      <td>3.837888</td>\n",
       "      <td>124.613368</td>\n",
       "      <td>1.847120</td>\n",
       "      <td>2.475258</td>\n",
       "    </tr>\n",
       "    <tr>\n",
       "      <th>1</th>\n",
       "      <td>2.210338e+05</td>\n",
       "      <td>2.760653</td>\n",
       "      <td>462.876829</td>\n",
       "      <td>1.287268</td>\n",
       "      <td>2.037948</td>\n",
       "    </tr>\n",
       "    <tr>\n",
       "      <th>2</th>\n",
       "      <td>1.131507e+06</td>\n",
       "      <td>4.287791</td>\n",
       "      <td>166.063953</td>\n",
       "      <td>2.220930</td>\n",
       "      <td>2.651163</td>\n",
       "    </tr>\n",
       "  </tbody>\n",
       "</table>\n",
       "</div>"
      ],
      "text/plain": [
       "          price    locali  superficie     bagni     piano\n",
       "0  5.123161e+05  3.837888  124.613368  1.847120  2.475258\n",
       "1  2.210338e+05  2.760653  462.876829  1.287268  2.037948\n",
       "2  1.131507e+06  4.287791  166.063953  2.220930  2.651163"
      ]
     },
     "execution_count": 51,
     "metadata": {},
     "output_type": "execute_result"
    }
   ],
   "source": [
    "cluster_representatives=pd.DataFrame(kmeans.cluster_centers_, columns= information_dataset.columns[1:])\n",
    "cluster_representatives"
   ]
  },
  {
   "cell_type": "code",
   "execution_count": 52,
   "metadata": {},
   "outputs": [
    {
     "data": {
      "text/plain": [
       "[<matplotlib.lines.Line2D at 0x1d863ad0>]"
      ]
     },
     "execution_count": 52,
     "metadata": {},
     "output_type": "execute_result"
    },
    {
     "data": {
      "image/png": "[encoded data removed]",
      "text/plain": [
       "<matplotlib.figure.Figure at 0x1d62f830>"
      ]
     },
     "metadata": {},
     "output_type": "display_data"
    }
   ],
   "source": [
    "a=cluster_representatives.melt()\n",
    "b=a.value\n",
    "b1=a.variable\n",
    "plt.plot(b,b1,'o')"
   ]
  },
  {
   "cell_type": "code",
   "execution_count": 53,
   "metadata": {},
   "outputs": [],
   "source": [
    "kmeans.cluster_centers_.shape[0]\n",
    "labels=kmeans.labels_\n",
    "centers = np.array(kmeans.cluster_centers_)"
   ]
  },
  {
   "cell_type": "code",
   "execution_count": 54,
   "metadata": {},
   "outputs": [
    {
     "data": {
      "text/plain": [
       "array([[5.12316100e+05, 3.83788774e+00, 1.24613368e+02, 1.84711965e+00,\n",
       "        2.47525849e+00],\n",
       "       [2.21033802e+05, 2.76065277e+00, 4.62876829e+02, 1.28726849e+00,\n",
       "        2.03794845e+00],\n",
       "       [1.13150727e+06, 4.28779070e+00, 1.66063953e+02, 2.22093023e+00,\n",
       "        2.65116279e+00]])"
      ]
     },
     "execution_count": 54,
     "metadata": {},
     "output_type": "execute_result"
    }
   ],
   "source": [
    "centers"
   ]
  },
  {
   "cell_type": "code",
   "execution_count": 55,
   "metadata": {},
   "outputs": [
    {
     "data": {
      "text/plain": [
       "array([ 512316.10044314,  221033.80158011, 1131507.26744186])"
      ]
     },
     "execution_count": 55,
     "metadata": {},
     "output_type": "execute_result"
    }
   ],
   "source": [
    "#price centroids\n",
    "centers[:,0]"
   ]
  },
  {
   "cell_type": "code",
   "execution_count": 56,
   "metadata": {},
   "outputs": [
    {
     "data": {
      "text/plain": [
       "<matplotlib.collections.PathCollection at 0x1d936550>"
      ]
     },
     "execution_count": 56,
     "metadata": {},
     "output_type": "execute_result"
    },
    {
     "data": {
      "image/png": "[encoded data removed]",
      "text/plain": [
       "<matplotlib.figure.Figure at 0x1d63dcf0>"
      ]
     },
     "metadata": {},
     "output_type": "display_data"
    }
   ],
   "source": [
    "number_of_clusters=kmeans.cluster_centers_.shape[0]\n",
    "\n",
    "#centroidi klastera\n",
    "\n",
    "\n",
    "#Centroid's visualization\n",
    "#for price and superficie\n",
    "centers = np.array(kmeans.cluster_centers_)\n",
    "plt.scatter(centers[:,0], centers[:,2], marker=\"x\", color='r')"
   ]
  },
  {
   "cell_type": "code",
   "execution_count": 57,
   "metadata": {},
   "outputs": [],
   "source": [
    "# Description dataset clustering"
   ]
  },
  {
   "cell_type": "code",
   "execution_count": null,
   "metadata": {},
   "outputs": [],
   "source": []
  },
  {
   "cell_type": "code",
   "execution_count": null,
   "metadata": {},
   "outputs": [],
   "source": []
  }
 ],
 "metadata": {
  "kernelspec": {
   "display_name": "Python 3",
   "language": "python",
   "name": "python3"
  },
  "language_info": {
   "codemirror_mode": {
    "name": "ipython",
    "version": 3
   },
   "file_extension": ".py",
   "mimetype": "text/x-python",
   "name": "python",
   "nbconvert_exporter": "python",
   "pygments_lexer": "ipython3",
   "version": "3.6.3"
  }
 },
 "nbformat": 4,
 "nbformat_minor": 2
}
